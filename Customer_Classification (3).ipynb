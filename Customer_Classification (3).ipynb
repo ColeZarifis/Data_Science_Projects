{
  "nbformat": 4,
  "nbformat_minor": 0,
  "metadata": {
    "colab": {
      "provenance": [],
      "toc_visible": true
    },
    "kernelspec": {
      "name": "python3",
      "display_name": "Python 3"
    },
    "language_info": {
      "name": "python"
    }
  },
  "cells": [
    {
      "cell_type": "markdown",
      "source": [
        "# Bank Customer Segmentation\n",
        "\n",
        "Customer segmentation is the process in which you divide your customer base by common characteristics using an unsupervised learning algorith.  In this project we will be using K-means to understand different groups and their characteristics.\n",
        "\n",
        "\n"
      ],
      "metadata": {
        "id": "UGEDEzMSys7p"
      }
    },
    {
      "cell_type": "markdown",
      "source": [
        "### About The Dataset\n",
        "\n"
      ],
      "metadata": {
        "id": "sFII_y9lzYgl"
      }
    },
    {
      "cell_type": "markdown",
      "source": [
        "The [Bank Customer Segmentation](https://https://www.kaggle.com/datasets/shivamb/bank-customer-segmentation?resource=download) dataset has been pulled from Kaggle.  The description of the data set is as follows:\n",
        "\n",
        "*This dataset consists of 1 Million+ transaction by over 800K customers for a bank in India. The data contains information such as - customer age (DOB), location, gender, account balance at the time of the transaction, transaction details, transaction amount, etc.*\n",
        "\n",
        "We will begin by importing the necessary libraries and begin by cleaning our dataset."
      ],
      "metadata": {
        "id": "2ddKJxqCzw-J"
      }
    },
    {
      "cell_type": "markdown",
      "source": [
        "# Data Exploration"
      ],
      "metadata": {
        "id": "rtGAgQm63Oha"
      }
    },
    {
      "cell_type": "markdown",
      "source": [
        "## Importing the Dataset\n"
      ],
      "metadata": {
        "id": "tkG5zKKk3YXN"
      }
    },
    {
      "cell_type": "markdown",
      "source": [
        "Starting off by importing necessary libraries"
      ],
      "metadata": {
        "id": "_tLEj6jh3usb"
      }
    },
    {
      "cell_type": "code",
      "source": [
        "!pip install --upgrade kneed\n",
        "!pip install pca"
      ],
      "metadata": {
        "colab": {
          "base_uri": "https://localhost:8080/"
        },
        "id": "MWF0FyHufvMF",
        "outputId": "a8729319-2576-444d-fe27-1a5cbcf695ab"
      },
      "execution_count": 109,
      "outputs": [
        {
          "output_type": "stream",
          "name": "stdout",
          "text": [
            "Looking in indexes: https://pypi.org/simple, https://us-python.pkg.dev/colab-wheels/public/simple/\n",
            "Requirement already satisfied: kneed in /usr/local/lib/python3.8/dist-packages (0.8.2)\n",
            "Requirement already satisfied: scipy>=1.0.0 in /usr/local/lib/python3.8/dist-packages (from kneed) (1.7.3)\n",
            "Requirement already satisfied: numpy>=1.14.2 in /usr/local/lib/python3.8/dist-packages (from kneed) (1.21.6)\n",
            "Looking in indexes: https://pypi.org/simple, https://us-python.pkg.dev/colab-wheels/public/simple/\n",
            "Requirement already satisfied: pca in /usr/local/lib/python3.8/dist-packages (1.8.6)\n",
            "Requirement already satisfied: wget in /usr/local/lib/python3.8/dist-packages (from pca) (3.2)\n",
            "Requirement already satisfied: tqdm in /usr/local/lib/python3.8/dist-packages (from pca) (4.64.1)\n",
            "Requirement already satisfied: adjustText in /usr/local/lib/python3.8/dist-packages (from pca) (0.7.3)\n",
            "Requirement already satisfied: scatterd>=1.2.5 in /usr/local/lib/python3.8/dist-packages (from pca) (1.2.5)\n",
            "Requirement already satisfied: scikit-learn in /usr/local/lib/python3.8/dist-packages (from pca) (1.0.2)\n",
            "Requirement already satisfied: scipy in /usr/local/lib/python3.8/dist-packages (from pca) (1.7.3)\n",
            "Requirement already satisfied: pandas in /usr/local/lib/python3.8/dist-packages (from pca) (1.3.5)\n",
            "Requirement already satisfied: colourmap>=1.1.10 in /usr/local/lib/python3.8/dist-packages (from pca) (1.1.10)\n",
            "Requirement already satisfied: matplotlib in /usr/local/lib/python3.8/dist-packages (from pca) (3.2.2)\n",
            "Requirement already satisfied: numpy in /usr/local/lib/python3.8/dist-packages (from pca) (1.21.6)\n",
            "Requirement already satisfied: requests in /usr/local/lib/python3.8/dist-packages (from scatterd>=1.2.5->pca) (2.25.1)\n",
            "Requirement already satisfied: seaborn in /usr/local/lib/python3.8/dist-packages (from scatterd>=1.2.5->pca) (0.11.2)\n",
            "Requirement already satisfied: pyparsing!=2.0.4,!=2.1.2,!=2.1.6,>=2.0.1 in /usr/local/lib/python3.8/dist-packages (from matplotlib->pca) (3.0.9)\n",
            "Requirement already satisfied: cycler>=0.10 in /usr/local/lib/python3.8/dist-packages (from matplotlib->pca) (0.11.0)\n",
            "Requirement already satisfied: python-dateutil>=2.1 in /usr/local/lib/python3.8/dist-packages (from matplotlib->pca) (2.8.2)\n",
            "Requirement already satisfied: kiwisolver>=1.0.1 in /usr/local/lib/python3.8/dist-packages (from matplotlib->pca) (1.4.4)\n",
            "Requirement already satisfied: pytz>=2017.3 in /usr/local/lib/python3.8/dist-packages (from pandas->pca) (2022.7.1)\n",
            "Requirement already satisfied: joblib>=0.11 in /usr/local/lib/python3.8/dist-packages (from scikit-learn->pca) (1.2.0)\n",
            "Requirement already satisfied: threadpoolctl>=2.0.0 in /usr/local/lib/python3.8/dist-packages (from scikit-learn->pca) (3.1.0)\n",
            "Requirement already satisfied: six>=1.5 in /usr/local/lib/python3.8/dist-packages (from python-dateutil>=2.1->matplotlib->pca) (1.15.0)\n",
            "Requirement already satisfied: chardet<5,>=3.0.2 in /usr/local/lib/python3.8/dist-packages (from requests->scatterd>=1.2.5->pca) (4.0.0)\n",
            "Requirement already satisfied: idna<3,>=2.5 in /usr/local/lib/python3.8/dist-packages (from requests->scatterd>=1.2.5->pca) (2.10)\n",
            "Requirement already satisfied: urllib3<1.27,>=1.21.1 in /usr/local/lib/python3.8/dist-packages (from requests->scatterd>=1.2.5->pca) (1.24.3)\n",
            "Requirement already satisfied: certifi>=2017.4.17 in /usr/local/lib/python3.8/dist-packages (from requests->scatterd>=1.2.5->pca) (2022.12.7)\n"
          ]
        }
      ]
    },
    {
      "cell_type": "code",
      "source": [
        "import seaborn as sns\n",
        "import numpy as np\n",
        "import pandas as pd\n",
        "import matplotlib.pyplot as plt\n",
        "import regex as re\n",
        "from datetime import datetime, date\n",
        "from sklearn import preprocessing\n",
        "from sklearn.datasets import make_blobs\n",
        "from sklearn.cluster import KMeans\n",
        "from sklearn.metrics import silhouette_score\n",
        "from kneed import KneeLocator\n",
        "from sklearn.cluster import AgglomerativeClustering\n",
        "import scipy.cluster.hierarchy as sch\n",
        "from sklearn.decomposition import PCA\n",
        "from sklearn.cluster import Birch\n",
        "from sklearn import metrics\n",
        "from sklearn.preprocessing import StandardScaler"
      ],
      "metadata": {
        "id": "NDG6UuKk3eba"
      },
      "execution_count": 169,
      "outputs": []
    },
    {
      "cell_type": "markdown",
      "source": [
        "Importing the Dataset "
      ],
      "metadata": {
        "id": "KWS9sBW535ia"
      }
    },
    {
      "cell_type": "code",
      "source": [
        "df = pd.read_csv(\"/content/Customer Segmentation.csv\")\n",
        "df.head(10)"
      ],
      "metadata": {
        "colab": {
          "base_uri": "https://localhost:8080/",
          "height": 363
        },
        "id": "UXXACoMo34ub",
        "outputId": "86bcf14d-0fa1-4df4-c7eb-557a75441e22"
      },
      "execution_count": 111,
      "outputs": [
        {
          "output_type": "execute_result",
          "data": {
            "text/plain": [
              "  TransactionID CustomerID CustomerDOB CustGender CustLocation  \\\n",
              "0            T1   C5841053   10/1/1994          F   JAMSHEDPUR   \n",
              "1            T2   C2142763    4/4/1957          M      JHAJJAR   \n",
              "2            T3   C4417068    26/11/96          F       MUMBAI   \n",
              "3            T4   C5342380     14/9/73          F       MUMBAI   \n",
              "4            T5   C9031234     24/3/88          F  NAVI MUMBAI   \n",
              "5            T6   C1536588   8/10/1972          F     ITANAGAR   \n",
              "6            T7   C7126560     26/1/92          F       MUMBAI   \n",
              "7            T8   C1220223     27/1/82          M       MUMBAI   \n",
              "8            T9   C8536061     19/4/88          F      GURGAON   \n",
              "9           T10   C6638934     22/6/84          M       MUMBAI   \n",
              "\n",
              "   CustAccountBalance TransactionDate  TransactionTime  \\\n",
              "0            17819.05        2/8/2016           143207   \n",
              "1             2270.69        2/8/2016           141858   \n",
              "2            17874.44        2/8/2016           142712   \n",
              "3           866503.21        2/8/2016           142714   \n",
              "4             6714.43        2/8/2016           181156   \n",
              "5            53609.20        2/8/2016           173940   \n",
              "6              973.46        2/8/2016           173806   \n",
              "7            95075.54        2/8/2016           170537   \n",
              "8            14906.96        2/8/2016           192825   \n",
              "9             4279.22        2/8/2016           192446   \n",
              "\n",
              "   TransactionAmount (INR)  \n",
              "0                    25.00  \n",
              "1                 27999.00  \n",
              "2                   459.00  \n",
              "3                  2060.00  \n",
              "4                  1762.50  \n",
              "5                   676.00  \n",
              "6                   566.00  \n",
              "7                   148.00  \n",
              "8                   833.00  \n",
              "9                   289.11  "
            ],
            "text/html": [
              "\n",
              "  <div id=\"df-0fc03092-79c8-48e8-a47e-87d5f59b0d9a\">\n",
              "    <div class=\"colab-df-container\">\n",
              "      <div>\n",
              "<style scoped>\n",
              "    .dataframe tbody tr th:only-of-type {\n",
              "        vertical-align: middle;\n",
              "    }\n",
              "\n",
              "    .dataframe tbody tr th {\n",
              "        vertical-align: top;\n",
              "    }\n",
              "\n",
              "    .dataframe thead th {\n",
              "        text-align: right;\n",
              "    }\n",
              "</style>\n",
              "<table border=\"1\" class=\"dataframe\">\n",
              "  <thead>\n",
              "    <tr style=\"text-align: right;\">\n",
              "      <th></th>\n",
              "      <th>TransactionID</th>\n",
              "      <th>CustomerID</th>\n",
              "      <th>CustomerDOB</th>\n",
              "      <th>CustGender</th>\n",
              "      <th>CustLocation</th>\n",
              "      <th>CustAccountBalance</th>\n",
              "      <th>TransactionDate</th>\n",
              "      <th>TransactionTime</th>\n",
              "      <th>TransactionAmount (INR)</th>\n",
              "    </tr>\n",
              "  </thead>\n",
              "  <tbody>\n",
              "    <tr>\n",
              "      <th>0</th>\n",
              "      <td>T1</td>\n",
              "      <td>C5841053</td>\n",
              "      <td>10/1/1994</td>\n",
              "      <td>F</td>\n",
              "      <td>JAMSHEDPUR</td>\n",
              "      <td>17819.05</td>\n",
              "      <td>2/8/2016</td>\n",
              "      <td>143207</td>\n",
              "      <td>25.00</td>\n",
              "    </tr>\n",
              "    <tr>\n",
              "      <th>1</th>\n",
              "      <td>T2</td>\n",
              "      <td>C2142763</td>\n",
              "      <td>4/4/1957</td>\n",
              "      <td>M</td>\n",
              "      <td>JHAJJAR</td>\n",
              "      <td>2270.69</td>\n",
              "      <td>2/8/2016</td>\n",
              "      <td>141858</td>\n",
              "      <td>27999.00</td>\n",
              "    </tr>\n",
              "    <tr>\n",
              "      <th>2</th>\n",
              "      <td>T3</td>\n",
              "      <td>C4417068</td>\n",
              "      <td>26/11/96</td>\n",
              "      <td>F</td>\n",
              "      <td>MUMBAI</td>\n",
              "      <td>17874.44</td>\n",
              "      <td>2/8/2016</td>\n",
              "      <td>142712</td>\n",
              "      <td>459.00</td>\n",
              "    </tr>\n",
              "    <tr>\n",
              "      <th>3</th>\n",
              "      <td>T4</td>\n",
              "      <td>C5342380</td>\n",
              "      <td>14/9/73</td>\n",
              "      <td>F</td>\n",
              "      <td>MUMBAI</td>\n",
              "      <td>866503.21</td>\n",
              "      <td>2/8/2016</td>\n",
              "      <td>142714</td>\n",
              "      <td>2060.00</td>\n",
              "    </tr>\n",
              "    <tr>\n",
              "      <th>4</th>\n",
              "      <td>T5</td>\n",
              "      <td>C9031234</td>\n",
              "      <td>24/3/88</td>\n",
              "      <td>F</td>\n",
              "      <td>NAVI MUMBAI</td>\n",
              "      <td>6714.43</td>\n",
              "      <td>2/8/2016</td>\n",
              "      <td>181156</td>\n",
              "      <td>1762.50</td>\n",
              "    </tr>\n",
              "    <tr>\n",
              "      <th>5</th>\n",
              "      <td>T6</td>\n",
              "      <td>C1536588</td>\n",
              "      <td>8/10/1972</td>\n",
              "      <td>F</td>\n",
              "      <td>ITANAGAR</td>\n",
              "      <td>53609.20</td>\n",
              "      <td>2/8/2016</td>\n",
              "      <td>173940</td>\n",
              "      <td>676.00</td>\n",
              "    </tr>\n",
              "    <tr>\n",
              "      <th>6</th>\n",
              "      <td>T7</td>\n",
              "      <td>C7126560</td>\n",
              "      <td>26/1/92</td>\n",
              "      <td>F</td>\n",
              "      <td>MUMBAI</td>\n",
              "      <td>973.46</td>\n",
              "      <td>2/8/2016</td>\n",
              "      <td>173806</td>\n",
              "      <td>566.00</td>\n",
              "    </tr>\n",
              "    <tr>\n",
              "      <th>7</th>\n",
              "      <td>T8</td>\n",
              "      <td>C1220223</td>\n",
              "      <td>27/1/82</td>\n",
              "      <td>M</td>\n",
              "      <td>MUMBAI</td>\n",
              "      <td>95075.54</td>\n",
              "      <td>2/8/2016</td>\n",
              "      <td>170537</td>\n",
              "      <td>148.00</td>\n",
              "    </tr>\n",
              "    <tr>\n",
              "      <th>8</th>\n",
              "      <td>T9</td>\n",
              "      <td>C8536061</td>\n",
              "      <td>19/4/88</td>\n",
              "      <td>F</td>\n",
              "      <td>GURGAON</td>\n",
              "      <td>14906.96</td>\n",
              "      <td>2/8/2016</td>\n",
              "      <td>192825</td>\n",
              "      <td>833.00</td>\n",
              "    </tr>\n",
              "    <tr>\n",
              "      <th>9</th>\n",
              "      <td>T10</td>\n",
              "      <td>C6638934</td>\n",
              "      <td>22/6/84</td>\n",
              "      <td>M</td>\n",
              "      <td>MUMBAI</td>\n",
              "      <td>4279.22</td>\n",
              "      <td>2/8/2016</td>\n",
              "      <td>192446</td>\n",
              "      <td>289.11</td>\n",
              "    </tr>\n",
              "  </tbody>\n",
              "</table>\n",
              "</div>\n",
              "      <button class=\"colab-df-convert\" onclick=\"convertToInteractive('df-0fc03092-79c8-48e8-a47e-87d5f59b0d9a')\"\n",
              "              title=\"Convert this dataframe to an interactive table.\"\n",
              "              style=\"display:none;\">\n",
              "        \n",
              "  <svg xmlns=\"http://www.w3.org/2000/svg\" height=\"24px\"viewBox=\"0 0 24 24\"\n",
              "       width=\"24px\">\n",
              "    <path d=\"M0 0h24v24H0V0z\" fill=\"none\"/>\n",
              "    <path d=\"M18.56 5.44l.94 2.06.94-2.06 2.06-.94-2.06-.94-.94-2.06-.94 2.06-2.06.94zm-11 1L8.5 8.5l.94-2.06 2.06-.94-2.06-.94L8.5 2.5l-.94 2.06-2.06.94zm10 10l.94 2.06.94-2.06 2.06-.94-2.06-.94-.94-2.06-.94 2.06-2.06.94z\"/><path d=\"M17.41 7.96l-1.37-1.37c-.4-.4-.92-.59-1.43-.59-.52 0-1.04.2-1.43.59L10.3 9.45l-7.72 7.72c-.78.78-.78 2.05 0 2.83L4 21.41c.39.39.9.59 1.41.59.51 0 1.02-.2 1.41-.59l7.78-7.78 2.81-2.81c.8-.78.8-2.07 0-2.86zM5.41 20L4 18.59l7.72-7.72 1.47 1.35L5.41 20z\"/>\n",
              "  </svg>\n",
              "      </button>\n",
              "      \n",
              "  <style>\n",
              "    .colab-df-container {\n",
              "      display:flex;\n",
              "      flex-wrap:wrap;\n",
              "      gap: 12px;\n",
              "    }\n",
              "\n",
              "    .colab-df-convert {\n",
              "      background-color: #E8F0FE;\n",
              "      border: none;\n",
              "      border-radius: 50%;\n",
              "      cursor: pointer;\n",
              "      display: none;\n",
              "      fill: #1967D2;\n",
              "      height: 32px;\n",
              "      padding: 0 0 0 0;\n",
              "      width: 32px;\n",
              "    }\n",
              "\n",
              "    .colab-df-convert:hover {\n",
              "      background-color: #E2EBFA;\n",
              "      box-shadow: 0px 1px 2px rgba(60, 64, 67, 0.3), 0px 1px 3px 1px rgba(60, 64, 67, 0.15);\n",
              "      fill: #174EA6;\n",
              "    }\n",
              "\n",
              "    [theme=dark] .colab-df-convert {\n",
              "      background-color: #3B4455;\n",
              "      fill: #D2E3FC;\n",
              "    }\n",
              "\n",
              "    [theme=dark] .colab-df-convert:hover {\n",
              "      background-color: #434B5C;\n",
              "      box-shadow: 0px 1px 3px 1px rgba(0, 0, 0, 0.15);\n",
              "      filter: drop-shadow(0px 1px 2px rgba(0, 0, 0, 0.3));\n",
              "      fill: #FFFFFF;\n",
              "    }\n",
              "  </style>\n",
              "\n",
              "      <script>\n",
              "        const buttonEl =\n",
              "          document.querySelector('#df-0fc03092-79c8-48e8-a47e-87d5f59b0d9a button.colab-df-convert');\n",
              "        buttonEl.style.display =\n",
              "          google.colab.kernel.accessAllowed ? 'block' : 'none';\n",
              "\n",
              "        async function convertToInteractive(key) {\n",
              "          const element = document.querySelector('#df-0fc03092-79c8-48e8-a47e-87d5f59b0d9a');\n",
              "          const dataTable =\n",
              "            await google.colab.kernel.invokeFunction('convertToInteractive',\n",
              "                                                     [key], {});\n",
              "          if (!dataTable) return;\n",
              "\n",
              "          const docLinkHtml = 'Like what you see? Visit the ' +\n",
              "            '<a target=\"_blank\" href=https://colab.research.google.com/notebooks/data_table.ipynb>data table notebook</a>'\n",
              "            + ' to learn more about interactive tables.';\n",
              "          element.innerHTML = '';\n",
              "          dataTable['output_type'] = 'display_data';\n",
              "          await google.colab.output.renderOutput(dataTable, element);\n",
              "          const docLink = document.createElement('div');\n",
              "          docLink.innerHTML = docLinkHtml;\n",
              "          element.appendChild(docLink);\n",
              "        }\n",
              "      </script>\n",
              "    </div>\n",
              "  </div>\n",
              "  "
            ]
          },
          "metadata": {},
          "execution_count": 111
        }
      ]
    },
    {
      "cell_type": "markdown",
      "source": [
        "Determine data types of variables"
      ],
      "metadata": {
        "id": "M7MJRcXu6KfQ"
      }
    },
    {
      "cell_type": "code",
      "source": [
        "df.info()"
      ],
      "metadata": {
        "colab": {
          "base_uri": "https://localhost:8080/"
        },
        "id": "a-BDNcCz6RAb",
        "outputId": "15451a58-10f9-4b75-e86b-810f018d89a2"
      },
      "execution_count": 112,
      "outputs": [
        {
          "output_type": "stream",
          "name": "stdout",
          "text": [
            "<class 'pandas.core.frame.DataFrame'>\n",
            "RangeIndex: 1048567 entries, 0 to 1048566\n",
            "Data columns (total 9 columns):\n",
            " #   Column                   Non-Null Count    Dtype  \n",
            "---  ------                   --------------    -----  \n",
            " 0   TransactionID            1048567 non-null  object \n",
            " 1   CustomerID               1048567 non-null  object \n",
            " 2   CustomerDOB              1045170 non-null  object \n",
            " 3   CustGender               1047467 non-null  object \n",
            " 4   CustLocation             1048416 non-null  object \n",
            " 5   CustAccountBalance       1046198 non-null  float64\n",
            " 6   TransactionDate          1048567 non-null  object \n",
            " 7   TransactionTime          1048567 non-null  int64  \n",
            " 8   TransactionAmount (INR)  1048567 non-null  float64\n",
            "dtypes: float64(2), int64(1), object(6)\n",
            "memory usage: 72.0+ MB\n"
          ]
        }
      ]
    },
    {
      "cell_type": "markdown",
      "source": [
        "First look at distribution and general statistics of all variables"
      ],
      "metadata": {
        "id": "Z-MdkRj56aBw"
      }
    },
    {
      "cell_type": "code",
      "source": [
        "df.describe(include='all')"
      ],
      "metadata": {
        "colab": {
          "base_uri": "https://localhost:8080/",
          "height": 438
        },
        "id": "ts9cej9d6wUM",
        "outputId": "d245e45c-354e-4aa7-d34d-d838e6caaf33"
      },
      "execution_count": 113,
      "outputs": [
        {
          "output_type": "execute_result",
          "data": {
            "text/plain": [
              "       TransactionID CustomerID CustomerDOB CustGender CustLocation  \\\n",
              "count        1048567    1048567     1045170    1047467      1048416   \n",
              "unique       1048567     884265       17254          3         9355   \n",
              "top               T1   C5533885    1/1/1800          M       MUMBAI   \n",
              "freq               1          6       57339     765530       103595   \n",
              "mean             NaN        NaN         NaN        NaN          NaN   \n",
              "std              NaN        NaN         NaN        NaN          NaN   \n",
              "min              NaN        NaN         NaN        NaN          NaN   \n",
              "25%              NaN        NaN         NaN        NaN          NaN   \n",
              "50%              NaN        NaN         NaN        NaN          NaN   \n",
              "75%              NaN        NaN         NaN        NaN          NaN   \n",
              "max              NaN        NaN         NaN        NaN          NaN   \n",
              "\n",
              "        CustAccountBalance TransactionDate  TransactionTime  \\\n",
              "count         1.046198e+06         1048567     1.048567e+06   \n",
              "unique                 NaN              55              NaN   \n",
              "top                    NaN        7/8/2016              NaN   \n",
              "freq                   NaN           27261              NaN   \n",
              "mean          1.154035e+05             NaN     1.570875e+05   \n",
              "std           8.464854e+05             NaN     5.126185e+04   \n",
              "min           0.000000e+00             NaN     0.000000e+00   \n",
              "25%           4.721760e+03             NaN     1.240300e+05   \n",
              "50%           1.679218e+04             NaN     1.642260e+05   \n",
              "75%           5.765736e+04             NaN     2.000100e+05   \n",
              "max           1.150355e+08             NaN     2.359590e+05   \n",
              "\n",
              "        TransactionAmount (INR)  \n",
              "count              1.048567e+06  \n",
              "unique                      NaN  \n",
              "top                         NaN  \n",
              "freq                        NaN  \n",
              "mean               1.574335e+03  \n",
              "std                6.574743e+03  \n",
              "min                0.000000e+00  \n",
              "25%                1.610000e+02  \n",
              "50%                4.590300e+02  \n",
              "75%                1.200000e+03  \n",
              "max                1.560035e+06  "
            ],
            "text/html": [
              "\n",
              "  <div id=\"df-d66c403b-9b15-48fb-9182-f5b46d11620d\">\n",
              "    <div class=\"colab-df-container\">\n",
              "      <div>\n",
              "<style scoped>\n",
              "    .dataframe tbody tr th:only-of-type {\n",
              "        vertical-align: middle;\n",
              "    }\n",
              "\n",
              "    .dataframe tbody tr th {\n",
              "        vertical-align: top;\n",
              "    }\n",
              "\n",
              "    .dataframe thead th {\n",
              "        text-align: right;\n",
              "    }\n",
              "</style>\n",
              "<table border=\"1\" class=\"dataframe\">\n",
              "  <thead>\n",
              "    <tr style=\"text-align: right;\">\n",
              "      <th></th>\n",
              "      <th>TransactionID</th>\n",
              "      <th>CustomerID</th>\n",
              "      <th>CustomerDOB</th>\n",
              "      <th>CustGender</th>\n",
              "      <th>CustLocation</th>\n",
              "      <th>CustAccountBalance</th>\n",
              "      <th>TransactionDate</th>\n",
              "      <th>TransactionTime</th>\n",
              "      <th>TransactionAmount (INR)</th>\n",
              "    </tr>\n",
              "  </thead>\n",
              "  <tbody>\n",
              "    <tr>\n",
              "      <th>count</th>\n",
              "      <td>1048567</td>\n",
              "      <td>1048567</td>\n",
              "      <td>1045170</td>\n",
              "      <td>1047467</td>\n",
              "      <td>1048416</td>\n",
              "      <td>1.046198e+06</td>\n",
              "      <td>1048567</td>\n",
              "      <td>1.048567e+06</td>\n",
              "      <td>1.048567e+06</td>\n",
              "    </tr>\n",
              "    <tr>\n",
              "      <th>unique</th>\n",
              "      <td>1048567</td>\n",
              "      <td>884265</td>\n",
              "      <td>17254</td>\n",
              "      <td>3</td>\n",
              "      <td>9355</td>\n",
              "      <td>NaN</td>\n",
              "      <td>55</td>\n",
              "      <td>NaN</td>\n",
              "      <td>NaN</td>\n",
              "    </tr>\n",
              "    <tr>\n",
              "      <th>top</th>\n",
              "      <td>T1</td>\n",
              "      <td>C5533885</td>\n",
              "      <td>1/1/1800</td>\n",
              "      <td>M</td>\n",
              "      <td>MUMBAI</td>\n",
              "      <td>NaN</td>\n",
              "      <td>7/8/2016</td>\n",
              "      <td>NaN</td>\n",
              "      <td>NaN</td>\n",
              "    </tr>\n",
              "    <tr>\n",
              "      <th>freq</th>\n",
              "      <td>1</td>\n",
              "      <td>6</td>\n",
              "      <td>57339</td>\n",
              "      <td>765530</td>\n",
              "      <td>103595</td>\n",
              "      <td>NaN</td>\n",
              "      <td>27261</td>\n",
              "      <td>NaN</td>\n",
              "      <td>NaN</td>\n",
              "    </tr>\n",
              "    <tr>\n",
              "      <th>mean</th>\n",
              "      <td>NaN</td>\n",
              "      <td>NaN</td>\n",
              "      <td>NaN</td>\n",
              "      <td>NaN</td>\n",
              "      <td>NaN</td>\n",
              "      <td>1.154035e+05</td>\n",
              "      <td>NaN</td>\n",
              "      <td>1.570875e+05</td>\n",
              "      <td>1.574335e+03</td>\n",
              "    </tr>\n",
              "    <tr>\n",
              "      <th>std</th>\n",
              "      <td>NaN</td>\n",
              "      <td>NaN</td>\n",
              "      <td>NaN</td>\n",
              "      <td>NaN</td>\n",
              "      <td>NaN</td>\n",
              "      <td>8.464854e+05</td>\n",
              "      <td>NaN</td>\n",
              "      <td>5.126185e+04</td>\n",
              "      <td>6.574743e+03</td>\n",
              "    </tr>\n",
              "    <tr>\n",
              "      <th>min</th>\n",
              "      <td>NaN</td>\n",
              "      <td>NaN</td>\n",
              "      <td>NaN</td>\n",
              "      <td>NaN</td>\n",
              "      <td>NaN</td>\n",
              "      <td>0.000000e+00</td>\n",
              "      <td>NaN</td>\n",
              "      <td>0.000000e+00</td>\n",
              "      <td>0.000000e+00</td>\n",
              "    </tr>\n",
              "    <tr>\n",
              "      <th>25%</th>\n",
              "      <td>NaN</td>\n",
              "      <td>NaN</td>\n",
              "      <td>NaN</td>\n",
              "      <td>NaN</td>\n",
              "      <td>NaN</td>\n",
              "      <td>4.721760e+03</td>\n",
              "      <td>NaN</td>\n",
              "      <td>1.240300e+05</td>\n",
              "      <td>1.610000e+02</td>\n",
              "    </tr>\n",
              "    <tr>\n",
              "      <th>50%</th>\n",
              "      <td>NaN</td>\n",
              "      <td>NaN</td>\n",
              "      <td>NaN</td>\n",
              "      <td>NaN</td>\n",
              "      <td>NaN</td>\n",
              "      <td>1.679218e+04</td>\n",
              "      <td>NaN</td>\n",
              "      <td>1.642260e+05</td>\n",
              "      <td>4.590300e+02</td>\n",
              "    </tr>\n",
              "    <tr>\n",
              "      <th>75%</th>\n",
              "      <td>NaN</td>\n",
              "      <td>NaN</td>\n",
              "      <td>NaN</td>\n",
              "      <td>NaN</td>\n",
              "      <td>NaN</td>\n",
              "      <td>5.765736e+04</td>\n",
              "      <td>NaN</td>\n",
              "      <td>2.000100e+05</td>\n",
              "      <td>1.200000e+03</td>\n",
              "    </tr>\n",
              "    <tr>\n",
              "      <th>max</th>\n",
              "      <td>NaN</td>\n",
              "      <td>NaN</td>\n",
              "      <td>NaN</td>\n",
              "      <td>NaN</td>\n",
              "      <td>NaN</td>\n",
              "      <td>1.150355e+08</td>\n",
              "      <td>NaN</td>\n",
              "      <td>2.359590e+05</td>\n",
              "      <td>1.560035e+06</td>\n",
              "    </tr>\n",
              "  </tbody>\n",
              "</table>\n",
              "</div>\n",
              "      <button class=\"colab-df-convert\" onclick=\"convertToInteractive('df-d66c403b-9b15-48fb-9182-f5b46d11620d')\"\n",
              "              title=\"Convert this dataframe to an interactive table.\"\n",
              "              style=\"display:none;\">\n",
              "        \n",
              "  <svg xmlns=\"http://www.w3.org/2000/svg\" height=\"24px\"viewBox=\"0 0 24 24\"\n",
              "       width=\"24px\">\n",
              "    <path d=\"M0 0h24v24H0V0z\" fill=\"none\"/>\n",
              "    <path d=\"M18.56 5.44l.94 2.06.94-2.06 2.06-.94-2.06-.94-.94-2.06-.94 2.06-2.06.94zm-11 1L8.5 8.5l.94-2.06 2.06-.94-2.06-.94L8.5 2.5l-.94 2.06-2.06.94zm10 10l.94 2.06.94-2.06 2.06-.94-2.06-.94-.94-2.06-.94 2.06-2.06.94z\"/><path d=\"M17.41 7.96l-1.37-1.37c-.4-.4-.92-.59-1.43-.59-.52 0-1.04.2-1.43.59L10.3 9.45l-7.72 7.72c-.78.78-.78 2.05 0 2.83L4 21.41c.39.39.9.59 1.41.59.51 0 1.02-.2 1.41-.59l7.78-7.78 2.81-2.81c.8-.78.8-2.07 0-2.86zM5.41 20L4 18.59l7.72-7.72 1.47 1.35L5.41 20z\"/>\n",
              "  </svg>\n",
              "      </button>\n",
              "      \n",
              "  <style>\n",
              "    .colab-df-container {\n",
              "      display:flex;\n",
              "      flex-wrap:wrap;\n",
              "      gap: 12px;\n",
              "    }\n",
              "\n",
              "    .colab-df-convert {\n",
              "      background-color: #E8F0FE;\n",
              "      border: none;\n",
              "      border-radius: 50%;\n",
              "      cursor: pointer;\n",
              "      display: none;\n",
              "      fill: #1967D2;\n",
              "      height: 32px;\n",
              "      padding: 0 0 0 0;\n",
              "      width: 32px;\n",
              "    }\n",
              "\n",
              "    .colab-df-convert:hover {\n",
              "      background-color: #E2EBFA;\n",
              "      box-shadow: 0px 1px 2px rgba(60, 64, 67, 0.3), 0px 1px 3px 1px rgba(60, 64, 67, 0.15);\n",
              "      fill: #174EA6;\n",
              "    }\n",
              "\n",
              "    [theme=dark] .colab-df-convert {\n",
              "      background-color: #3B4455;\n",
              "      fill: #D2E3FC;\n",
              "    }\n",
              "\n",
              "    [theme=dark] .colab-df-convert:hover {\n",
              "      background-color: #434B5C;\n",
              "      box-shadow: 0px 1px 3px 1px rgba(0, 0, 0, 0.15);\n",
              "      filter: drop-shadow(0px 1px 2px rgba(0, 0, 0, 0.3));\n",
              "      fill: #FFFFFF;\n",
              "    }\n",
              "  </style>\n",
              "\n",
              "      <script>\n",
              "        const buttonEl =\n",
              "          document.querySelector('#df-d66c403b-9b15-48fb-9182-f5b46d11620d button.colab-df-convert');\n",
              "        buttonEl.style.display =\n",
              "          google.colab.kernel.accessAllowed ? 'block' : 'none';\n",
              "\n",
              "        async function convertToInteractive(key) {\n",
              "          const element = document.querySelector('#df-d66c403b-9b15-48fb-9182-f5b46d11620d');\n",
              "          const dataTable =\n",
              "            await google.colab.kernel.invokeFunction('convertToInteractive',\n",
              "                                                     [key], {});\n",
              "          if (!dataTable) return;\n",
              "\n",
              "          const docLinkHtml = 'Like what you see? Visit the ' +\n",
              "            '<a target=\"_blank\" href=https://colab.research.google.com/notebooks/data_table.ipynb>data table notebook</a>'\n",
              "            + ' to learn more about interactive tables.';\n",
              "          element.innerHTML = '';\n",
              "          dataTable['output_type'] = 'display_data';\n",
              "          await google.colab.output.renderOutput(dataTable, element);\n",
              "          const docLink = document.createElement('div');\n",
              "          docLink.innerHTML = docLinkHtml;\n",
              "          element.appendChild(docLink);\n",
              "        }\n",
              "      </script>\n",
              "    </div>\n",
              "  </div>\n",
              "  "
            ]
          },
          "metadata": {},
          "execution_count": 113
        }
      ]
    },
    {
      "cell_type": "markdown",
      "source": [
        "## Cleaning The Dataset"
      ],
      "metadata": {
        "id": "eATdBS0R5x0U"
      }
    },
    {
      "cell_type": "markdown",
      "source": [
        "### Removing Missing Values"
      ],
      "metadata": {
        "id": "AK-PaRTs55F9"
      }
    },
    {
      "cell_type": "code",
      "source": [
        "df.isna().sum()"
      ],
      "metadata": {
        "colab": {
          "base_uri": "https://localhost:8080/"
        },
        "id": "dRwPQ77S4Qml",
        "outputId": "0a0edce9-18e3-41bb-c3d1-0df85accb389"
      },
      "execution_count": 114,
      "outputs": [
        {
          "output_type": "execute_result",
          "data": {
            "text/plain": [
              "TransactionID                 0\n",
              "CustomerID                    0\n",
              "CustomerDOB                3397\n",
              "CustGender                 1100\n",
              "CustLocation                151\n",
              "CustAccountBalance         2369\n",
              "TransactionDate               0\n",
              "TransactionTime               0\n",
              "TransactionAmount (INR)       0\n",
              "dtype: int64"
            ]
          },
          "metadata": {},
          "execution_count": 114
        }
      ]
    },
    {
      "cell_type": "markdown",
      "source": [
        "Remove all observations miss any missing data. "
      ],
      "metadata": {
        "id": "1G2_Qh8H7d6F"
      }
    },
    {
      "cell_type": "code",
      "source": [
        "df.dropna(inplace=True)\n",
        "df.isna().sum()"
      ],
      "metadata": {
        "colab": {
          "base_uri": "https://localhost:8080/"
        },
        "id": "wWOHkD7b7b1x",
        "outputId": "ad6c09e6-2cc9-4833-94be-d313a7ec3997"
      },
      "execution_count": 115,
      "outputs": [
        {
          "output_type": "execute_result",
          "data": {
            "text/plain": [
              "TransactionID              0\n",
              "CustomerID                 0\n",
              "CustomerDOB                0\n",
              "CustGender                 0\n",
              "CustLocation               0\n",
              "CustAccountBalance         0\n",
              "TransactionDate            0\n",
              "TransactionTime            0\n",
              "TransactionAmount (INR)    0\n",
              "dtype: int64"
            ]
          },
          "metadata": {},
          "execution_count": 115
        }
      ]
    },
    {
      "cell_type": "markdown",
      "source": [
        "### Cleaning and Transforming Features"
      ],
      "metadata": {
        "id": "wH7X0QpV9lVt"
      }
    },
    {
      "cell_type": "markdown",
      "source": [
        "Remove the TransactionID column since it does not contain any useful information.  "
      ],
      "metadata": {
        "id": "DPA9v3rgBiMA"
      }
    },
    {
      "cell_type": "code",
      "source": [
        "df.drop(columns='TransactionID', inplace=True)"
      ],
      "metadata": {
        "id": "zieYVX1i93Ae"
      },
      "execution_count": 116,
      "outputs": []
    },
    {
      "cell_type": "code",
      "source": [
        "df.value_counts('CustomerID')"
      ],
      "metadata": {
        "colab": {
          "base_uri": "https://localhost:8080/"
        },
        "id": "m0iGEqbm95jN",
        "outputId": "a7e39b13-b597-4ff5-8db9-34bb4b176d62"
      },
      "execution_count": 117,
      "outputs": [
        {
          "output_type": "execute_result",
          "data": {
            "text/plain": [
              "CustomerID\n",
              "C1026833    6\n",
              "C5531319    6\n",
              "C4327447    6\n",
              "C4021562    6\n",
              "C5533885    6\n",
              "           ..\n",
              "C3924785    1\n",
              "C3924788    1\n",
              "C3924816    1\n",
              "C3924818    1\n",
              "C9099956    1\n",
              "Length: 879358, dtype: int64"
            ]
          },
          "metadata": {},
          "execution_count": 117
        }
      ]
    },
    {
      "cell_type": "markdown",
      "source": [
        "It appears that the structure of Customer ID's is in the form of \"C#######\".  Going to confirm that this is the structure and then convert to an integer.  \n",
        "\n",
        "**Edit:** *This was not necessary since we will be removing this column later on and instead created a calculated column which displays how many transaction an individual has made.  However, I will leave this the below two lines of code*"
      ],
      "metadata": {
        "id": "koBROqdFC2fY"
      }
    },
    {
      "cell_type": "code",
      "source": [
        "df['CustomerID'].str.contains(\"^C[0-9]{7}$\").value_counts()"
      ],
      "metadata": {
        "colab": {
          "base_uri": "https://localhost:8080/"
        },
        "id": "jqi-f3W9ClaX",
        "outputId": "5fa811a6-1b1c-49de-a2c5-0f65a79bb283"
      },
      "execution_count": 118,
      "outputs": [
        {
          "output_type": "execute_result",
          "data": {
            "text/plain": [
              "True    1041614\n",
              "Name: CustomerID, dtype: int64"
            ]
          },
          "metadata": {},
          "execution_count": 118
        }
      ]
    },
    {
      "cell_type": "markdown",
      "source": [
        "Intuition was correct here, so lets remove the C and cast this column to an integer"
      ],
      "metadata": {
        "id": "KHYiclYfGjol"
      }
    },
    {
      "cell_type": "code",
      "source": [
        "df['CustomerID']=df['CustomerID'].str[1:].astype(int)"
      ],
      "metadata": {
        "id": "LZ_4VoasGCGZ"
      },
      "execution_count": 119,
      "outputs": []
    },
    {
      "cell_type": "markdown",
      "source": [
        "Moving on to CustomerDOB, lets determine if there are any birthdays that do not make any sense"
      ],
      "metadata": {
        "id": "5CSwQ6wyH1YA"
      }
    },
    {
      "cell_type": "code",
      "source": [
        "df['CustomerDOB'].value_counts()"
      ],
      "metadata": {
        "colab": {
          "base_uri": "https://localhost:8080/"
        },
        "id": "UtUseeKgHe4N",
        "outputId": "649d85cd-36d5-472f-9eb0-0254d9d350e2"
      },
      "execution_count": 120,
      "outputs": [
        {
          "output_type": "execute_result",
          "data": {
            "text/plain": [
              "1/1/1800     56292\n",
              "1/1/1989       809\n",
              "1/1/1990       784\n",
              "6/8/1991       698\n",
              "1/1/1991       665\n",
              "             ...  \n",
              "2/12/1951        1\n",
              "20/3/52          1\n",
              "26/9/47          1\n",
              "4/10/1941        1\n",
              "24/10/44         1\n",
              "Name: CustomerDOB, Length: 17233, dtype: int64"
            ]
          },
          "metadata": {},
          "execution_count": 120
        }
      ]
    },
    {
      "cell_type": "markdown",
      "source": [
        "\n",
        "\n",
        "According to the [Guinness World Records](https://www.guinnessworldrecords.com/world-records/84549-oldest-person-living#:~:text=The%20oldest%20living%20woman%20%2D%20and,as%20of%2017%20January%202023) the oldest living person was born in 1907.  So, we can remove everyone born on 1/1/1800 then convert to datetime. "
      ],
      "metadata": {
        "id": "Vlu_PytsIT-y"
      }
    },
    {
      "cell_type": "code",
      "source": [
        "df.drop(df[df['CustomerDOB'] == '1/1/1800'].index,axis = 0, inplace=True)\n",
        "df[\"CustomerDOB\"] = pd.to_datetime(df[\"CustomerDOB\"])\n"
      ],
      "metadata": {
        "id": "UtoY-EOjHj44"
      },
      "execution_count": 121,
      "outputs": []
    },
    {
      "cell_type": "markdown",
      "source": [
        "Within the Datetime column, several rows did not have the century prefixing the year, many DOBs were set to days in the future.  We will convert subtract 100 from the year component of DOB if it is past 2015.  We are choosing 2015 since all transactions within this dataset happen within the year 2016.  "
      ],
      "metadata": {
        "id": "v5yNFWg9ekZO"
      }
    },
    {
      "cell_type": "code",
      "source": [
        "df.loc[df.CustomerDOB.dt.year >= 2015, 'CustomerDOB'] = df.loc[df.CustomerDOB.dt.year >= 2015, 'CustomerDOB'] - pd.DateOffset(years = 100)\n",
        "df['CustomerDOB'].value_counts()"
      ],
      "metadata": {
        "colab": {
          "base_uri": "https://localhost:8080/"
        },
        "id": "mi1rBUcaRQ0u",
        "outputId": "fdae9d7d-bb23-496e-a286-92e0f37e4589"
      },
      "execution_count": 122,
      "outputs": [
        {
          "output_type": "execute_result",
          "data": {
            "text/plain": [
              "1989-01-01    809\n",
              "1990-01-01    784\n",
              "1991-06-08    698\n",
              "1991-01-01    665\n",
              "1992-01-01    631\n",
              "             ... \n",
              "2005-02-23      1\n",
              "1942-11-28      1\n",
              "1949-09-23      1\n",
              "1940-03-14      1\n",
              "1944-10-24      1\n",
              "Name: CustomerDOB, Length: 17232, dtype: int64"
            ]
          },
          "metadata": {},
          "execution_count": 122
        }
      ]
    },
    {
      "cell_type": "markdown",
      "source": [
        "Now lets create a column for age.  This will be easier to utilize while segmenting since DOB really is just a proxy for age in the first place"
      ],
      "metadata": {
        "id": "xvRrEGOaMDZ5"
      }
    },
    {
      "cell_type": "code",
      "source": [
        "def age(born):\n",
        "  \n",
        "  today = pd.Timestamp.today().to_pydatetime()\n",
        "  return (today.year - born.year - ((born.month > today.month) | \n",
        "                                                       ((born.month == today.month) & (born.day > today.day))))\n"
      ],
      "metadata": {
        "id": "0omXNmlNW2H2"
      },
      "execution_count": 123,
      "outputs": []
    },
    {
      "cell_type": "code",
      "source": [
        "df['age']=df['CustomerDOB'].apply(age)\n",
        "df"
      ],
      "metadata": {
        "colab": {
          "base_uri": "https://localhost:8080/",
          "height": 423
        },
        "id": "kKZPeZTNKvmo",
        "outputId": "7f7c4806-fced-479b-dbc1-ead6d1e0d64b"
      },
      "execution_count": 124,
      "outputs": [
        {
          "output_type": "execute_result",
          "data": {
            "text/plain": [
              "         CustomerID CustomerDOB CustGender   CustLocation  CustAccountBalance  \\\n",
              "0           5841053  1994-10-01          F     JAMSHEDPUR            17819.05   \n",
              "1           2142763  1957-04-04          M        JHAJJAR             2270.69   \n",
              "2           4417068  1996-11-26          F         MUMBAI            17874.44   \n",
              "3           5342380  1973-09-14          F         MUMBAI           866503.21   \n",
              "4           9031234  1988-03-24          F    NAVI MUMBAI             6714.43   \n",
              "...             ...         ...        ...            ...                 ...   \n",
              "1048562     8020229  1990-08-04          M      NEW DELHI             7635.19   \n",
              "1048563     6459278  1992-02-20          M         NASHIK            27311.42   \n",
              "1048564     6412354  1989-05-18          M      HYDERABAD           221757.06   \n",
              "1048565     6420483  1978-08-30          M  VISAKHAPATNAM            10117.87   \n",
              "1048566     8337524  1984-05-03          M           PUNE            75734.42   \n",
              "\n",
              "        TransactionDate  TransactionTime  TransactionAmount (INR)  age  \n",
              "0              2/8/2016           143207                     25.0   28  \n",
              "1              2/8/2016           141858                  27999.0   65  \n",
              "2              2/8/2016           142712                    459.0   26  \n",
              "3              2/8/2016           142714                   2060.0   49  \n",
              "4              2/8/2016           181156                   1762.5   34  \n",
              "...                 ...              ...                      ...  ...  \n",
              "1048562         18/9/16           184824                    799.0   32  \n",
              "1048563         18/9/16           183734                    460.0   30  \n",
              "1048564         18/9/16           183313                    770.0   33  \n",
              "1048565         18/9/16           184706                   1000.0   44  \n",
              "1048566         18/9/16           181222                   1166.0   38  \n",
              "\n",
              "[985322 rows x 9 columns]"
            ],
            "text/html": [
              "\n",
              "  <div id=\"df-2ce1f35d-0267-445c-8885-89df5044431b\">\n",
              "    <div class=\"colab-df-container\">\n",
              "      <div>\n",
              "<style scoped>\n",
              "    .dataframe tbody tr th:only-of-type {\n",
              "        vertical-align: middle;\n",
              "    }\n",
              "\n",
              "    .dataframe tbody tr th {\n",
              "        vertical-align: top;\n",
              "    }\n",
              "\n",
              "    .dataframe thead th {\n",
              "        text-align: right;\n",
              "    }\n",
              "</style>\n",
              "<table border=\"1\" class=\"dataframe\">\n",
              "  <thead>\n",
              "    <tr style=\"text-align: right;\">\n",
              "      <th></th>\n",
              "      <th>CustomerID</th>\n",
              "      <th>CustomerDOB</th>\n",
              "      <th>CustGender</th>\n",
              "      <th>CustLocation</th>\n",
              "      <th>CustAccountBalance</th>\n",
              "      <th>TransactionDate</th>\n",
              "      <th>TransactionTime</th>\n",
              "      <th>TransactionAmount (INR)</th>\n",
              "      <th>age</th>\n",
              "    </tr>\n",
              "  </thead>\n",
              "  <tbody>\n",
              "    <tr>\n",
              "      <th>0</th>\n",
              "      <td>5841053</td>\n",
              "      <td>1994-10-01</td>\n",
              "      <td>F</td>\n",
              "      <td>JAMSHEDPUR</td>\n",
              "      <td>17819.05</td>\n",
              "      <td>2/8/2016</td>\n",
              "      <td>143207</td>\n",
              "      <td>25.0</td>\n",
              "      <td>28</td>\n",
              "    </tr>\n",
              "    <tr>\n",
              "      <th>1</th>\n",
              "      <td>2142763</td>\n",
              "      <td>1957-04-04</td>\n",
              "      <td>M</td>\n",
              "      <td>JHAJJAR</td>\n",
              "      <td>2270.69</td>\n",
              "      <td>2/8/2016</td>\n",
              "      <td>141858</td>\n",
              "      <td>27999.0</td>\n",
              "      <td>65</td>\n",
              "    </tr>\n",
              "    <tr>\n",
              "      <th>2</th>\n",
              "      <td>4417068</td>\n",
              "      <td>1996-11-26</td>\n",
              "      <td>F</td>\n",
              "      <td>MUMBAI</td>\n",
              "      <td>17874.44</td>\n",
              "      <td>2/8/2016</td>\n",
              "      <td>142712</td>\n",
              "      <td>459.0</td>\n",
              "      <td>26</td>\n",
              "    </tr>\n",
              "    <tr>\n",
              "      <th>3</th>\n",
              "      <td>5342380</td>\n",
              "      <td>1973-09-14</td>\n",
              "      <td>F</td>\n",
              "      <td>MUMBAI</td>\n",
              "      <td>866503.21</td>\n",
              "      <td>2/8/2016</td>\n",
              "      <td>142714</td>\n",
              "      <td>2060.0</td>\n",
              "      <td>49</td>\n",
              "    </tr>\n",
              "    <tr>\n",
              "      <th>4</th>\n",
              "      <td>9031234</td>\n",
              "      <td>1988-03-24</td>\n",
              "      <td>F</td>\n",
              "      <td>NAVI MUMBAI</td>\n",
              "      <td>6714.43</td>\n",
              "      <td>2/8/2016</td>\n",
              "      <td>181156</td>\n",
              "      <td>1762.5</td>\n",
              "      <td>34</td>\n",
              "    </tr>\n",
              "    <tr>\n",
              "      <th>...</th>\n",
              "      <td>...</td>\n",
              "      <td>...</td>\n",
              "      <td>...</td>\n",
              "      <td>...</td>\n",
              "      <td>...</td>\n",
              "      <td>...</td>\n",
              "      <td>...</td>\n",
              "      <td>...</td>\n",
              "      <td>...</td>\n",
              "    </tr>\n",
              "    <tr>\n",
              "      <th>1048562</th>\n",
              "      <td>8020229</td>\n",
              "      <td>1990-08-04</td>\n",
              "      <td>M</td>\n",
              "      <td>NEW DELHI</td>\n",
              "      <td>7635.19</td>\n",
              "      <td>18/9/16</td>\n",
              "      <td>184824</td>\n",
              "      <td>799.0</td>\n",
              "      <td>32</td>\n",
              "    </tr>\n",
              "    <tr>\n",
              "      <th>1048563</th>\n",
              "      <td>6459278</td>\n",
              "      <td>1992-02-20</td>\n",
              "      <td>M</td>\n",
              "      <td>NASHIK</td>\n",
              "      <td>27311.42</td>\n",
              "      <td>18/9/16</td>\n",
              "      <td>183734</td>\n",
              "      <td>460.0</td>\n",
              "      <td>30</td>\n",
              "    </tr>\n",
              "    <tr>\n",
              "      <th>1048564</th>\n",
              "      <td>6412354</td>\n",
              "      <td>1989-05-18</td>\n",
              "      <td>M</td>\n",
              "      <td>HYDERABAD</td>\n",
              "      <td>221757.06</td>\n",
              "      <td>18/9/16</td>\n",
              "      <td>183313</td>\n",
              "      <td>770.0</td>\n",
              "      <td>33</td>\n",
              "    </tr>\n",
              "    <tr>\n",
              "      <th>1048565</th>\n",
              "      <td>6420483</td>\n",
              "      <td>1978-08-30</td>\n",
              "      <td>M</td>\n",
              "      <td>VISAKHAPATNAM</td>\n",
              "      <td>10117.87</td>\n",
              "      <td>18/9/16</td>\n",
              "      <td>184706</td>\n",
              "      <td>1000.0</td>\n",
              "      <td>44</td>\n",
              "    </tr>\n",
              "    <tr>\n",
              "      <th>1048566</th>\n",
              "      <td>8337524</td>\n",
              "      <td>1984-05-03</td>\n",
              "      <td>M</td>\n",
              "      <td>PUNE</td>\n",
              "      <td>75734.42</td>\n",
              "      <td>18/9/16</td>\n",
              "      <td>181222</td>\n",
              "      <td>1166.0</td>\n",
              "      <td>38</td>\n",
              "    </tr>\n",
              "  </tbody>\n",
              "</table>\n",
              "<p>985322 rows × 9 columns</p>\n",
              "</div>\n",
              "      <button class=\"colab-df-convert\" onclick=\"convertToInteractive('df-2ce1f35d-0267-445c-8885-89df5044431b')\"\n",
              "              title=\"Convert this dataframe to an interactive table.\"\n",
              "              style=\"display:none;\">\n",
              "        \n",
              "  <svg xmlns=\"http://www.w3.org/2000/svg\" height=\"24px\"viewBox=\"0 0 24 24\"\n",
              "       width=\"24px\">\n",
              "    <path d=\"M0 0h24v24H0V0z\" fill=\"none\"/>\n",
              "    <path d=\"M18.56 5.44l.94 2.06.94-2.06 2.06-.94-2.06-.94-.94-2.06-.94 2.06-2.06.94zm-11 1L8.5 8.5l.94-2.06 2.06-.94-2.06-.94L8.5 2.5l-.94 2.06-2.06.94zm10 10l.94 2.06.94-2.06 2.06-.94-2.06-.94-.94-2.06-.94 2.06-2.06.94z\"/><path d=\"M17.41 7.96l-1.37-1.37c-.4-.4-.92-.59-1.43-.59-.52 0-1.04.2-1.43.59L10.3 9.45l-7.72 7.72c-.78.78-.78 2.05 0 2.83L4 21.41c.39.39.9.59 1.41.59.51 0 1.02-.2 1.41-.59l7.78-7.78 2.81-2.81c.8-.78.8-2.07 0-2.86zM5.41 20L4 18.59l7.72-7.72 1.47 1.35L5.41 20z\"/>\n",
              "  </svg>\n",
              "      </button>\n",
              "      \n",
              "  <style>\n",
              "    .colab-df-container {\n",
              "      display:flex;\n",
              "      flex-wrap:wrap;\n",
              "      gap: 12px;\n",
              "    }\n",
              "\n",
              "    .colab-df-convert {\n",
              "      background-color: #E8F0FE;\n",
              "      border: none;\n",
              "      border-radius: 50%;\n",
              "      cursor: pointer;\n",
              "      display: none;\n",
              "      fill: #1967D2;\n",
              "      height: 32px;\n",
              "      padding: 0 0 0 0;\n",
              "      width: 32px;\n",
              "    }\n",
              "\n",
              "    .colab-df-convert:hover {\n",
              "      background-color: #E2EBFA;\n",
              "      box-shadow: 0px 1px 2px rgba(60, 64, 67, 0.3), 0px 1px 3px 1px rgba(60, 64, 67, 0.15);\n",
              "      fill: #174EA6;\n",
              "    }\n",
              "\n",
              "    [theme=dark] .colab-df-convert {\n",
              "      background-color: #3B4455;\n",
              "      fill: #D2E3FC;\n",
              "    }\n",
              "\n",
              "    [theme=dark] .colab-df-convert:hover {\n",
              "      background-color: #434B5C;\n",
              "      box-shadow: 0px 1px 3px 1px rgba(0, 0, 0, 0.15);\n",
              "      filter: drop-shadow(0px 1px 2px rgba(0, 0, 0, 0.3));\n",
              "      fill: #FFFFFF;\n",
              "    }\n",
              "  </style>\n",
              "\n",
              "      <script>\n",
              "        const buttonEl =\n",
              "          document.querySelector('#df-2ce1f35d-0267-445c-8885-89df5044431b button.colab-df-convert');\n",
              "        buttonEl.style.display =\n",
              "          google.colab.kernel.accessAllowed ? 'block' : 'none';\n",
              "\n",
              "        async function convertToInteractive(key) {\n",
              "          const element = document.querySelector('#df-2ce1f35d-0267-445c-8885-89df5044431b');\n",
              "          const dataTable =\n",
              "            await google.colab.kernel.invokeFunction('convertToInteractive',\n",
              "                                                     [key], {});\n",
              "          if (!dataTable) return;\n",
              "\n",
              "          const docLinkHtml = 'Like what you see? Visit the ' +\n",
              "            '<a target=\"_blank\" href=https://colab.research.google.com/notebooks/data_table.ipynb>data table notebook</a>'\n",
              "            + ' to learn more about interactive tables.';\n",
              "          element.innerHTML = '';\n",
              "          dataTable['output_type'] = 'display_data';\n",
              "          await google.colab.output.renderOutput(dataTable, element);\n",
              "          const docLink = document.createElement('div');\n",
              "          docLink.innerHTML = docLinkHtml;\n",
              "          element.appendChild(docLink);\n",
              "        }\n",
              "      </script>\n",
              "    </div>\n",
              "  </div>\n",
              "  "
            ]
          },
          "metadata": {},
          "execution_count": 124
        }
      ]
    },
    {
      "cell_type": "markdown",
      "source": [
        "Lets take a look at the distribution of ages to ensure that it matches intuition and publicaly available data"
      ],
      "metadata": {
        "id": "5psiuaLeeHaE"
      }
    },
    {
      "cell_type": "code",
      "source": [
        "count,bin_edge = np.histogram(df['age'])\n",
        "df['age'].plot(kind='hist', xticks=bin_edge, density=1)\n",
        "\n",
        "plt.title('Age Percentage distribution')\n",
        "plt.ylabel('Percentage of Total Customers')\n",
        "plt.xlabel('Age of Customers')\n",
        "print(\"Median age:\", round(df['age'].median(),2))"
      ],
      "metadata": {
        "colab": {
          "base_uri": "https://localhost:8080/",
          "height": 312
        },
        "id": "x7vvUmRTeUBd",
        "outputId": "e6637a7a-97cc-4d62-8963-f26cdf828b14"
      },
      "execution_count": 125,
      "outputs": [
        {
          "output_type": "stream",
          "name": "stdout",
          "text": [
            "Median age: 35.0\n"
          ]
        },
        {
          "output_type": "display_data",
          "data": {
            "text/plain": [
              "<Figure size 432x288 with 1 Axes>"
            ],
            "image/png": "[encoded data removed]"
          },
          "metadata": {
            "needs_background": "light"
          }
        }
      ]
    },
    {
      "cell_type": "markdown",
      "source": [
        "The median age of the indian population is 27.6 Why is it that of our customer sample we are getting a median age 26% higher than what is recorded.  This likely due to a slue of factors.  First, this is not a random sample of the Indian population, this is DOB of customers within a single bank in India.  Additionally, we should not expect that customer age will directly map onto popultion age; how many six month olds do you know with a bank account actively completing transactions.\n",
        "We also see that the data is skewed right, which does line up with intuition of age groups we may expect to have bank accounts\n"
      ],
      "metadata": {
        "id": "-o_cmq-ohuzF"
      }
    },
    {
      "cell_type": "markdown",
      "source": [
        "Moving on to the CustGender"
      ],
      "metadata": {
        "id": "fQwO9qL9jsFP"
      }
    },
    {
      "cell_type": "code",
      "source": [
        "df['CustGender'].value_counts()"
      ],
      "metadata": {
        "colab": {
          "base_uri": "https://localhost:8080/"
        },
        "id": "Csz2DsGJjtEe",
        "outputId": "2406fbfd-867f-4b91-9ff4-5538c60effbb"
      },
      "execution_count": 126,
      "outputs": [
        {
          "output_type": "execute_result",
          "data": {
            "text/plain": [
              "M    712454\n",
              "F    272868\n",
              "Name: CustGender, dtype: int64"
            ]
          },
          "metadata": {},
          "execution_count": 126
        }
      ]
    },
    {
      "cell_type": "markdown",
      "source": [
        "Lets make this numeric and store 1 for male and 0 for female"
      ],
      "metadata": {
        "id": "Iou_fvvqkahS"
      }
    },
    {
      "cell_type": "code",
      "source": [
        "df['Gender']=df['CustGender'].map({'M': 1, 'F':0}).astype(int)\n",
        "df.dtypes"
      ],
      "metadata": {
        "colab": {
          "base_uri": "https://localhost:8080/"
        },
        "id": "R4dlTbgJjuJg",
        "outputId": "b80c66f4-db03-4288-fa66-04fd1d425b7d"
      },
      "execution_count": 127,
      "outputs": [
        {
          "output_type": "execute_result",
          "data": {
            "text/plain": [
              "CustomerID                          int64\n",
              "CustomerDOB                datetime64[ns]\n",
              "CustGender                         object\n",
              "CustLocation                       object\n",
              "CustAccountBalance                float64\n",
              "TransactionDate                    object\n",
              "TransactionTime                     int64\n",
              "TransactionAmount (INR)           float64\n",
              "age                                 int64\n",
              "Gender                              int64\n",
              "dtype: object"
            ]
          },
          "metadata": {},
          "execution_count": 127
        }
      ]
    },
    {
      "cell_type": "markdown",
      "source": [
        "Customer location has 8,164 unique different town.  Lets not use onehot encoding but instead add a new column of factors."
      ],
      "metadata": {
        "id": "24gMwpahqdJ9"
      }
    },
    {
      "cell_type": "code",
      "source": [
        "df['CustLocation'].describe()"
      ],
      "metadata": {
        "colab": {
          "base_uri": "https://localhost:8080/"
        },
        "id": "sv1X-kfQwf43",
        "outputId": "01b37f8a-99f4-47a7-da12-83e95b87c7d9"
      },
      "execution_count": 128,
      "outputs": [
        {
          "output_type": "execute_result",
          "data": {
            "text/plain": [
              "count     985322\n",
              "unique      8164\n",
              "top       MUMBAI\n",
              "freq       97679\n",
              "Name: CustLocation, dtype: object"
            ]
          },
          "metadata": {},
          "execution_count": 128
        }
      ]
    },
    {
      "cell_type": "code",
      "source": [
        "df['location']= pd.factorize(df['CustLocation'])[0]\n",
        "df"
      ],
      "metadata": {
        "colab": {
          "base_uri": "https://localhost:8080/",
          "height": 505
        },
        "id": "cw0EIEIpxM2H",
        "outputId": "0839d004-1ae2-4364-af84-3e821847fdd8"
      },
      "execution_count": 129,
      "outputs": [
        {
          "output_type": "execute_result",
          "data": {
            "text/plain": [
              "         CustomerID CustomerDOB CustGender   CustLocation  CustAccountBalance  \\\n",
              "0           5841053  1994-10-01          F     JAMSHEDPUR            17819.05   \n",
              "1           2142763  1957-04-04          M        JHAJJAR             2270.69   \n",
              "2           4417068  1996-11-26          F         MUMBAI            17874.44   \n",
              "3           5342380  1973-09-14          F         MUMBAI           866503.21   \n",
              "4           9031234  1988-03-24          F    NAVI MUMBAI             6714.43   \n",
              "...             ...         ...        ...            ...                 ...   \n",
              "1048562     8020229  1990-08-04          M      NEW DELHI             7635.19   \n",
              "1048563     6459278  1992-02-20          M         NASHIK            27311.42   \n",
              "1048564     6412354  1989-05-18          M      HYDERABAD           221757.06   \n",
              "1048565     6420483  1978-08-30          M  VISAKHAPATNAM            10117.87   \n",
              "1048566     8337524  1984-05-03          M           PUNE            75734.42   \n",
              "\n",
              "        TransactionDate  TransactionTime  TransactionAmount (INR)  age  \\\n",
              "0              2/8/2016           143207                     25.0   28   \n",
              "1              2/8/2016           141858                  27999.0   65   \n",
              "2              2/8/2016           142712                    459.0   26   \n",
              "3              2/8/2016           142714                   2060.0   49   \n",
              "4              2/8/2016           181156                   1762.5   34   \n",
              "...                 ...              ...                      ...  ...   \n",
              "1048562         18/9/16           184824                    799.0   32   \n",
              "1048563         18/9/16           183734                    460.0   30   \n",
              "1048564         18/9/16           183313                    770.0   33   \n",
              "1048565         18/9/16           184706                   1000.0   44   \n",
              "1048566         18/9/16           181222                   1166.0   38   \n",
              "\n",
              "         Gender  location  \n",
              "0             0         0  \n",
              "1             1         1  \n",
              "2             0         2  \n",
              "3             0         2  \n",
              "4             0         3  \n",
              "...         ...       ...  \n",
              "1048562       1        11  \n",
              "1048563       1        44  \n",
              "1048564       1        36  \n",
              "1048565       1        69  \n",
              "1048566       1        10  \n",
              "\n",
              "[985322 rows x 11 columns]"
            ],
            "text/html": [
              "\n",
              "  <div id=\"df-d493afe9-e2c1-401d-bba6-512fcc07cfa7\">\n",
              "    <div class=\"colab-df-container\">\n",
              "      <div>\n",
              "<style scoped>\n",
              "    .dataframe tbody tr th:only-of-type {\n",
              "        vertical-align: middle;\n",
              "    }\n",
              "\n",
              "    .dataframe tbody tr th {\n",
              "        vertical-align: top;\n",
              "    }\n",
              "\n",
              "    .dataframe thead th {\n",
              "        text-align: right;\n",
              "    }\n",
              "</style>\n",
              "<table border=\"1\" class=\"dataframe\">\n",
              "  <thead>\n",
              "    <tr style=\"text-align: right;\">\n",
              "      <th></th>\n",
              "      <th>CustomerID</th>\n",
              "      <th>CustomerDOB</th>\n",
              "      <th>CustGender</th>\n",
              "      <th>CustLocation</th>\n",
              "      <th>CustAccountBalance</th>\n",
              "      <th>TransactionDate</th>\n",
              "      <th>TransactionTime</th>\n",
              "      <th>TransactionAmount (INR)</th>\n",
              "      <th>age</th>\n",
              "      <th>Gender</th>\n",
              "      <th>location</th>\n",
              "    </tr>\n",
              "  </thead>\n",
              "  <tbody>\n",
              "    <tr>\n",
              "      <th>0</th>\n",
              "      <td>5841053</td>\n",
              "      <td>1994-10-01</td>\n",
              "      <td>F</td>\n",
              "      <td>JAMSHEDPUR</td>\n",
              "      <td>17819.05</td>\n",
              "      <td>2/8/2016</td>\n",
              "      <td>143207</td>\n",
              "      <td>25.0</td>\n",
              "      <td>28</td>\n",
              "      <td>0</td>\n",
              "      <td>0</td>\n",
              "    </tr>\n",
              "    <tr>\n",
              "      <th>1</th>\n",
              "      <td>2142763</td>\n",
              "      <td>1957-04-04</td>\n",
              "      <td>M</td>\n",
              "      <td>JHAJJAR</td>\n",
              "      <td>2270.69</td>\n",
              "      <td>2/8/2016</td>\n",
              "      <td>141858</td>\n",
              "      <td>27999.0</td>\n",
              "      <td>65</td>\n",
              "      <td>1</td>\n",
              "      <td>1</td>\n",
              "    </tr>\n",
              "    <tr>\n",
              "      <th>2</th>\n",
              "      <td>4417068</td>\n",
              "      <td>1996-11-26</td>\n",
              "      <td>F</td>\n",
              "      <td>MUMBAI</td>\n",
              "      <td>17874.44</td>\n",
              "      <td>2/8/2016</td>\n",
              "      <td>142712</td>\n",
              "      <td>459.0</td>\n",
              "      <td>26</td>\n",
              "      <td>0</td>\n",
              "      <td>2</td>\n",
              "    </tr>\n",
              "    <tr>\n",
              "      <th>3</th>\n",
              "      <td>5342380</td>\n",
              "      <td>1973-09-14</td>\n",
              "      <td>F</td>\n",
              "      <td>MUMBAI</td>\n",
              "      <td>866503.21</td>\n",
              "      <td>2/8/2016</td>\n",
              "      <td>142714</td>\n",
              "      <td>2060.0</td>\n",
              "      <td>49</td>\n",
              "      <td>0</td>\n",
              "      <td>2</td>\n",
              "    </tr>\n",
              "    <tr>\n",
              "      <th>4</th>\n",
              "      <td>9031234</td>\n",
              "      <td>1988-03-24</td>\n",
              "      <td>F</td>\n",
              "      <td>NAVI MUMBAI</td>\n",
              "      <td>6714.43</td>\n",
              "      <td>2/8/2016</td>\n",
              "      <td>181156</td>\n",
              "      <td>1762.5</td>\n",
              "      <td>34</td>\n",
              "      <td>0</td>\n",
              "      <td>3</td>\n",
              "    </tr>\n",
              "    <tr>\n",
              "      <th>...</th>\n",
              "      <td>...</td>\n",
              "      <td>...</td>\n",
              "      <td>...</td>\n",
              "      <td>...</td>\n",
              "      <td>...</td>\n",
              "      <td>...</td>\n",
              "      <td>...</td>\n",
              "      <td>...</td>\n",
              "      <td>...</td>\n",
              "      <td>...</td>\n",
              "      <td>...</td>\n",
              "    </tr>\n",
              "    <tr>\n",
              "      <th>1048562</th>\n",
              "      <td>8020229</td>\n",
              "      <td>1990-08-04</td>\n",
              "      <td>M</td>\n",
              "      <td>NEW DELHI</td>\n",
              "      <td>7635.19</td>\n",
              "      <td>18/9/16</td>\n",
              "      <td>184824</td>\n",
              "      <td>799.0</td>\n",
              "      <td>32</td>\n",
              "      <td>1</td>\n",
              "      <td>11</td>\n",
              "    </tr>\n",
              "    <tr>\n",
              "      <th>1048563</th>\n",
              "      <td>6459278</td>\n",
              "      <td>1992-02-20</td>\n",
              "      <td>M</td>\n",
              "      <td>NASHIK</td>\n",
              "      <td>27311.42</td>\n",
              "      <td>18/9/16</td>\n",
              "      <td>183734</td>\n",
              "      <td>460.0</td>\n",
              "      <td>30</td>\n",
              "      <td>1</td>\n",
              "      <td>44</td>\n",
              "    </tr>\n",
              "    <tr>\n",
              "      <th>1048564</th>\n",
              "      <td>6412354</td>\n",
              "      <td>1989-05-18</td>\n",
              "      <td>M</td>\n",
              "      <td>HYDERABAD</td>\n",
              "      <td>221757.06</td>\n",
              "      <td>18/9/16</td>\n",
              "      <td>183313</td>\n",
              "      <td>770.0</td>\n",
              "      <td>33</td>\n",
              "      <td>1</td>\n",
              "      <td>36</td>\n",
              "    </tr>\n",
              "    <tr>\n",
              "      <th>1048565</th>\n",
              "      <td>6420483</td>\n",
              "      <td>1978-08-30</td>\n",
              "      <td>M</td>\n",
              "      <td>VISAKHAPATNAM</td>\n",
              "      <td>10117.87</td>\n",
              "      <td>18/9/16</td>\n",
              "      <td>184706</td>\n",
              "      <td>1000.0</td>\n",
              "      <td>44</td>\n",
              "      <td>1</td>\n",
              "      <td>69</td>\n",
              "    </tr>\n",
              "    <tr>\n",
              "      <th>1048566</th>\n",
              "      <td>8337524</td>\n",
              "      <td>1984-05-03</td>\n",
              "      <td>M</td>\n",
              "      <td>PUNE</td>\n",
              "      <td>75734.42</td>\n",
              "      <td>18/9/16</td>\n",
              "      <td>181222</td>\n",
              "      <td>1166.0</td>\n",
              "      <td>38</td>\n",
              "      <td>1</td>\n",
              "      <td>10</td>\n",
              "    </tr>\n",
              "  </tbody>\n",
              "</table>\n",
              "<p>985322 rows × 11 columns</p>\n",
              "</div>\n",
              "      <button class=\"colab-df-convert\" onclick=\"convertToInteractive('df-d493afe9-e2c1-401d-bba6-512fcc07cfa7')\"\n",
              "              title=\"Convert this dataframe to an interactive table.\"\n",
              "              style=\"display:none;\">\n",
              "        \n",
              "  <svg xmlns=\"http://www.w3.org/2000/svg\" height=\"24px\"viewBox=\"0 0 24 24\"\n",
              "       width=\"24px\">\n",
              "    <path d=\"M0 0h24v24H0V0z\" fill=\"none\"/>\n",
              "    <path d=\"M18.56 5.44l.94 2.06.94-2.06 2.06-.94-2.06-.94-.94-2.06-.94 2.06-2.06.94zm-11 1L8.5 8.5l.94-2.06 2.06-.94-2.06-.94L8.5 2.5l-.94 2.06-2.06.94zm10 10l.94 2.06.94-2.06 2.06-.94-2.06-.94-.94-2.06-.94 2.06-2.06.94z\"/><path d=\"M17.41 7.96l-1.37-1.37c-.4-.4-.92-.59-1.43-.59-.52 0-1.04.2-1.43.59L10.3 9.45l-7.72 7.72c-.78.78-.78 2.05 0 2.83L4 21.41c.39.39.9.59 1.41.59.51 0 1.02-.2 1.41-.59l7.78-7.78 2.81-2.81c.8-.78.8-2.07 0-2.86zM5.41 20L4 18.59l7.72-7.72 1.47 1.35L5.41 20z\"/>\n",
              "  </svg>\n",
              "      </button>\n",
              "      \n",
              "  <style>\n",
              "    .colab-df-container {\n",
              "      display:flex;\n",
              "      flex-wrap:wrap;\n",
              "      gap: 12px;\n",
              "    }\n",
              "\n",
              "    .colab-df-convert {\n",
              "      background-color: #E8F0FE;\n",
              "      border: none;\n",
              "      border-radius: 50%;\n",
              "      cursor: pointer;\n",
              "      display: none;\n",
              "      fill: #1967D2;\n",
              "      height: 32px;\n",
              "      padding: 0 0 0 0;\n",
              "      width: 32px;\n",
              "    }\n",
              "\n",
              "    .colab-df-convert:hover {\n",
              "      background-color: #E2EBFA;\n",
              "      box-shadow: 0px 1px 2px rgba(60, 64, 67, 0.3), 0px 1px 3px 1px rgba(60, 64, 67, 0.15);\n",
              "      fill: #174EA6;\n",
              "    }\n",
              "\n",
              "    [theme=dark] .colab-df-convert {\n",
              "      background-color: #3B4455;\n",
              "      fill: #D2E3FC;\n",
              "    }\n",
              "\n",
              "    [theme=dark] .colab-df-convert:hover {\n",
              "      background-color: #434B5C;\n",
              "      box-shadow: 0px 1px 3px 1px rgba(0, 0, 0, 0.15);\n",
              "      filter: drop-shadow(0px 1px 2px rgba(0, 0, 0, 0.3));\n",
              "      fill: #FFFFFF;\n",
              "    }\n",
              "  </style>\n",
              "\n",
              "      <script>\n",
              "        const buttonEl =\n",
              "          document.querySelector('#df-d493afe9-e2c1-401d-bba6-512fcc07cfa7 button.colab-df-convert');\n",
              "        buttonEl.style.display =\n",
              "          google.colab.kernel.accessAllowed ? 'block' : 'none';\n",
              "\n",
              "        async function convertToInteractive(key) {\n",
              "          const element = document.querySelector('#df-d493afe9-e2c1-401d-bba6-512fcc07cfa7');\n",
              "          const dataTable =\n",
              "            await google.colab.kernel.invokeFunction('convertToInteractive',\n",
              "                                                     [key], {});\n",
              "          if (!dataTable) return;\n",
              "\n",
              "          const docLinkHtml = 'Like what you see? Visit the ' +\n",
              "            '<a target=\"_blank\" href=https://colab.research.google.com/notebooks/data_table.ipynb>data table notebook</a>'\n",
              "            + ' to learn more about interactive tables.';\n",
              "          element.innerHTML = '';\n",
              "          dataTable['output_type'] = 'display_data';\n",
              "          await google.colab.output.renderOutput(dataTable, element);\n",
              "          const docLink = document.createElement('div');\n",
              "          docLink.innerHTML = docLinkHtml;\n",
              "          element.appendChild(docLink);\n",
              "        }\n",
              "      </script>\n",
              "    </div>\n",
              "  </div>\n",
              "  "
            ]
          },
          "metadata": {},
          "execution_count": 129
        }
      ]
    },
    {
      "cell_type": "markdown",
      "source": [
        "We are not going to be utilizing the location within clustering becasuse it may cause issues when clustering.  There are over 8,000 unique locations however, the diffience in value between these are not necessary convey meaninful geographic information.\n",
        "\n",
        "> For example, values 7,999 and 8,000 are right next to eachother when performing clustering, but are they actually next to eachother when looking on a map?"
      ],
      "metadata": {
        "id": "iryj6KcuQGpB"
      }
    },
    {
      "cell_type": "code",
      "source": [
        "\n",
        "df.loc[df['location'].isin([7999, 8000])]"
      ],
      "metadata": {
        "colab": {
          "base_uri": "https://localhost:8080/",
          "height": 225
        },
        "id": "EU2gSjqMP6de",
        "outputId": "0c3f4da9-553f-4151-9cc7-6528da453115"
      },
      "execution_count": 130,
      "outputs": [
        {
          "output_type": "execute_result",
          "data": {
            "text/plain": [
              "        CustomerID CustomerDOB CustGender                       CustLocation  \\\n",
              "964702     7333919  1988-01-02          F                            HARIPAD   \n",
              "964834     6433734  1988-05-23          M  SAHIBJADA AJIT SINGH NAGAR MOHALI   \n",
              "\n",
              "        CustAccountBalance TransactionDate  TransactionTime  \\\n",
              "964702            40087.43       10/9/2016           154056   \n",
              "964834             7627.06       10/9/2016           121308   \n",
              "\n",
              "        TransactionAmount (INR)  age  Gender  location  \n",
              "964702                    599.0   35       0      7999  \n",
              "964834                    399.0   34       1      8000  "
            ],
            "text/html": [
              "\n",
              "  <div id=\"df-d733a946-c2b0-4832-9fd9-edc68f4495b1\">\n",
              "    <div class=\"colab-df-container\">\n",
              "      <div>\n",
              "<style scoped>\n",
              "    .dataframe tbody tr th:only-of-type {\n",
              "        vertical-align: middle;\n",
              "    }\n",
              "\n",
              "    .dataframe tbody tr th {\n",
              "        vertical-align: top;\n",
              "    }\n",
              "\n",
              "    .dataframe thead th {\n",
              "        text-align: right;\n",
              "    }\n",
              "</style>\n",
              "<table border=\"1\" class=\"dataframe\">\n",
              "  <thead>\n",
              "    <tr style=\"text-align: right;\">\n",
              "      <th></th>\n",
              "      <th>CustomerID</th>\n",
              "      <th>CustomerDOB</th>\n",
              "      <th>CustGender</th>\n",
              "      <th>CustLocation</th>\n",
              "      <th>CustAccountBalance</th>\n",
              "      <th>TransactionDate</th>\n",
              "      <th>TransactionTime</th>\n",
              "      <th>TransactionAmount (INR)</th>\n",
              "      <th>age</th>\n",
              "      <th>Gender</th>\n",
              "      <th>location</th>\n",
              "    </tr>\n",
              "  </thead>\n",
              "  <tbody>\n",
              "    <tr>\n",
              "      <th>964702</th>\n",
              "      <td>7333919</td>\n",
              "      <td>1988-01-02</td>\n",
              "      <td>F</td>\n",
              "      <td>HARIPAD</td>\n",
              "      <td>40087.43</td>\n",
              "      <td>10/9/2016</td>\n",
              "      <td>154056</td>\n",
              "      <td>599.0</td>\n",
              "      <td>35</td>\n",
              "      <td>0</td>\n",
              "      <td>7999</td>\n",
              "    </tr>\n",
              "    <tr>\n",
              "      <th>964834</th>\n",
              "      <td>6433734</td>\n",
              "      <td>1988-05-23</td>\n",
              "      <td>M</td>\n",
              "      <td>SAHIBJADA AJIT SINGH NAGAR MOHALI</td>\n",
              "      <td>7627.06</td>\n",
              "      <td>10/9/2016</td>\n",
              "      <td>121308</td>\n",
              "      <td>399.0</td>\n",
              "      <td>34</td>\n",
              "      <td>1</td>\n",
              "      <td>8000</td>\n",
              "    </tr>\n",
              "  </tbody>\n",
              "</table>\n",
              "</div>\n",
              "      <button class=\"colab-df-convert\" onclick=\"convertToInteractive('df-d733a946-c2b0-4832-9fd9-edc68f4495b1')\"\n",
              "              title=\"Convert this dataframe to an interactive table.\"\n",
              "              style=\"display:none;\">\n",
              "        \n",
              "  <svg xmlns=\"http://www.w3.org/2000/svg\" height=\"24px\"viewBox=\"0 0 24 24\"\n",
              "       width=\"24px\">\n",
              "    <path d=\"M0 0h24v24H0V0z\" fill=\"none\"/>\n",
              "    <path d=\"M18.56 5.44l.94 2.06.94-2.06 2.06-.94-2.06-.94-.94-2.06-.94 2.06-2.06.94zm-11 1L8.5 8.5l.94-2.06 2.06-.94-2.06-.94L8.5 2.5l-.94 2.06-2.06.94zm10 10l.94 2.06.94-2.06 2.06-.94-2.06-.94-.94-2.06-.94 2.06-2.06.94z\"/><path d=\"M17.41 7.96l-1.37-1.37c-.4-.4-.92-.59-1.43-.59-.52 0-1.04.2-1.43.59L10.3 9.45l-7.72 7.72c-.78.78-.78 2.05 0 2.83L4 21.41c.39.39.9.59 1.41.59.51 0 1.02-.2 1.41-.59l7.78-7.78 2.81-2.81c.8-.78.8-2.07 0-2.86zM5.41 20L4 18.59l7.72-7.72 1.47 1.35L5.41 20z\"/>\n",
              "  </svg>\n",
              "      </button>\n",
              "      \n",
              "  <style>\n",
              "    .colab-df-container {\n",
              "      display:flex;\n",
              "      flex-wrap:wrap;\n",
              "      gap: 12px;\n",
              "    }\n",
              "\n",
              "    .colab-df-convert {\n",
              "      background-color: #E8F0FE;\n",
              "      border: none;\n",
              "      border-radius: 50%;\n",
              "      cursor: pointer;\n",
              "      display: none;\n",
              "      fill: #1967D2;\n",
              "      height: 32px;\n",
              "      padding: 0 0 0 0;\n",
              "      width: 32px;\n",
              "    }\n",
              "\n",
              "    .colab-df-convert:hover {\n",
              "      background-color: #E2EBFA;\n",
              "      box-shadow: 0px 1px 2px rgba(60, 64, 67, 0.3), 0px 1px 3px 1px rgba(60, 64, 67, 0.15);\n",
              "      fill: #174EA6;\n",
              "    }\n",
              "\n",
              "    [theme=dark] .colab-df-convert {\n",
              "      background-color: #3B4455;\n",
              "      fill: #D2E3FC;\n",
              "    }\n",
              "\n",
              "    [theme=dark] .colab-df-convert:hover {\n",
              "      background-color: #434B5C;\n",
              "      box-shadow: 0px 1px 3px 1px rgba(0, 0, 0, 0.15);\n",
              "      filter: drop-shadow(0px 1px 2px rgba(0, 0, 0, 0.3));\n",
              "      fill: #FFFFFF;\n",
              "    }\n",
              "  </style>\n",
              "\n",
              "      <script>\n",
              "        const buttonEl =\n",
              "          document.querySelector('#df-d733a946-c2b0-4832-9fd9-edc68f4495b1 button.colab-df-convert');\n",
              "        buttonEl.style.display =\n",
              "          google.colab.kernel.accessAllowed ? 'block' : 'none';\n",
              "\n",
              "        async function convertToInteractive(key) {\n",
              "          const element = document.querySelector('#df-d733a946-c2b0-4832-9fd9-edc68f4495b1');\n",
              "          const dataTable =\n",
              "            await google.colab.kernel.invokeFunction('convertToInteractive',\n",
              "                                                     [key], {});\n",
              "          if (!dataTable) return;\n",
              "\n",
              "          const docLinkHtml = 'Like what you see? Visit the ' +\n",
              "            '<a target=\"_blank\" href=https://colab.research.google.com/notebooks/data_table.ipynb>data table notebook</a>'\n",
              "            + ' to learn more about interactive tables.';\n",
              "          element.innerHTML = '';\n",
              "          dataTable['output_type'] = 'display_data';\n",
              "          await google.colab.output.renderOutput(dataTable, element);\n",
              "          const docLink = document.createElement('div');\n",
              "          docLink.innerHTML = docLinkHtml;\n",
              "          element.appendChild(docLink);\n",
              "        }\n",
              "      </script>\n",
              "    </div>\n",
              "  </div>\n",
              "  "
            ]
          },
          "metadata": {},
          "execution_count": 130
        }
      ]
    },
    {
      "cell_type": "markdown",
      "source": [
        "When looking up directions to these two places, they are over a 2 day car ride away from eachother!\n",
        "\n",
        "This could be handled by converting all of the locations into latitude and longitude, but for the purposes of this data exploration, we are going to omit the variable.  "
      ],
      "metadata": {
        "id": "jc9x5dc9P68b"
      }
    },
    {
      "cell_type": "markdown",
      "source": [
        "When considering my transactions, I have a normal cadience of transactions depending on the time of year and also the time of month.  So we are going to split our transaction date column into seperate columns for month and day.  We are not going to use Year since all transactions take place in 2016."
      ],
      "metadata": {
        "id": "Xvm3LnpeyuEu"
      }
    },
    {
      "cell_type": "code",
      "source": [
        "df['TransactionDate']=pd.to_datetime(df['TransactionDate'])\n",
        "df['day']=df['TransactionDate'].dt.day\n",
        "df['month']=df['TransactionDate'].dt.month\n",
        "df"
      ],
      "metadata": {
        "colab": {
          "base_uri": "https://localhost:8080/",
          "height": 505
        },
        "id": "XmgRfBHxyoEh",
        "outputId": "0cb793b3-92f3-40ba-c8e3-e4a258b535ae"
      },
      "execution_count": 131,
      "outputs": [
        {
          "output_type": "execute_result",
          "data": {
            "text/plain": [
              "         CustomerID CustomerDOB CustGender   CustLocation  CustAccountBalance  \\\n",
              "0           5841053  1994-10-01          F     JAMSHEDPUR            17819.05   \n",
              "1           2142763  1957-04-04          M        JHAJJAR             2270.69   \n",
              "2           4417068  1996-11-26          F         MUMBAI            17874.44   \n",
              "3           5342380  1973-09-14          F         MUMBAI           866503.21   \n",
              "4           9031234  1988-03-24          F    NAVI MUMBAI             6714.43   \n",
              "...             ...         ...        ...            ...                 ...   \n",
              "1048562     8020229  1990-08-04          M      NEW DELHI             7635.19   \n",
              "1048563     6459278  1992-02-20          M         NASHIK            27311.42   \n",
              "1048564     6412354  1989-05-18          M      HYDERABAD           221757.06   \n",
              "1048565     6420483  1978-08-30          M  VISAKHAPATNAM            10117.87   \n",
              "1048566     8337524  1984-05-03          M           PUNE            75734.42   \n",
              "\n",
              "        TransactionDate  TransactionTime  TransactionAmount (INR)  age  \\\n",
              "0            2016-02-08           143207                     25.0   28   \n",
              "1            2016-02-08           141858                  27999.0   65   \n",
              "2            2016-02-08           142712                    459.0   26   \n",
              "3            2016-02-08           142714                   2060.0   49   \n",
              "4            2016-02-08           181156                   1762.5   34   \n",
              "...                 ...              ...                      ...  ...   \n",
              "1048562      2016-09-18           184824                    799.0   32   \n",
              "1048563      2016-09-18           183734                    460.0   30   \n",
              "1048564      2016-09-18           183313                    770.0   33   \n",
              "1048565      2016-09-18           184706                   1000.0   44   \n",
              "1048566      2016-09-18           181222                   1166.0   38   \n",
              "\n",
              "         Gender  location  day  month  \n",
              "0             0         0    8      2  \n",
              "1             1         1    8      2  \n",
              "2             0         2    8      2  \n",
              "3             0         2    8      2  \n",
              "4             0         3    8      2  \n",
              "...         ...       ...  ...    ...  \n",
              "1048562       1        11   18      9  \n",
              "1048563       1        44   18      9  \n",
              "1048564       1        36   18      9  \n",
              "1048565       1        69   18      9  \n",
              "1048566       1        10   18      9  \n",
              "\n",
              "[985322 rows x 13 columns]"
            ],
            "text/html": [
              "\n",
              "  <div id=\"df-2e585d69-31cb-4bbc-bc06-e9df565d2afc\">\n",
              "    <div class=\"colab-df-container\">\n",
              "      <div>\n",
              "<style scoped>\n",
              "    .dataframe tbody tr th:only-of-type {\n",
              "        vertical-align: middle;\n",
              "    }\n",
              "\n",
              "    .dataframe tbody tr th {\n",
              "        vertical-align: top;\n",
              "    }\n",
              "\n",
              "    .dataframe thead th {\n",
              "        text-align: right;\n",
              "    }\n",
              "</style>\n",
              "<table border=\"1\" class=\"dataframe\">\n",
              "  <thead>\n",
              "    <tr style=\"text-align: right;\">\n",
              "      <th></th>\n",
              "      <th>CustomerID</th>\n",
              "      <th>CustomerDOB</th>\n",
              "      <th>CustGender</th>\n",
              "      <th>CustLocation</th>\n",
              "      <th>CustAccountBalance</th>\n",
              "      <th>TransactionDate</th>\n",
              "      <th>TransactionTime</th>\n",
              "      <th>TransactionAmount (INR)</th>\n",
              "      <th>age</th>\n",
              "      <th>Gender</th>\n",
              "      <th>location</th>\n",
              "      <th>day</th>\n",
              "      <th>month</th>\n",
              "    </tr>\n",
              "  </thead>\n",
              "  <tbody>\n",
              "    <tr>\n",
              "      <th>0</th>\n",
              "      <td>5841053</td>\n",
              "      <td>1994-10-01</td>\n",
              "      <td>F</td>\n",
              "      <td>JAMSHEDPUR</td>\n",
              "      <td>17819.05</td>\n",
              "      <td>2016-02-08</td>\n",
              "      <td>143207</td>\n",
              "      <td>25.0</td>\n",
              "      <td>28</td>\n",
              "      <td>0</td>\n",
              "      <td>0</td>\n",
              "      <td>8</td>\n",
              "      <td>2</td>\n",
              "    </tr>\n",
              "    <tr>\n",
              "      <th>1</th>\n",
              "      <td>2142763</td>\n",
              "      <td>1957-04-04</td>\n",
              "      <td>M</td>\n",
              "      <td>JHAJJAR</td>\n",
              "      <td>2270.69</td>\n",
              "      <td>2016-02-08</td>\n",
              "      <td>141858</td>\n",
              "      <td>27999.0</td>\n",
              "      <td>65</td>\n",
              "      <td>1</td>\n",
              "      <td>1</td>\n",
              "      <td>8</td>\n",
              "      <td>2</td>\n",
              "    </tr>\n",
              "    <tr>\n",
              "      <th>2</th>\n",
              "      <td>4417068</td>\n",
              "      <td>1996-11-26</td>\n",
              "      <td>F</td>\n",
              "      <td>MUMBAI</td>\n",
              "      <td>17874.44</td>\n",
              "      <td>2016-02-08</td>\n",
              "      <td>142712</td>\n",
              "      <td>459.0</td>\n",
              "      <td>26</td>\n",
              "      <td>0</td>\n",
              "      <td>2</td>\n",
              "      <td>8</td>\n",
              "      <td>2</td>\n",
              "    </tr>\n",
              "    <tr>\n",
              "      <th>3</th>\n",
              "      <td>5342380</td>\n",
              "      <td>1973-09-14</td>\n",
              "      <td>F</td>\n",
              "      <td>MUMBAI</td>\n",
              "      <td>866503.21</td>\n",
              "      <td>2016-02-08</td>\n",
              "      <td>142714</td>\n",
              "      <td>2060.0</td>\n",
              "      <td>49</td>\n",
              "      <td>0</td>\n",
              "      <td>2</td>\n",
              "      <td>8</td>\n",
              "      <td>2</td>\n",
              "    </tr>\n",
              "    <tr>\n",
              "      <th>4</th>\n",
              "      <td>9031234</td>\n",
              "      <td>1988-03-24</td>\n",
              "      <td>F</td>\n",
              "      <td>NAVI MUMBAI</td>\n",
              "      <td>6714.43</td>\n",
              "      <td>2016-02-08</td>\n",
              "      <td>181156</td>\n",
              "      <td>1762.5</td>\n",
              "      <td>34</td>\n",
              "      <td>0</td>\n",
              "      <td>3</td>\n",
              "      <td>8</td>\n",
              "      <td>2</td>\n",
              "    </tr>\n",
              "    <tr>\n",
              "      <th>...</th>\n",
              "      <td>...</td>\n",
              "      <td>...</td>\n",
              "      <td>...</td>\n",
              "      <td>...</td>\n",
              "      <td>...</td>\n",
              "      <td>...</td>\n",
              "      <td>...</td>\n",
              "      <td>...</td>\n",
              "      <td>...</td>\n",
              "      <td>...</td>\n",
              "      <td>...</td>\n",
              "      <td>...</td>\n",
              "      <td>...</td>\n",
              "    </tr>\n",
              "    <tr>\n",
              "      <th>1048562</th>\n",
              "      <td>8020229</td>\n",
              "      <td>1990-08-04</td>\n",
              "      <td>M</td>\n",
              "      <td>NEW DELHI</td>\n",
              "      <td>7635.19</td>\n",
              "      <td>2016-09-18</td>\n",
              "      <td>184824</td>\n",
              "      <td>799.0</td>\n",
              "      <td>32</td>\n",
              "      <td>1</td>\n",
              "      <td>11</td>\n",
              "      <td>18</td>\n",
              "      <td>9</td>\n",
              "    </tr>\n",
              "    <tr>\n",
              "      <th>1048563</th>\n",
              "      <td>6459278</td>\n",
              "      <td>1992-02-20</td>\n",
              "      <td>M</td>\n",
              "      <td>NASHIK</td>\n",
              "      <td>27311.42</td>\n",
              "      <td>2016-09-18</td>\n",
              "      <td>183734</td>\n",
              "      <td>460.0</td>\n",
              "      <td>30</td>\n",
              "      <td>1</td>\n",
              "      <td>44</td>\n",
              "      <td>18</td>\n",
              "      <td>9</td>\n",
              "    </tr>\n",
              "    <tr>\n",
              "      <th>1048564</th>\n",
              "      <td>6412354</td>\n",
              "      <td>1989-05-18</td>\n",
              "      <td>M</td>\n",
              "      <td>HYDERABAD</td>\n",
              "      <td>221757.06</td>\n",
              "      <td>2016-09-18</td>\n",
              "      <td>183313</td>\n",
              "      <td>770.0</td>\n",
              "      <td>33</td>\n",
              "      <td>1</td>\n",
              "      <td>36</td>\n",
              "      <td>18</td>\n",
              "      <td>9</td>\n",
              "    </tr>\n",
              "    <tr>\n",
              "      <th>1048565</th>\n",
              "      <td>6420483</td>\n",
              "      <td>1978-08-30</td>\n",
              "      <td>M</td>\n",
              "      <td>VISAKHAPATNAM</td>\n",
              "      <td>10117.87</td>\n",
              "      <td>2016-09-18</td>\n",
              "      <td>184706</td>\n",
              "      <td>1000.0</td>\n",
              "      <td>44</td>\n",
              "      <td>1</td>\n",
              "      <td>69</td>\n",
              "      <td>18</td>\n",
              "      <td>9</td>\n",
              "    </tr>\n",
              "    <tr>\n",
              "      <th>1048566</th>\n",
              "      <td>8337524</td>\n",
              "      <td>1984-05-03</td>\n",
              "      <td>M</td>\n",
              "      <td>PUNE</td>\n",
              "      <td>75734.42</td>\n",
              "      <td>2016-09-18</td>\n",
              "      <td>181222</td>\n",
              "      <td>1166.0</td>\n",
              "      <td>38</td>\n",
              "      <td>1</td>\n",
              "      <td>10</td>\n",
              "      <td>18</td>\n",
              "      <td>9</td>\n",
              "    </tr>\n",
              "  </tbody>\n",
              "</table>\n",
              "<p>985322 rows × 13 columns</p>\n",
              "</div>\n",
              "      <button class=\"colab-df-convert\" onclick=\"convertToInteractive('df-2e585d69-31cb-4bbc-bc06-e9df565d2afc')\"\n",
              "              title=\"Convert this dataframe to an interactive table.\"\n",
              "              style=\"display:none;\">\n",
              "        \n",
              "  <svg xmlns=\"http://www.w3.org/2000/svg\" height=\"24px\"viewBox=\"0 0 24 24\"\n",
              "       width=\"24px\">\n",
              "    <path d=\"M0 0h24v24H0V0z\" fill=\"none\"/>\n",
              "    <path d=\"M18.56 5.44l.94 2.06.94-2.06 2.06-.94-2.06-.94-.94-2.06-.94 2.06-2.06.94zm-11 1L8.5 8.5l.94-2.06 2.06-.94-2.06-.94L8.5 2.5l-.94 2.06-2.06.94zm10 10l.94 2.06.94-2.06 2.06-.94-2.06-.94-.94-2.06-.94 2.06-2.06.94z\"/><path d=\"M17.41 7.96l-1.37-1.37c-.4-.4-.92-.59-1.43-.59-.52 0-1.04.2-1.43.59L10.3 9.45l-7.72 7.72c-.78.78-.78 2.05 0 2.83L4 21.41c.39.39.9.59 1.41.59.51 0 1.02-.2 1.41-.59l7.78-7.78 2.81-2.81c.8-.78.8-2.07 0-2.86zM5.41 20L4 18.59l7.72-7.72 1.47 1.35L5.41 20z\"/>\n",
              "  </svg>\n",
              "      </button>\n",
              "      \n",
              "  <style>\n",
              "    .colab-df-container {\n",
              "      display:flex;\n",
              "      flex-wrap:wrap;\n",
              "      gap: 12px;\n",
              "    }\n",
              "\n",
              "    .colab-df-convert {\n",
              "      background-color: #E8F0FE;\n",
              "      border: none;\n",
              "      border-radius: 50%;\n",
              "      cursor: pointer;\n",
              "      display: none;\n",
              "      fill: #1967D2;\n",
              "      height: 32px;\n",
              "      padding: 0 0 0 0;\n",
              "      width: 32px;\n",
              "    }\n",
              "\n",
              "    .colab-df-convert:hover {\n",
              "      background-color: #E2EBFA;\n",
              "      box-shadow: 0px 1px 2px rgba(60, 64, 67, 0.3), 0px 1px 3px 1px rgba(60, 64, 67, 0.15);\n",
              "      fill: #174EA6;\n",
              "    }\n",
              "\n",
              "    [theme=dark] .colab-df-convert {\n",
              "      background-color: #3B4455;\n",
              "      fill: #D2E3FC;\n",
              "    }\n",
              "\n",
              "    [theme=dark] .colab-df-convert:hover {\n",
              "      background-color: #434B5C;\n",
              "      box-shadow: 0px 1px 3px 1px rgba(0, 0, 0, 0.15);\n",
              "      filter: drop-shadow(0px 1px 2px rgba(0, 0, 0, 0.3));\n",
              "      fill: #FFFFFF;\n",
              "    }\n",
              "  </style>\n",
              "\n",
              "      <script>\n",
              "        const buttonEl =\n",
              "          document.querySelector('#df-2e585d69-31cb-4bbc-bc06-e9df565d2afc button.colab-df-convert');\n",
              "        buttonEl.style.display =\n",
              "          google.colab.kernel.accessAllowed ? 'block' : 'none';\n",
              "\n",
              "        async function convertToInteractive(key) {\n",
              "          const element = document.querySelector('#df-2e585d69-31cb-4bbc-bc06-e9df565d2afc');\n",
              "          const dataTable =\n",
              "            await google.colab.kernel.invokeFunction('convertToInteractive',\n",
              "                                                     [key], {});\n",
              "          if (!dataTable) return;\n",
              "\n",
              "          const docLinkHtml = 'Like what you see? Visit the ' +\n",
              "            '<a target=\"_blank\" href=https://colab.research.google.com/notebooks/data_table.ipynb>data table notebook</a>'\n",
              "            + ' to learn more about interactive tables.';\n",
              "          element.innerHTML = '';\n",
              "          dataTable['output_type'] = 'display_data';\n",
              "          await google.colab.output.renderOutput(dataTable, element);\n",
              "          const docLink = document.createElement('div');\n",
              "          docLink.innerHTML = docLinkHtml;\n",
              "          element.appendChild(docLink);\n",
              "        }\n",
              "      </script>\n",
              "    </div>\n",
              "  </div>\n",
              "  "
            ]
          },
          "metadata": {},
          "execution_count": 131
        }
      ]
    },
    {
      "cell_type": "markdown",
      "source": [
        "Another factor to consider is the time of the day that a transaction is taking place.  So we are going to conver from the unix timestamp into the hour of the day the transaction took place in miliary time."
      ],
      "metadata": {
        "id": "8af-9r2J1lcO"
      }
    },
    {
      "cell_type": "code",
      "source": [
        "df['hour']=pd.to_datetime(df['TransactionTime'], unit='s').dt.hour\n",
        "df"
      ],
      "metadata": {
        "colab": {
          "base_uri": "https://localhost:8080/",
          "height": 505
        },
        "id": "eB_KdNeH2LmQ",
        "outputId": "4f960223-665d-4f3a-d36c-80cafa540345"
      },
      "execution_count": 132,
      "outputs": [
        {
          "output_type": "execute_result",
          "data": {
            "text/plain": [
              "         CustomerID CustomerDOB CustGender   CustLocation  CustAccountBalance  \\\n",
              "0           5841053  1994-10-01          F     JAMSHEDPUR            17819.05   \n",
              "1           2142763  1957-04-04          M        JHAJJAR             2270.69   \n",
              "2           4417068  1996-11-26          F         MUMBAI            17874.44   \n",
              "3           5342380  1973-09-14          F         MUMBAI           866503.21   \n",
              "4           9031234  1988-03-24          F    NAVI MUMBAI             6714.43   \n",
              "...             ...         ...        ...            ...                 ...   \n",
              "1048562     8020229  1990-08-04          M      NEW DELHI             7635.19   \n",
              "1048563     6459278  1992-02-20          M         NASHIK            27311.42   \n",
              "1048564     6412354  1989-05-18          M      HYDERABAD           221757.06   \n",
              "1048565     6420483  1978-08-30          M  VISAKHAPATNAM            10117.87   \n",
              "1048566     8337524  1984-05-03          M           PUNE            75734.42   \n",
              "\n",
              "        TransactionDate  TransactionTime  TransactionAmount (INR)  age  \\\n",
              "0            2016-02-08           143207                     25.0   28   \n",
              "1            2016-02-08           141858                  27999.0   65   \n",
              "2            2016-02-08           142712                    459.0   26   \n",
              "3            2016-02-08           142714                   2060.0   49   \n",
              "4            2016-02-08           181156                   1762.5   34   \n",
              "...                 ...              ...                      ...  ...   \n",
              "1048562      2016-09-18           184824                    799.0   32   \n",
              "1048563      2016-09-18           183734                    460.0   30   \n",
              "1048564      2016-09-18           183313                    770.0   33   \n",
              "1048565      2016-09-18           184706                   1000.0   44   \n",
              "1048566      2016-09-18           181222                   1166.0   38   \n",
              "\n",
              "         Gender  location  day  month  hour  \n",
              "0             0         0    8      2    15  \n",
              "1             1         1    8      2    15  \n",
              "2             0         2    8      2    15  \n",
              "3             0         2    8      2    15  \n",
              "4             0         3    8      2     2  \n",
              "...         ...       ...  ...    ...   ...  \n",
              "1048562       1        11   18      9     3  \n",
              "1048563       1        44   18      9     3  \n",
              "1048564       1        36   18      9     2  \n",
              "1048565       1        69   18      9     3  \n",
              "1048566       1        10   18      9     2  \n",
              "\n",
              "[985322 rows x 14 columns]"
            ],
            "text/html": [
              "\n",
              "  <div id=\"df-70aaaf07-e6f1-4e98-943b-c0cc1e126d7a\">\n",
              "    <div class=\"colab-df-container\">\n",
              "      <div>\n",
              "<style scoped>\n",
              "    .dataframe tbody tr th:only-of-type {\n",
              "        vertical-align: middle;\n",
              "    }\n",
              "\n",
              "    .dataframe tbody tr th {\n",
              "        vertical-align: top;\n",
              "    }\n",
              "\n",
              "    .dataframe thead th {\n",
              "        text-align: right;\n",
              "    }\n",
              "</style>\n",
              "<table border=\"1\" class=\"dataframe\">\n",
              "  <thead>\n",
              "    <tr style=\"text-align: right;\">\n",
              "      <th></th>\n",
              "      <th>CustomerID</th>\n",
              "      <th>CustomerDOB</th>\n",
              "      <th>CustGender</th>\n",
              "      <th>CustLocation</th>\n",
              "      <th>CustAccountBalance</th>\n",
              "      <th>TransactionDate</th>\n",
              "      <th>TransactionTime</th>\n",
              "      <th>TransactionAmount (INR)</th>\n",
              "      <th>age</th>\n",
              "      <th>Gender</th>\n",
              "      <th>location</th>\n",
              "      <th>day</th>\n",
              "      <th>month</th>\n",
              "      <th>hour</th>\n",
              "    </tr>\n",
              "  </thead>\n",
              "  <tbody>\n",
              "    <tr>\n",
              "      <th>0</th>\n",
              "      <td>5841053</td>\n",
              "      <td>1994-10-01</td>\n",
              "      <td>F</td>\n",
              "      <td>JAMSHEDPUR</td>\n",
              "      <td>17819.05</td>\n",
              "      <td>2016-02-08</td>\n",
              "      <td>143207</td>\n",
              "      <td>25.0</td>\n",
              "      <td>28</td>\n",
              "      <td>0</td>\n",
              "      <td>0</td>\n",
              "      <td>8</td>\n",
              "      <td>2</td>\n",
              "      <td>15</td>\n",
              "    </tr>\n",
              "    <tr>\n",
              "      <th>1</th>\n",
              "      <td>2142763</td>\n",
              "      <td>1957-04-04</td>\n",
              "      <td>M</td>\n",
              "      <td>JHAJJAR</td>\n",
              "      <td>2270.69</td>\n",
              "      <td>2016-02-08</td>\n",
              "      <td>141858</td>\n",
              "      <td>27999.0</td>\n",
              "      <td>65</td>\n",
              "      <td>1</td>\n",
              "      <td>1</td>\n",
              "      <td>8</td>\n",
              "      <td>2</td>\n",
              "      <td>15</td>\n",
              "    </tr>\n",
              "    <tr>\n",
              "      <th>2</th>\n",
              "      <td>4417068</td>\n",
              "      <td>1996-11-26</td>\n",
              "      <td>F</td>\n",
              "      <td>MUMBAI</td>\n",
              "      <td>17874.44</td>\n",
              "      <td>2016-02-08</td>\n",
              "      <td>142712</td>\n",
              "      <td>459.0</td>\n",
              "      <td>26</td>\n",
              "      <td>0</td>\n",
              "      <td>2</td>\n",
              "      <td>8</td>\n",
              "      <td>2</td>\n",
              "      <td>15</td>\n",
              "    </tr>\n",
              "    <tr>\n",
              "      <th>3</th>\n",
              "      <td>5342380</td>\n",
              "      <td>1973-09-14</td>\n",
              "      <td>F</td>\n",
              "      <td>MUMBAI</td>\n",
              "      <td>866503.21</td>\n",
              "      <td>2016-02-08</td>\n",
              "      <td>142714</td>\n",
              "      <td>2060.0</td>\n",
              "      <td>49</td>\n",
              "      <td>0</td>\n",
              "      <td>2</td>\n",
              "      <td>8</td>\n",
              "      <td>2</td>\n",
              "      <td>15</td>\n",
              "    </tr>\n",
              "    <tr>\n",
              "      <th>4</th>\n",
              "      <td>9031234</td>\n",
              "      <td>1988-03-24</td>\n",
              "      <td>F</td>\n",
              "      <td>NAVI MUMBAI</td>\n",
              "      <td>6714.43</td>\n",
              "      <td>2016-02-08</td>\n",
              "      <td>181156</td>\n",
              "      <td>1762.5</td>\n",
              "      <td>34</td>\n",
              "      <td>0</td>\n",
              "      <td>3</td>\n",
              "      <td>8</td>\n",
              "      <td>2</td>\n",
              "      <td>2</td>\n",
              "    </tr>\n",
              "    <tr>\n",
              "      <th>...</th>\n",
              "      <td>...</td>\n",
              "      <td>...</td>\n",
              "      <td>...</td>\n",
              "      <td>...</td>\n",
              "      <td>...</td>\n",
              "      <td>...</td>\n",
              "      <td>...</td>\n",
              "      <td>...</td>\n",
              "      <td>...</td>\n",
              "      <td>...</td>\n",
              "      <td>...</td>\n",
              "      <td>...</td>\n",
              "      <td>...</td>\n",
              "      <td>...</td>\n",
              "    </tr>\n",
              "    <tr>\n",
              "      <th>1048562</th>\n",
              "      <td>8020229</td>\n",
              "      <td>1990-08-04</td>\n",
              "      <td>M</td>\n",
              "      <td>NEW DELHI</td>\n",
              "      <td>7635.19</td>\n",
              "      <td>2016-09-18</td>\n",
              "      <td>184824</td>\n",
              "      <td>799.0</td>\n",
              "      <td>32</td>\n",
              "      <td>1</td>\n",
              "      <td>11</td>\n",
              "      <td>18</td>\n",
              "      <td>9</td>\n",
              "      <td>3</td>\n",
              "    </tr>\n",
              "    <tr>\n",
              "      <th>1048563</th>\n",
              "      <td>6459278</td>\n",
              "      <td>1992-02-20</td>\n",
              "      <td>M</td>\n",
              "      <td>NASHIK</td>\n",
              "      <td>27311.42</td>\n",
              "      <td>2016-09-18</td>\n",
              "      <td>183734</td>\n",
              "      <td>460.0</td>\n",
              "      <td>30</td>\n",
              "      <td>1</td>\n",
              "      <td>44</td>\n",
              "      <td>18</td>\n",
              "      <td>9</td>\n",
              "      <td>3</td>\n",
              "    </tr>\n",
              "    <tr>\n",
              "      <th>1048564</th>\n",
              "      <td>6412354</td>\n",
              "      <td>1989-05-18</td>\n",
              "      <td>M</td>\n",
              "      <td>HYDERABAD</td>\n",
              "      <td>221757.06</td>\n",
              "      <td>2016-09-18</td>\n",
              "      <td>183313</td>\n",
              "      <td>770.0</td>\n",
              "      <td>33</td>\n",
              "      <td>1</td>\n",
              "      <td>36</td>\n",
              "      <td>18</td>\n",
              "      <td>9</td>\n",
              "      <td>2</td>\n",
              "    </tr>\n",
              "    <tr>\n",
              "      <th>1048565</th>\n",
              "      <td>6420483</td>\n",
              "      <td>1978-08-30</td>\n",
              "      <td>M</td>\n",
              "      <td>VISAKHAPATNAM</td>\n",
              "      <td>10117.87</td>\n",
              "      <td>2016-09-18</td>\n",
              "      <td>184706</td>\n",
              "      <td>1000.0</td>\n",
              "      <td>44</td>\n",
              "      <td>1</td>\n",
              "      <td>69</td>\n",
              "      <td>18</td>\n",
              "      <td>9</td>\n",
              "      <td>3</td>\n",
              "    </tr>\n",
              "    <tr>\n",
              "      <th>1048566</th>\n",
              "      <td>8337524</td>\n",
              "      <td>1984-05-03</td>\n",
              "      <td>M</td>\n",
              "      <td>PUNE</td>\n",
              "      <td>75734.42</td>\n",
              "      <td>2016-09-18</td>\n",
              "      <td>181222</td>\n",
              "      <td>1166.0</td>\n",
              "      <td>38</td>\n",
              "      <td>1</td>\n",
              "      <td>10</td>\n",
              "      <td>18</td>\n",
              "      <td>9</td>\n",
              "      <td>2</td>\n",
              "    </tr>\n",
              "  </tbody>\n",
              "</table>\n",
              "<p>985322 rows × 14 columns</p>\n",
              "</div>\n",
              "      <button class=\"colab-df-convert\" onclick=\"convertToInteractive('df-70aaaf07-e6f1-4e98-943b-c0cc1e126d7a')\"\n",
              "              title=\"Convert this dataframe to an interactive table.\"\n",
              "              style=\"display:none;\">\n",
              "        \n",
              "  <svg xmlns=\"http://www.w3.org/2000/svg\" height=\"24px\"viewBox=\"0 0 24 24\"\n",
              "       width=\"24px\">\n",
              "    <path d=\"M0 0h24v24H0V0z\" fill=\"none\"/>\n",
              "    <path d=\"M18.56 5.44l.94 2.06.94-2.06 2.06-.94-2.06-.94-.94-2.06-.94 2.06-2.06.94zm-11 1L8.5 8.5l.94-2.06 2.06-.94-2.06-.94L8.5 2.5l-.94 2.06-2.06.94zm10 10l.94 2.06.94-2.06 2.06-.94-2.06-.94-.94-2.06-.94 2.06-2.06.94z\"/><path d=\"M17.41 7.96l-1.37-1.37c-.4-.4-.92-.59-1.43-.59-.52 0-1.04.2-1.43.59L10.3 9.45l-7.72 7.72c-.78.78-.78 2.05 0 2.83L4 21.41c.39.39.9.59 1.41.59.51 0 1.02-.2 1.41-.59l7.78-7.78 2.81-2.81c.8-.78.8-2.07 0-2.86zM5.41 20L4 18.59l7.72-7.72 1.47 1.35L5.41 20z\"/>\n",
              "  </svg>\n",
              "      </button>\n",
              "      \n",
              "  <style>\n",
              "    .colab-df-container {\n",
              "      display:flex;\n",
              "      flex-wrap:wrap;\n",
              "      gap: 12px;\n",
              "    }\n",
              "\n",
              "    .colab-df-convert {\n",
              "      background-color: #E8F0FE;\n",
              "      border: none;\n",
              "      border-radius: 50%;\n",
              "      cursor: pointer;\n",
              "      display: none;\n",
              "      fill: #1967D2;\n",
              "      height: 32px;\n",
              "      padding: 0 0 0 0;\n",
              "      width: 32px;\n",
              "    }\n",
              "\n",
              "    .colab-df-convert:hover {\n",
              "      background-color: #E2EBFA;\n",
              "      box-shadow: 0px 1px 2px rgba(60, 64, 67, 0.3), 0px 1px 3px 1px rgba(60, 64, 67, 0.15);\n",
              "      fill: #174EA6;\n",
              "    }\n",
              "\n",
              "    [theme=dark] .colab-df-convert {\n",
              "      background-color: #3B4455;\n",
              "      fill: #D2E3FC;\n",
              "    }\n",
              "\n",
              "    [theme=dark] .colab-df-convert:hover {\n",
              "      background-color: #434B5C;\n",
              "      box-shadow: 0px 1px 3px 1px rgba(0, 0, 0, 0.15);\n",
              "      filter: drop-shadow(0px 1px 2px rgba(0, 0, 0, 0.3));\n",
              "      fill: #FFFFFF;\n",
              "    }\n",
              "  </style>\n",
              "\n",
              "      <script>\n",
              "        const buttonEl =\n",
              "          document.querySelector('#df-70aaaf07-e6f1-4e98-943b-c0cc1e126d7a button.colab-df-convert');\n",
              "        buttonEl.style.display =\n",
              "          google.colab.kernel.accessAllowed ? 'block' : 'none';\n",
              "\n",
              "        async function convertToInteractive(key) {\n",
              "          const element = document.querySelector('#df-70aaaf07-e6f1-4e98-943b-c0cc1e126d7a');\n",
              "          const dataTable =\n",
              "            await google.colab.kernel.invokeFunction('convertToInteractive',\n",
              "                                                     [key], {});\n",
              "          if (!dataTable) return;\n",
              "\n",
              "          const docLinkHtml = 'Like what you see? Visit the ' +\n",
              "            '<a target=\"_blank\" href=https://colab.research.google.com/notebooks/data_table.ipynb>data table notebook</a>'\n",
              "            + ' to learn more about interactive tables.';\n",
              "          element.innerHTML = '';\n",
              "          dataTable['output_type'] = 'display_data';\n",
              "          await google.colab.output.renderOutput(dataTable, element);\n",
              "          const docLink = document.createElement('div');\n",
              "          docLink.innerHTML = docLinkHtml;\n",
              "          element.appendChild(docLink);\n",
              "        }\n",
              "      </script>\n",
              "    </div>\n",
              "  </div>\n",
              "  "
            ]
          },
          "metadata": {},
          "execution_count": 132
        }
      ]
    },
    {
      "cell_type": "markdown",
      "source": [
        "Another interesting way to potentially segment the customers would be the total number of transactions given by each individual. Then we can remove the CustomerID since we do not want this to be used in prediction. "
      ],
      "metadata": {
        "id": "fgiEcFow-XV5"
      }
    },
    {
      "cell_type": "code",
      "source": [
        "df['totalTransaction'] = df.groupby('CustomerID')['CustomerID'].transform('size')\n",
        "df['totalTransaction'].describe()"
      ],
      "metadata": {
        "colab": {
          "base_uri": "https://localhost:8080/"
        },
        "id": "vt1G1Hle-w88",
        "outputId": "cbed6d47-0ec9-4788-c928-71e5731f6350"
      },
      "execution_count": 133,
      "outputs": [
        {
          "output_type": "execute_result",
          "data": {
            "text/plain": [
              "count    985322.000000\n",
              "mean          1.335523\n",
              "std           0.591806\n",
              "min           1.000000\n",
              "25%           1.000000\n",
              "50%           1.000000\n",
              "75%           2.000000\n",
              "max           6.000000\n",
              "Name: totalTransaction, dtype: float64"
            ]
          },
          "metadata": {},
          "execution_count": 133
        }
      ]
    },
    {
      "cell_type": "markdown",
      "source": [
        "Now going to split off all of the numeric variables into a seperate dataframe."
      ],
      "metadata": {
        "id": "3BTMMIys0njg"
      }
    },
    {
      "cell_type": "code",
      "source": [
        "columnNames=['CustAccountBalance','TransactionAmount (INR)','Gender','age','day','month','hour','totalTransaction']\n",
        "dfint=df[columnNames]\n",
        "\n",
        "dfint"
      ],
      "metadata": {
        "colab": {
          "base_uri": "https://localhost:8080/",
          "height": 423
        },
        "id": "TUPBIiCvz89J",
        "outputId": "4510e02e-777b-435b-d759-bf91f7a150d3"
      },
      "execution_count": 153,
      "outputs": [
        {
          "output_type": "execute_result",
          "data": {
            "text/plain": [
              "         CustAccountBalance  TransactionAmount (INR)  Gender  age  day  month  \\\n",
              "0                  17819.05                     25.0       0   28    8      2   \n",
              "1                   2270.69                  27999.0       1   65    8      2   \n",
              "2                  17874.44                    459.0       0   26    8      2   \n",
              "3                 866503.21                   2060.0       0   49    8      2   \n",
              "4                   6714.43                   1762.5       0   34    8      2   \n",
              "...                     ...                      ...     ...  ...  ...    ...   \n",
              "1048562             7635.19                    799.0       1   32   18      9   \n",
              "1048563            27311.42                    460.0       1   30   18      9   \n",
              "1048564           221757.06                    770.0       1   33   18      9   \n",
              "1048565            10117.87                   1000.0       1   44   18      9   \n",
              "1048566            75734.42                   1166.0       1   38   18      9   \n",
              "\n",
              "         hour  totalTransaction  \n",
              "0          15                 1  \n",
              "1          15                 1  \n",
              "2          15                 1  \n",
              "3          15                 2  \n",
              "4           2                 1  \n",
              "...       ...               ...  \n",
              "1048562     3                 1  \n",
              "1048563     3                 1  \n",
              "1048564     2                 2  \n",
              "1048565     3                 1  \n",
              "1048566     2                 2  \n",
              "\n",
              "[985322 rows x 8 columns]"
            ],
            "text/html": [
              "\n",
              "  <div id=\"df-0a1653e2-6f45-419c-82e2-cbff3a1da894\">\n",
              "    <div class=\"colab-df-container\">\n",
              "      <div>\n",
              "<style scoped>\n",
              "    .dataframe tbody tr th:only-of-type {\n",
              "        vertical-align: middle;\n",
              "    }\n",
              "\n",
              "    .dataframe tbody tr th {\n",
              "        vertical-align: top;\n",
              "    }\n",
              "\n",
              "    .dataframe thead th {\n",
              "        text-align: right;\n",
              "    }\n",
              "</style>\n",
              "<table border=\"1\" class=\"dataframe\">\n",
              "  <thead>\n",
              "    <tr style=\"text-align: right;\">\n",
              "      <th></th>\n",
              "      <th>CustAccountBalance</th>\n",
              "      <th>TransactionAmount (INR)</th>\n",
              "      <th>Gender</th>\n",
              "      <th>age</th>\n",
              "      <th>day</th>\n",
              "      <th>month</th>\n",
              "      <th>hour</th>\n",
              "      <th>totalTransaction</th>\n",
              "    </tr>\n",
              "  </thead>\n",
              "  <tbody>\n",
              "    <tr>\n",
              "      <th>0</th>\n",
              "      <td>17819.05</td>\n",
              "      <td>25.0</td>\n",
              "      <td>0</td>\n",
              "      <td>28</td>\n",
              "      <td>8</td>\n",
              "      <td>2</td>\n",
              "      <td>15</td>\n",
              "      <td>1</td>\n",
              "    </tr>\n",
              "    <tr>\n",
              "      <th>1</th>\n",
              "      <td>2270.69</td>\n",
              "      <td>27999.0</td>\n",
              "      <td>1</td>\n",
              "      <td>65</td>\n",
              "      <td>8</td>\n",
              "      <td>2</td>\n",
              "      <td>15</td>\n",
              "      <td>1</td>\n",
              "    </tr>\n",
              "    <tr>\n",
              "      <th>2</th>\n",
              "      <td>17874.44</td>\n",
              "      <td>459.0</td>\n",
              "      <td>0</td>\n",
              "      <td>26</td>\n",
              "      <td>8</td>\n",
              "      <td>2</td>\n",
              "      <td>15</td>\n",
              "      <td>1</td>\n",
              "    </tr>\n",
              "    <tr>\n",
              "      <th>3</th>\n",
              "      <td>866503.21</td>\n",
              "      <td>2060.0</td>\n",
              "      <td>0</td>\n",
              "      <td>49</td>\n",
              "      <td>8</td>\n",
              "      <td>2</td>\n",
              "      <td>15</td>\n",
              "      <td>2</td>\n",
              "    </tr>\n",
              "    <tr>\n",
              "      <th>4</th>\n",
              "      <td>6714.43</td>\n",
              "      <td>1762.5</td>\n",
              "      <td>0</td>\n",
              "      <td>34</td>\n",
              "      <td>8</td>\n",
              "      <td>2</td>\n",
              "      <td>2</td>\n",
              "      <td>1</td>\n",
              "    </tr>\n",
              "    <tr>\n",
              "      <th>...</th>\n",
              "      <td>...</td>\n",
              "      <td>...</td>\n",
              "      <td>...</td>\n",
              "      <td>...</td>\n",
              "      <td>...</td>\n",
              "      <td>...</td>\n",
              "      <td>...</td>\n",
              "      <td>...</td>\n",
              "    </tr>\n",
              "    <tr>\n",
              "      <th>1048562</th>\n",
              "      <td>7635.19</td>\n",
              "      <td>799.0</td>\n",
              "      <td>1</td>\n",
              "      <td>32</td>\n",
              "      <td>18</td>\n",
              "      <td>9</td>\n",
              "      <td>3</td>\n",
              "      <td>1</td>\n",
              "    </tr>\n",
              "    <tr>\n",
              "      <th>1048563</th>\n",
              "      <td>27311.42</td>\n",
              "      <td>460.0</td>\n",
              "      <td>1</td>\n",
              "      <td>30</td>\n",
              "      <td>18</td>\n",
              "      <td>9</td>\n",
              "      <td>3</td>\n",
              "      <td>1</td>\n",
              "    </tr>\n",
              "    <tr>\n",
              "      <th>1048564</th>\n",
              "      <td>221757.06</td>\n",
              "      <td>770.0</td>\n",
              "      <td>1</td>\n",
              "      <td>33</td>\n",
              "      <td>18</td>\n",
              "      <td>9</td>\n",
              "      <td>2</td>\n",
              "      <td>2</td>\n",
              "    </tr>\n",
              "    <tr>\n",
              "      <th>1048565</th>\n",
              "      <td>10117.87</td>\n",
              "      <td>1000.0</td>\n",
              "      <td>1</td>\n",
              "      <td>44</td>\n",
              "      <td>18</td>\n",
              "      <td>9</td>\n",
              "      <td>3</td>\n",
              "      <td>1</td>\n",
              "    </tr>\n",
              "    <tr>\n",
              "      <th>1048566</th>\n",
              "      <td>75734.42</td>\n",
              "      <td>1166.0</td>\n",
              "      <td>1</td>\n",
              "      <td>38</td>\n",
              "      <td>18</td>\n",
              "      <td>9</td>\n",
              "      <td>2</td>\n",
              "      <td>2</td>\n",
              "    </tr>\n",
              "  </tbody>\n",
              "</table>\n",
              "<p>985322 rows × 8 columns</p>\n",
              "</div>\n",
              "      <button class=\"colab-df-convert\" onclick=\"convertToInteractive('df-0a1653e2-6f45-419c-82e2-cbff3a1da894')\"\n",
              "              title=\"Convert this dataframe to an interactive table.\"\n",
              "              style=\"display:none;\">\n",
              "        \n",
              "  <svg xmlns=\"http://www.w3.org/2000/svg\" height=\"24px\"viewBox=\"0 0 24 24\"\n",
              "       width=\"24px\">\n",
              "    <path d=\"M0 0h24v24H0V0z\" fill=\"none\"/>\n",
              "    <path d=\"M18.56 5.44l.94 2.06.94-2.06 2.06-.94-2.06-.94-.94-2.06-.94 2.06-2.06.94zm-11 1L8.5 8.5l.94-2.06 2.06-.94-2.06-.94L8.5 2.5l-.94 2.06-2.06.94zm10 10l.94 2.06.94-2.06 2.06-.94-2.06-.94-.94-2.06-.94 2.06-2.06.94z\"/><path d=\"M17.41 7.96l-1.37-1.37c-.4-.4-.92-.59-1.43-.59-.52 0-1.04.2-1.43.59L10.3 9.45l-7.72 7.72c-.78.78-.78 2.05 0 2.83L4 21.41c.39.39.9.59 1.41.59.51 0 1.02-.2 1.41-.59l7.78-7.78 2.81-2.81c.8-.78.8-2.07 0-2.86zM5.41 20L4 18.59l7.72-7.72 1.47 1.35L5.41 20z\"/>\n",
              "  </svg>\n",
              "      </button>\n",
              "      \n",
              "  <style>\n",
              "    .colab-df-container {\n",
              "      display:flex;\n",
              "      flex-wrap:wrap;\n",
              "      gap: 12px;\n",
              "    }\n",
              "\n",
              "    .colab-df-convert {\n",
              "      background-color: #E8F0FE;\n",
              "      border: none;\n",
              "      border-radius: 50%;\n",
              "      cursor: pointer;\n",
              "      display: none;\n",
              "      fill: #1967D2;\n",
              "      height: 32px;\n",
              "      padding: 0 0 0 0;\n",
              "      width: 32px;\n",
              "    }\n",
              "\n",
              "    .colab-df-convert:hover {\n",
              "      background-color: #E2EBFA;\n",
              "      box-shadow: 0px 1px 2px rgba(60, 64, 67, 0.3), 0px 1px 3px 1px rgba(60, 64, 67, 0.15);\n",
              "      fill: #174EA6;\n",
              "    }\n",
              "\n",
              "    [theme=dark] .colab-df-convert {\n",
              "      background-color: #3B4455;\n",
              "      fill: #D2E3FC;\n",
              "    }\n",
              "\n",
              "    [theme=dark] .colab-df-convert:hover {\n",
              "      background-color: #434B5C;\n",
              "      box-shadow: 0px 1px 3px 1px rgba(0, 0, 0, 0.15);\n",
              "      filter: drop-shadow(0px 1px 2px rgba(0, 0, 0, 0.3));\n",
              "      fill: #FFFFFF;\n",
              "    }\n",
              "  </style>\n",
              "\n",
              "      <script>\n",
              "        const buttonEl =\n",
              "          document.querySelector('#df-0a1653e2-6f45-419c-82e2-cbff3a1da894 button.colab-df-convert');\n",
              "        buttonEl.style.display =\n",
              "          google.colab.kernel.accessAllowed ? 'block' : 'none';\n",
              "\n",
              "        async function convertToInteractive(key) {\n",
              "          const element = document.querySelector('#df-0a1653e2-6f45-419c-82e2-cbff3a1da894');\n",
              "          const dataTable =\n",
              "            await google.colab.kernel.invokeFunction('convertToInteractive',\n",
              "                                                     [key], {});\n",
              "          if (!dataTable) return;\n",
              "\n",
              "          const docLinkHtml = 'Like what you see? Visit the ' +\n",
              "            '<a target=\"_blank\" href=https://colab.research.google.com/notebooks/data_table.ipynb>data table notebook</a>'\n",
              "            + ' to learn more about interactive tables.';\n",
              "          element.innerHTML = '';\n",
              "          dataTable['output_type'] = 'display_data';\n",
              "          await google.colab.output.renderOutput(dataTable, element);\n",
              "          const docLink = document.createElement('div');\n",
              "          docLink.innerHTML = docLinkHtml;\n",
              "          element.appendChild(docLink);\n",
              "        }\n",
              "      </script>\n",
              "    </div>\n",
              "  </div>\n",
              "  "
            ]
          },
          "metadata": {},
          "execution_count": 153
        }
      ]
    },
    {
      "cell_type": "code",
      "source": [
        "dfint.describe().T"
      ],
      "metadata": {
        "colab": {
          "base_uri": "https://localhost:8080/",
          "height": 300
        },
        "id": "SguFQ_ML3Ydd",
        "outputId": "267f3cc9-99c0-452b-95b5-ad9660979b74"
      },
      "execution_count": 135,
      "outputs": [
        {
          "output_type": "execute_result",
          "data": {
            "text/plain": [
              "                            count           mean            std  min  \\\n",
              "CustAccountBalance       985322.0  106061.188580  817905.353760  0.0   \n",
              "TransactionAmount (INR)  985322.0    1452.425149    6139.765064  0.0   \n",
              "Gender                   985322.0       0.723067       0.447483  0.0   \n",
              "age                      985322.0      37.160557       8.776490  8.0   \n",
              "day                      985322.0      14.409463       7.284729  8.0   \n",
              "month                    985322.0       7.349036       2.633786  1.0   \n",
              "hour                     985322.0      10.419153       6.500388  0.0   \n",
              "totalTransaction         985322.0       1.335523       0.591806  1.0   \n",
              "\n",
              "                               25%      50%       75%           max  \n",
              "CustAccountBalance       4582.1325  16006.3  53759.08  1.150355e+08  \n",
              "TransactionAmount (INR)   151.0000    431.0   1125.00  1.560035e+06  \n",
              "Gender                      0.0000      1.0      1.00  1.000000e+00  \n",
              "age                        31.0000     35.0     41.00  1.070000e+02  \n",
              "day                         8.0000      9.0     20.00  3.100000e+01  \n",
              "month                       6.0000      8.0      9.00  1.200000e+01  \n",
              "hour                        5.0000     10.0     15.00  2.300000e+01  \n",
              "totalTransaction            1.0000      1.0      2.00  6.000000e+00  "
            ],
            "text/html": [
              "\n",
              "  <div id=\"df-c2b6cfed-c160-48db-80ff-44eca575046f\">\n",
              "    <div class=\"colab-df-container\">\n",
              "      <div>\n",
              "<style scoped>\n",
              "    .dataframe tbody tr th:only-of-type {\n",
              "        vertical-align: middle;\n",
              "    }\n",
              "\n",
              "    .dataframe tbody tr th {\n",
              "        vertical-align: top;\n",
              "    }\n",
              "\n",
              "    .dataframe thead th {\n",
              "        text-align: right;\n",
              "    }\n",
              "</style>\n",
              "<table border=\"1\" class=\"dataframe\">\n",
              "  <thead>\n",
              "    <tr style=\"text-align: right;\">\n",
              "      <th></th>\n",
              "      <th>count</th>\n",
              "      <th>mean</th>\n",
              "      <th>std</th>\n",
              "      <th>min</th>\n",
              "      <th>25%</th>\n",
              "      <th>50%</th>\n",
              "      <th>75%</th>\n",
              "      <th>max</th>\n",
              "    </tr>\n",
              "  </thead>\n",
              "  <tbody>\n",
              "    <tr>\n",
              "      <th>CustAccountBalance</th>\n",
              "      <td>985322.0</td>\n",
              "      <td>106061.188580</td>\n",
              "      <td>817905.353760</td>\n",
              "      <td>0.0</td>\n",
              "      <td>4582.1325</td>\n",
              "      <td>16006.3</td>\n",
              "      <td>53759.08</td>\n",
              "      <td>1.150355e+08</td>\n",
              "    </tr>\n",
              "    <tr>\n",
              "      <th>TransactionAmount (INR)</th>\n",
              "      <td>985322.0</td>\n",
              "      <td>1452.425149</td>\n",
              "      <td>6139.765064</td>\n",
              "      <td>0.0</td>\n",
              "      <td>151.0000</td>\n",
              "      <td>431.0</td>\n",
              "      <td>1125.00</td>\n",
              "      <td>1.560035e+06</td>\n",
              "    </tr>\n",
              "    <tr>\n",
              "      <th>Gender</th>\n",
              "      <td>985322.0</td>\n",
              "      <td>0.723067</td>\n",
              "      <td>0.447483</td>\n",
              "      <td>0.0</td>\n",
              "      <td>0.0000</td>\n",
              "      <td>1.0</td>\n",
              "      <td>1.00</td>\n",
              "      <td>1.000000e+00</td>\n",
              "    </tr>\n",
              "    <tr>\n",
              "      <th>age</th>\n",
              "      <td>985322.0</td>\n",
              "      <td>37.160557</td>\n",
              "      <td>8.776490</td>\n",
              "      <td>8.0</td>\n",
              "      <td>31.0000</td>\n",
              "      <td>35.0</td>\n",
              "      <td>41.00</td>\n",
              "      <td>1.070000e+02</td>\n",
              "    </tr>\n",
              "    <tr>\n",
              "      <th>day</th>\n",
              "      <td>985322.0</td>\n",
              "      <td>14.409463</td>\n",
              "      <td>7.284729</td>\n",
              "      <td>8.0</td>\n",
              "      <td>8.0000</td>\n",
              "      <td>9.0</td>\n",
              "      <td>20.00</td>\n",
              "      <td>3.100000e+01</td>\n",
              "    </tr>\n",
              "    <tr>\n",
              "      <th>month</th>\n",
              "      <td>985322.0</td>\n",
              "      <td>7.349036</td>\n",
              "      <td>2.633786</td>\n",
              "      <td>1.0</td>\n",
              "      <td>6.0000</td>\n",
              "      <td>8.0</td>\n",
              "      <td>9.00</td>\n",
              "      <td>1.200000e+01</td>\n",
              "    </tr>\n",
              "    <tr>\n",
              "      <th>hour</th>\n",
              "      <td>985322.0</td>\n",
              "      <td>10.419153</td>\n",
              "      <td>6.500388</td>\n",
              "      <td>0.0</td>\n",
              "      <td>5.0000</td>\n",
              "      <td>10.0</td>\n",
              "      <td>15.00</td>\n",
              "      <td>2.300000e+01</td>\n",
              "    </tr>\n",
              "    <tr>\n",
              "      <th>totalTransaction</th>\n",
              "      <td>985322.0</td>\n",
              "      <td>1.335523</td>\n",
              "      <td>0.591806</td>\n",
              "      <td>1.0</td>\n",
              "      <td>1.0000</td>\n",
              "      <td>1.0</td>\n",
              "      <td>2.00</td>\n",
              "      <td>6.000000e+00</td>\n",
              "    </tr>\n",
              "  </tbody>\n",
              "</table>\n",
              "</div>\n",
              "      <button class=\"colab-df-convert\" onclick=\"convertToInteractive('df-c2b6cfed-c160-48db-80ff-44eca575046f')\"\n",
              "              title=\"Convert this dataframe to an interactive table.\"\n",
              "              style=\"display:none;\">\n",
              "        \n",
              "  <svg xmlns=\"http://www.w3.org/2000/svg\" height=\"24px\"viewBox=\"0 0 24 24\"\n",
              "       width=\"24px\">\n",
              "    <path d=\"M0 0h24v24H0V0z\" fill=\"none\"/>\n",
              "    <path d=\"M18.56 5.44l.94 2.06.94-2.06 2.06-.94-2.06-.94-.94-2.06-.94 2.06-2.06.94zm-11 1L8.5 8.5l.94-2.06 2.06-.94-2.06-.94L8.5 2.5l-.94 2.06-2.06.94zm10 10l.94 2.06.94-2.06 2.06-.94-2.06-.94-.94-2.06-.94 2.06-2.06.94z\"/><path d=\"M17.41 7.96l-1.37-1.37c-.4-.4-.92-.59-1.43-.59-.52 0-1.04.2-1.43.59L10.3 9.45l-7.72 7.72c-.78.78-.78 2.05 0 2.83L4 21.41c.39.39.9.59 1.41.59.51 0 1.02-.2 1.41-.59l7.78-7.78 2.81-2.81c.8-.78.8-2.07 0-2.86zM5.41 20L4 18.59l7.72-7.72 1.47 1.35L5.41 20z\"/>\n",
              "  </svg>\n",
              "      </button>\n",
              "      \n",
              "  <style>\n",
              "    .colab-df-container {\n",
              "      display:flex;\n",
              "      flex-wrap:wrap;\n",
              "      gap: 12px;\n",
              "    }\n",
              "\n",
              "    .colab-df-convert {\n",
              "      background-color: #E8F0FE;\n",
              "      border: none;\n",
              "      border-radius: 50%;\n",
              "      cursor: pointer;\n",
              "      display: none;\n",
              "      fill: #1967D2;\n",
              "      height: 32px;\n",
              "      padding: 0 0 0 0;\n",
              "      width: 32px;\n",
              "    }\n",
              "\n",
              "    .colab-df-convert:hover {\n",
              "      background-color: #E2EBFA;\n",
              "      box-shadow: 0px 1px 2px rgba(60, 64, 67, 0.3), 0px 1px 3px 1px rgba(60, 64, 67, 0.15);\n",
              "      fill: #174EA6;\n",
              "    }\n",
              "\n",
              "    [theme=dark] .colab-df-convert {\n",
              "      background-color: #3B4455;\n",
              "      fill: #D2E3FC;\n",
              "    }\n",
              "\n",
              "    [theme=dark] .colab-df-convert:hover {\n",
              "      background-color: #434B5C;\n",
              "      box-shadow: 0px 1px 3px 1px rgba(0, 0, 0, 0.15);\n",
              "      filter: drop-shadow(0px 1px 2px rgba(0, 0, 0, 0.3));\n",
              "      fill: #FFFFFF;\n",
              "    }\n",
              "  </style>\n",
              "\n",
              "      <script>\n",
              "        const buttonEl =\n",
              "          document.querySelector('#df-c2b6cfed-c160-48db-80ff-44eca575046f button.colab-df-convert');\n",
              "        buttonEl.style.display =\n",
              "          google.colab.kernel.accessAllowed ? 'block' : 'none';\n",
              "\n",
              "        async function convertToInteractive(key) {\n",
              "          const element = document.querySelector('#df-c2b6cfed-c160-48db-80ff-44eca575046f');\n",
              "          const dataTable =\n",
              "            await google.colab.kernel.invokeFunction('convertToInteractive',\n",
              "                                                     [key], {});\n",
              "          if (!dataTable) return;\n",
              "\n",
              "          const docLinkHtml = 'Like what you see? Visit the ' +\n",
              "            '<a target=\"_blank\" href=https://colab.research.google.com/notebooks/data_table.ipynb>data table notebook</a>'\n",
              "            + ' to learn more about interactive tables.';\n",
              "          element.innerHTML = '';\n",
              "          dataTable['output_type'] = 'display_data';\n",
              "          await google.colab.output.renderOutput(dataTable, element);\n",
              "          const docLink = document.createElement('div');\n",
              "          docLink.innerHTML = docLinkHtml;\n",
              "          element.appendChild(docLink);\n",
              "        }\n",
              "      </script>\n",
              "    </div>\n",
              "  </div>\n",
              "  "
            ]
          },
          "metadata": {},
          "execution_count": 135
        }
      ]
    },
    {
      "cell_type": "markdown",
      "source": [
        "Now lets normalize the data as well."
      ],
      "metadata": {
        "id": "C3h7y7nTMUnG"
      }
    },
    {
      "cell_type": "code",
      "source": [
        "s = StandardScaler()\n",
        "df_normal = s.fit_transform(dfint)\n",
        "df_normal=(df_normal-df_normal.min())/(df_normal.max()-df_normal.min())\n",
        "df_normal = pd.DataFrame(df_normal,columns=columnNames)\n",
        "df_normal.describe()"
      ],
      "metadata": {
        "id": "jCfyKOomMuH2",
        "colab": {
          "base_uri": "https://localhost:8080/",
          "height": 300
        },
        "outputId": "fe522156-0966-43be-e174-209ac9b17a01"
      },
      "execution_count": 154,
      "outputs": [
        {
          "output_type": "execute_result",
          "data": {
            "text/plain": [
              "       CustAccountBalance  TransactionAmount (INR)         Gender  \\\n",
              "count       985322.000000            985322.000000  985322.000000   \n",
              "mean             0.012920                 0.012920       0.012920   \n",
              "std              0.003888                 0.003888       0.003888   \n",
              "min              0.012415                 0.012000       0.006636   \n",
              "25%              0.012437                 0.012095       0.006636   \n",
              "50%              0.012491                 0.012273       0.015326   \n",
              "75%              0.012671                 0.012712       0.015326   \n",
              "max              0.559310                 1.000000       0.015326   \n",
              "\n",
              "                 age            day          month           hour  \\\n",
              "count  985322.000000  985322.000000  985322.000000  985322.000000   \n",
              "mean        0.012920       0.012920       0.012920       0.012920   \n",
              "std         0.003888       0.003888       0.003888       0.003888   \n",
              "min         0.000000       0.009498       0.003546       0.006687   \n",
              "25%         0.010190       0.009498       0.010928       0.009678   \n",
              "50%         0.011962       0.010032       0.013881       0.012669   \n",
              "75%         0.014621       0.015904       0.015357       0.015660   \n",
              "max         0.043862       0.021775       0.019786       0.020445   \n",
              "\n",
              "       totalTransaction  \n",
              "count     985322.000000  \n",
              "mean           0.012920  \n",
              "std            0.003888  \n",
              "min            0.010715  \n",
              "25%            0.010715  \n",
              "50%            0.010715  \n",
              "75%            0.017286  \n",
              "max            0.043567  "
            ],
            "text/html": [
              "\n",
              "  <div id=\"df-edfd4d6b-3fbc-410b-8027-b2586db9fbc1\">\n",
              "    <div class=\"colab-df-container\">\n",
              "      <div>\n",
              "<style scoped>\n",
              "    .dataframe tbody tr th:only-of-type {\n",
              "        vertical-align: middle;\n",
              "    }\n",
              "\n",
              "    .dataframe tbody tr th {\n",
              "        vertical-align: top;\n",
              "    }\n",
              "\n",
              "    .dataframe thead th {\n",
              "        text-align: right;\n",
              "    }\n",
              "</style>\n",
              "<table border=\"1\" class=\"dataframe\">\n",
              "  <thead>\n",
              "    <tr style=\"text-align: right;\">\n",
              "      <th></th>\n",
              "      <th>CustAccountBalance</th>\n",
              "      <th>TransactionAmount (INR)</th>\n",
              "      <th>Gender</th>\n",
              "      <th>age</th>\n",
              "      <th>day</th>\n",
              "      <th>month</th>\n",
              "      <th>hour</th>\n",
              "      <th>totalTransaction</th>\n",
              "    </tr>\n",
              "  </thead>\n",
              "  <tbody>\n",
              "    <tr>\n",
              "      <th>count</th>\n",
              "      <td>985322.000000</td>\n",
              "      <td>985322.000000</td>\n",
              "      <td>985322.000000</td>\n",
              "      <td>985322.000000</td>\n",
              "      <td>985322.000000</td>\n",
              "      <td>985322.000000</td>\n",
              "      <td>985322.000000</td>\n",
              "      <td>985322.000000</td>\n",
              "    </tr>\n",
              "    <tr>\n",
              "      <th>mean</th>\n",
              "      <td>0.012920</td>\n",
              "      <td>0.012920</td>\n",
              "      <td>0.012920</td>\n",
              "      <td>0.012920</td>\n",
              "      <td>0.012920</td>\n",
              "      <td>0.012920</td>\n",
              "      <td>0.012920</td>\n",
              "      <td>0.012920</td>\n",
              "    </tr>\n",
              "    <tr>\n",
              "      <th>std</th>\n",
              "      <td>0.003888</td>\n",
              "      <td>0.003888</td>\n",
              "      <td>0.003888</td>\n",
              "      <td>0.003888</td>\n",
              "      <td>0.003888</td>\n",
              "      <td>0.003888</td>\n",
              "      <td>0.003888</td>\n",
              "      <td>0.003888</td>\n",
              "    </tr>\n",
              "    <tr>\n",
              "      <th>min</th>\n",
              "      <td>0.012415</td>\n",
              "      <td>0.012000</td>\n",
              "      <td>0.006636</td>\n",
              "      <td>0.000000</td>\n",
              "      <td>0.009498</td>\n",
              "      <td>0.003546</td>\n",
              "      <td>0.006687</td>\n",
              "      <td>0.010715</td>\n",
              "    </tr>\n",
              "    <tr>\n",
              "      <th>25%</th>\n",
              "      <td>0.012437</td>\n",
              "      <td>0.012095</td>\n",
              "      <td>0.006636</td>\n",
              "      <td>0.010190</td>\n",
              "      <td>0.009498</td>\n",
              "      <td>0.010928</td>\n",
              "      <td>0.009678</td>\n",
              "      <td>0.010715</td>\n",
              "    </tr>\n",
              "    <tr>\n",
              "      <th>50%</th>\n",
              "      <td>0.012491</td>\n",
              "      <td>0.012273</td>\n",
              "      <td>0.015326</td>\n",
              "      <td>0.011962</td>\n",
              "      <td>0.010032</td>\n",
              "      <td>0.013881</td>\n",
              "      <td>0.012669</td>\n",
              "      <td>0.010715</td>\n",
              "    </tr>\n",
              "    <tr>\n",
              "      <th>75%</th>\n",
              "      <td>0.012671</td>\n",
              "      <td>0.012712</td>\n",
              "      <td>0.015326</td>\n",
              "      <td>0.014621</td>\n",
              "      <td>0.015904</td>\n",
              "      <td>0.015357</td>\n",
              "      <td>0.015660</td>\n",
              "      <td>0.017286</td>\n",
              "    </tr>\n",
              "    <tr>\n",
              "      <th>max</th>\n",
              "      <td>0.559310</td>\n",
              "      <td>1.000000</td>\n",
              "      <td>0.015326</td>\n",
              "      <td>0.043862</td>\n",
              "      <td>0.021775</td>\n",
              "      <td>0.019786</td>\n",
              "      <td>0.020445</td>\n",
              "      <td>0.043567</td>\n",
              "    </tr>\n",
              "  </tbody>\n",
              "</table>\n",
              "</div>\n",
              "      <button class=\"colab-df-convert\" onclick=\"convertToInteractive('df-edfd4d6b-3fbc-410b-8027-b2586db9fbc1')\"\n",
              "              title=\"Convert this dataframe to an interactive table.\"\n",
              "              style=\"display:none;\">\n",
              "        \n",
              "  <svg xmlns=\"http://www.w3.org/2000/svg\" height=\"24px\"viewBox=\"0 0 24 24\"\n",
              "       width=\"24px\">\n",
              "    <path d=\"M0 0h24v24H0V0z\" fill=\"none\"/>\n",
              "    <path d=\"M18.56 5.44l.94 2.06.94-2.06 2.06-.94-2.06-.94-.94-2.06-.94 2.06-2.06.94zm-11 1L8.5 8.5l.94-2.06 2.06-.94-2.06-.94L8.5 2.5l-.94 2.06-2.06.94zm10 10l.94 2.06.94-2.06 2.06-.94-2.06-.94-.94-2.06-.94 2.06-2.06.94z\"/><path d=\"M17.41 7.96l-1.37-1.37c-.4-.4-.92-.59-1.43-.59-.52 0-1.04.2-1.43.59L10.3 9.45l-7.72 7.72c-.78.78-.78 2.05 0 2.83L4 21.41c.39.39.9.59 1.41.59.51 0 1.02-.2 1.41-.59l7.78-7.78 2.81-2.81c.8-.78.8-2.07 0-2.86zM5.41 20L4 18.59l7.72-7.72 1.47 1.35L5.41 20z\"/>\n",
              "  </svg>\n",
              "      </button>\n",
              "      \n",
              "  <style>\n",
              "    .colab-df-container {\n",
              "      display:flex;\n",
              "      flex-wrap:wrap;\n",
              "      gap: 12px;\n",
              "    }\n",
              "\n",
              "    .colab-df-convert {\n",
              "      background-color: #E8F0FE;\n",
              "      border: none;\n",
              "      border-radius: 50%;\n",
              "      cursor: pointer;\n",
              "      display: none;\n",
              "      fill: #1967D2;\n",
              "      height: 32px;\n",
              "      padding: 0 0 0 0;\n",
              "      width: 32px;\n",
              "    }\n",
              "\n",
              "    .colab-df-convert:hover {\n",
              "      background-color: #E2EBFA;\n",
              "      box-shadow: 0px 1px 2px rgba(60, 64, 67, 0.3), 0px 1px 3px 1px rgba(60, 64, 67, 0.15);\n",
              "      fill: #174EA6;\n",
              "    }\n",
              "\n",
              "    [theme=dark] .colab-df-convert {\n",
              "      background-color: #3B4455;\n",
              "      fill: #D2E3FC;\n",
              "    }\n",
              "\n",
              "    [theme=dark] .colab-df-convert:hover {\n",
              "      background-color: #434B5C;\n",
              "      box-shadow: 0px 1px 3px 1px rgba(0, 0, 0, 0.15);\n",
              "      filter: drop-shadow(0px 1px 2px rgba(0, 0, 0, 0.3));\n",
              "      fill: #FFFFFF;\n",
              "    }\n",
              "  </style>\n",
              "\n",
              "      <script>\n",
              "        const buttonEl =\n",
              "          document.querySelector('#df-edfd4d6b-3fbc-410b-8027-b2586db9fbc1 button.colab-df-convert');\n",
              "        buttonEl.style.display =\n",
              "          google.colab.kernel.accessAllowed ? 'block' : 'none';\n",
              "\n",
              "        async function convertToInteractive(key) {\n",
              "          const element = document.querySelector('#df-edfd4d6b-3fbc-410b-8027-b2586db9fbc1');\n",
              "          const dataTable =\n",
              "            await google.colab.kernel.invokeFunction('convertToInteractive',\n",
              "                                                     [key], {});\n",
              "          if (!dataTable) return;\n",
              "\n",
              "          const docLinkHtml = 'Like what you see? Visit the ' +\n",
              "            '<a target=\"_blank\" href=https://colab.research.google.com/notebooks/data_table.ipynb>data table notebook</a>'\n",
              "            + ' to learn more about interactive tables.';\n",
              "          element.innerHTML = '';\n",
              "          dataTable['output_type'] = 'display_data';\n",
              "          await google.colab.output.renderOutput(dataTable, element);\n",
              "          const docLink = document.createElement('div');\n",
              "          docLink.innerHTML = docLinkHtml;\n",
              "          element.appendChild(docLink);\n",
              "        }\n",
              "      </script>\n",
              "    </div>\n",
              "  </div>\n",
              "  "
            ]
          },
          "metadata": {},
          "execution_count": 154
        }
      ]
    },
    {
      "cell_type": "markdown",
      "source": [
        "# Data Visualization"
      ],
      "metadata": {
        "id": "iIGIlaJm6ken"
      }
    },
    {
      "cell_type": "markdown",
      "source": [
        "We are going to spend some time plotting each feature within the dateframe to get an understanding of the distribution and outliers within the data set. "
      ],
      "metadata": {
        "id": "rmNNmuabSAKp"
      }
    },
    {
      "cell_type": "markdown",
      "source": [
        "## Histogram"
      ],
      "metadata": {
        "id": "UCN--HYI7a10"
      }
    },
    {
      "cell_type": "code",
      "source": [
        "for feature in df_normal:\n",
        "    plt.hist(df_normal[feature])\n",
        "    plt.title(feature)\n",
        "    plt.show()\n"
      ],
      "metadata": {
        "colab": {
          "base_uri": "https://localhost:8080/",
          "height": 1000
        },
        "id": "5WqBSftn7DK8",
        "outputId": "bbe20f77-d877-467a-c3bb-c3985947c93f"
      },
      "execution_count": 155,
      "outputs": [
        {
          "output_type": "display_data",
          "data": {
            "text/plain": [
              "<Figure size 432x288 with 1 Axes>"
            ],
            "image/png": "[encoded data removed]"
          },
          "metadata": {
            "needs_background": "light"
          }
        },
        {
          "output_type": "display_data",
          "data": {
            "text/plain": [
              "<Figure size 432x288 with 1 Axes>"
            ],
            "image/png": "[encoded data removed]"
          },
          "metadata": {
            "needs_background": "light"
          }
        },
        {
          "output_type": "display_data",
          "data": {
            "text/plain": [
              "<Figure size 432x288 with 1 Axes>"
            ],
            "image/png": "[encoded data removed]"
          },
          "metadata": {
            "needs_background": "light"
          }
        },
        {
          "output_type": "display_data",
          "data": {
            "text/plain": [
              "<Figure size 432x288 with 1 Axes>"
            ],
            "image/png": "[encoded data removed]"
          },
          "metadata": {
            "needs_background": "light"
          }
        },
        {
          "output_type": "display_data",
          "data": {
            "text/plain": [
              "<Figure size 432x288 with 1 Axes>"
            ],
            "image/png": "[encoded data removed]"
          },
          "metadata": {
            "needs_background": "light"
          }
        },
        {
          "output_type": "display_data",
          "data": {
            "text/plain": [
              "<Figure size 432x288 with 1 Axes>"
            ],
            "image/png": "[encoded data removed]"
          },
          "metadata": {
            "needs_background": "light"
          }
        },
        {
          "output_type": "display_data",
          "data": {
            "text/plain": [
              "<Figure size 432x288 with 1 Axes>"
            ],
            "image/png": "[encoded data removed]"
          },
          "metadata": {
            "needs_background": "light"
          }
        },
        {
          "output_type": "display_data",
          "data": {
            "text/plain": [
              "<Figure size 432x288 with 1 Axes>"
            ],
            "image/png": "[encoded data removed]"
          },
          "metadata": {
            "needs_background": "light"
          }
        }
      ]
    },
    {
      "cell_type": "markdown",
      "source": [
        "## Box Plot"
      ],
      "metadata": {
        "id": "XY-IHCTuL52X"
      }
    },
    {
      "cell_type": "code",
      "source": [
        "for feature in df_normal:\n",
        "    plt.boxplot(df_normal[feature])\n",
        "    plt.title(feature)\n",
        "    plt.show()"
      ],
      "metadata": {
        "colab": {
          "base_uri": "https://localhost:8080/",
          "height": 1000
        },
        "id": "-6SFGdMTL_A2",
        "outputId": "e413a670-75fc-43c9-e4d5-d9bb4c075a55"
      },
      "execution_count": 156,
      "outputs": [
        {
          "output_type": "display_data",
          "data": {
            "text/plain": [
              "<Figure size 432x288 with 1 Axes>"
            ],
            "image/png": "[encoded data removed]"
          },
          "metadata": {
            "needs_background": "light"
          }
        },
        {
          "output_type": "display_data",
          "data": {
            "text/plain": [
              "<Figure size 432x288 with 1 Axes>"
            ],
            "image/png": "[encoded data removed]"
          },
          "metadata": {
            "needs_background": "light"
          }
        },
        {
          "output_type": "display_data",
          "data": {
            "text/plain": [
              "<Figure size 432x288 with 1 Axes>"
            ],
            "image/png": "[encoded data removed]"
          },
          "metadata": {
            "needs_background": "light"
          }
        },
        {
          "output_type": "display_data",
          "data": {
            "text/plain": [
              "<Figure size 432x288 with 1 Axes>"
            ],
            "image/png": "[encoded data removed]"
          },
          "metadata": {
            "needs_background": "light"
          }
        },
        {
          "output_type": "display_data",
          "data": {
            "text/plain": [
              "<Figure size 432x288 with 1 Axes>"
            ],
            "image/png": "[encoded data removed]"
          },
          "metadata": {
            "needs_background": "light"
          }
        },
        {
          "output_type": "display_data",
          "data": {
            "text/plain": [
              "<Figure size 432x288 with 1 Axes>"
            ],
            "image/png": "[encoded data removed]"
          },
          "metadata": {
            "needs_background": "light"
          }
        },
        {
          "output_type": "display_data",
          "data": {
            "text/plain": [
              "<Figure size 432x288 with 1 Axes>"
            ],
            "image/png": "[encoded data removed]"
          },
          "metadata": {
            "needs_background": "light"
          }
        },
        {
          "output_type": "display_data",
          "data": {
            "text/plain": [
              "<Figure size 432x288 with 1 Axes>"
            ],
            "image/png": "[encoded data removed]"
          },
          "metadata": {
            "needs_background": "light"
          }
        }
      ]
    },
    {
      "cell_type": "markdown",
      "source": [
        "## Scatter Plot"
      ],
      "metadata": {
        "id": "vS5DuVrDRAX9"
      }
    },
    {
      "cell_type": "markdown",
      "source": [
        "Now lets take a look at the correlation and scatter plot of each combination of features.\n",
        "\n",
        "Be patient, this will take a second to load"
      ],
      "metadata": {
        "id": "zYLmfTv0RGPK"
      }
    },
    {
      "cell_type": "code",
      "source": [
        "variables=len(df_normal.axes[1])\n",
        "\n",
        "fig, axs = plt.subplots(variables, variables, figsize=(30,30))\n",
        "for i, xaxis in enumerate(df_normal.columns):\n",
        "  for j, yaxis in enumerate(df_normal.columns):\n",
        "    if i < j:\n",
        "      continue\n",
        "    axs[i, j].scatter(df_normal[xaxis], df_normal[yaxis])\n",
        "    axs[i, j].set_xlabel(xaxis)\n",
        "    axs[i, j].set_ylabel(yaxis)\n",
        "    axs[i, j].set_xticks([])\n",
        "    axs[i, j].set_yticks([])\n",
        "\n",
        "plt.tight_layout()\n",
        "plt.show()"
      ],
      "metadata": {
        "colab": {
          "base_uri": "https://localhost:8080/",
          "height": 1000
        },
        "id": "zcr4F7PvMAcA",
        "outputId": "694e0bbc-fc61-4f4e-a758-966afc3c7674"
      },
      "execution_count": 157,
      "outputs": [
        {
          "output_type": "display_data",
          "data": {
            "text/plain": [
              "<Figure size 2160x2160 with 64 Axes>"
            ],
            "image/png": "[encoded data removed]"
          },
          "metadata": {
            "needs_background": "light"
          }
        }
      ]
    },
    {
      "cell_type": "code",
      "source": [
        "correlation=df_normal.corr()\n",
        "round(correlation,3)"
      ],
      "metadata": {
        "colab": {
          "base_uri": "https://localhost:8080/",
          "height": 300
        },
        "id": "XHO2psPMRTRr",
        "outputId": "511ea03b-99b2-4a7c-b668-7da31864086f"
      },
      "execution_count": 158,
      "outputs": [
        {
          "output_type": "execute_result",
          "data": {
            "text/plain": [
              "                         CustAccountBalance  TransactionAmount (INR)  Gender  \\\n",
              "CustAccountBalance                    1.000                    0.061   0.003   \n",
              "TransactionAmount (INR)               0.061                    1.000  -0.015   \n",
              "Gender                                0.003                   -0.015   1.000   \n",
              "age                                   0.122                    0.103   0.036   \n",
              "day                                   0.009                   -0.003  -0.002   \n",
              "month                                 0.002                   -0.003   0.001   \n",
              "hour                                  0.005                    0.006   0.003   \n",
              "totalTransaction                      0.001                   -0.000   0.000   \n",
              "\n",
              "                           age    day  month   hour  totalTransaction  \n",
              "CustAccountBalance       0.122  0.009  0.002  0.005             0.001  \n",
              "TransactionAmount (INR)  0.103 -0.003 -0.003  0.006            -0.000  \n",
              "Gender                   0.036 -0.002  0.001  0.003             0.000  \n",
              "age                      1.000  0.020  0.006  0.003             0.000  \n",
              "day                      0.020  1.000  0.261 -0.002             0.000  \n",
              "month                    0.006  0.261  1.000  0.003            -0.000  \n",
              "hour                     0.003 -0.002  0.003  1.000            -0.003  \n",
              "totalTransaction         0.000  0.000 -0.000 -0.003             1.000  "
            ],
            "text/html": [
              "\n",
              "  <div id=\"df-8f3ab914-2849-4ef3-b082-3a19afc50014\">\n",
              "    <div class=\"colab-df-container\">\n",
              "      <div>\n",
              "<style scoped>\n",
              "    .dataframe tbody tr th:only-of-type {\n",
              "        vertical-align: middle;\n",
              "    }\n",
              "\n",
              "    .dataframe tbody tr th {\n",
              "        vertical-align: top;\n",
              "    }\n",
              "\n",
              "    .dataframe thead th {\n",
              "        text-align: right;\n",
              "    }\n",
              "</style>\n",
              "<table border=\"1\" class=\"dataframe\">\n",
              "  <thead>\n",
              "    <tr style=\"text-align: right;\">\n",
              "      <th></th>\n",
              "      <th>CustAccountBalance</th>\n",
              "      <th>TransactionAmount (INR)</th>\n",
              "      <th>Gender</th>\n",
              "      <th>age</th>\n",
              "      <th>day</th>\n",
              "      <th>month</th>\n",
              "      <th>hour</th>\n",
              "      <th>totalTransaction</th>\n",
              "    </tr>\n",
              "  </thead>\n",
              "  <tbody>\n",
              "    <tr>\n",
              "      <th>CustAccountBalance</th>\n",
              "      <td>1.000</td>\n",
              "      <td>0.061</td>\n",
              "      <td>0.003</td>\n",
              "      <td>0.122</td>\n",
              "      <td>0.009</td>\n",
              "      <td>0.002</td>\n",
              "      <td>0.005</td>\n",
              "      <td>0.001</td>\n",
              "    </tr>\n",
              "    <tr>\n",
              "      <th>TransactionAmount (INR)</th>\n",
              "      <td>0.061</td>\n",
              "      <td>1.000</td>\n",
              "      <td>-0.015</td>\n",
              "      <td>0.103</td>\n",
              "      <td>-0.003</td>\n",
              "      <td>-0.003</td>\n",
              "      <td>0.006</td>\n",
              "      <td>-0.000</td>\n",
              "    </tr>\n",
              "    <tr>\n",
              "      <th>Gender</th>\n",
              "      <td>0.003</td>\n",
              "      <td>-0.015</td>\n",
              "      <td>1.000</td>\n",
              "      <td>0.036</td>\n",
              "      <td>-0.002</td>\n",
              "      <td>0.001</td>\n",
              "      <td>0.003</td>\n",
              "      <td>0.000</td>\n",
              "    </tr>\n",
              "    <tr>\n",
              "      <th>age</th>\n",
              "      <td>0.122</td>\n",
              "      <td>0.103</td>\n",
              "      <td>0.036</td>\n",
              "      <td>1.000</td>\n",
              "      <td>0.020</td>\n",
              "      <td>0.006</td>\n",
              "      <td>0.003</td>\n",
              "      <td>0.000</td>\n",
              "    </tr>\n",
              "    <tr>\n",
              "      <th>day</th>\n",
              "      <td>0.009</td>\n",
              "      <td>-0.003</td>\n",
              "      <td>-0.002</td>\n",
              "      <td>0.020</td>\n",
              "      <td>1.000</td>\n",
              "      <td>0.261</td>\n",
              "      <td>-0.002</td>\n",
              "      <td>0.000</td>\n",
              "    </tr>\n",
              "    <tr>\n",
              "      <th>month</th>\n",
              "      <td>0.002</td>\n",
              "      <td>-0.003</td>\n",
              "      <td>0.001</td>\n",
              "      <td>0.006</td>\n",
              "      <td>0.261</td>\n",
              "      <td>1.000</td>\n",
              "      <td>0.003</td>\n",
              "      <td>-0.000</td>\n",
              "    </tr>\n",
              "    <tr>\n",
              "      <th>hour</th>\n",
              "      <td>0.005</td>\n",
              "      <td>0.006</td>\n",
              "      <td>0.003</td>\n",
              "      <td>0.003</td>\n",
              "      <td>-0.002</td>\n",
              "      <td>0.003</td>\n",
              "      <td>1.000</td>\n",
              "      <td>-0.003</td>\n",
              "    </tr>\n",
              "    <tr>\n",
              "      <th>totalTransaction</th>\n",
              "      <td>0.001</td>\n",
              "      <td>-0.000</td>\n",
              "      <td>0.000</td>\n",
              "      <td>0.000</td>\n",
              "      <td>0.000</td>\n",
              "      <td>-0.000</td>\n",
              "      <td>-0.003</td>\n",
              "      <td>1.000</td>\n",
              "    </tr>\n",
              "  </tbody>\n",
              "</table>\n",
              "</div>\n",
              "      <button class=\"colab-df-convert\" onclick=\"convertToInteractive('df-8f3ab914-2849-4ef3-b082-3a19afc50014')\"\n",
              "              title=\"Convert this dataframe to an interactive table.\"\n",
              "              style=\"display:none;\">\n",
              "        \n",
              "  <svg xmlns=\"http://www.w3.org/2000/svg\" height=\"24px\"viewBox=\"0 0 24 24\"\n",
              "       width=\"24px\">\n",
              "    <path d=\"M0 0h24v24H0V0z\" fill=\"none\"/>\n",
              "    <path d=\"M18.56 5.44l.94 2.06.94-2.06 2.06-.94-2.06-.94-.94-2.06-.94 2.06-2.06.94zm-11 1L8.5 8.5l.94-2.06 2.06-.94-2.06-.94L8.5 2.5l-.94 2.06-2.06.94zm10 10l.94 2.06.94-2.06 2.06-.94-2.06-.94-.94-2.06-.94 2.06-2.06.94z\"/><path d=\"M17.41 7.96l-1.37-1.37c-.4-.4-.92-.59-1.43-.59-.52 0-1.04.2-1.43.59L10.3 9.45l-7.72 7.72c-.78.78-.78 2.05 0 2.83L4 21.41c.39.39.9.59 1.41.59.51 0 1.02-.2 1.41-.59l7.78-7.78 2.81-2.81c.8-.78.8-2.07 0-2.86zM5.41 20L4 18.59l7.72-7.72 1.47 1.35L5.41 20z\"/>\n",
              "  </svg>\n",
              "      </button>\n",
              "      \n",
              "  <style>\n",
              "    .colab-df-container {\n",
              "      display:flex;\n",
              "      flex-wrap:wrap;\n",
              "      gap: 12px;\n",
              "    }\n",
              "\n",
              "    .colab-df-convert {\n",
              "      background-color: #E8F0FE;\n",
              "      border: none;\n",
              "      border-radius: 50%;\n",
              "      cursor: pointer;\n",
              "      display: none;\n",
              "      fill: #1967D2;\n",
              "      height: 32px;\n",
              "      padding: 0 0 0 0;\n",
              "      width: 32px;\n",
              "    }\n",
              "\n",
              "    .colab-df-convert:hover {\n",
              "      background-color: #E2EBFA;\n",
              "      box-shadow: 0px 1px 2px rgba(60, 64, 67, 0.3), 0px 1px 3px 1px rgba(60, 64, 67, 0.15);\n",
              "      fill: #174EA6;\n",
              "    }\n",
              "\n",
              "    [theme=dark] .colab-df-convert {\n",
              "      background-color: #3B4455;\n",
              "      fill: #D2E3FC;\n",
              "    }\n",
              "\n",
              "    [theme=dark] .colab-df-convert:hover {\n",
              "      background-color: #434B5C;\n",
              "      box-shadow: 0px 1px 3px 1px rgba(0, 0, 0, 0.15);\n",
              "      filter: drop-shadow(0px 1px 2px rgba(0, 0, 0, 0.3));\n",
              "      fill: #FFFFFF;\n",
              "    }\n",
              "  </style>\n",
              "\n",
              "      <script>\n",
              "        const buttonEl =\n",
              "          document.querySelector('#df-8f3ab914-2849-4ef3-b082-3a19afc50014 button.colab-df-convert');\n",
              "        buttonEl.style.display =\n",
              "          google.colab.kernel.accessAllowed ? 'block' : 'none';\n",
              "\n",
              "        async function convertToInteractive(key) {\n",
              "          const element = document.querySelector('#df-8f3ab914-2849-4ef3-b082-3a19afc50014');\n",
              "          const dataTable =\n",
              "            await google.colab.kernel.invokeFunction('convertToInteractive',\n",
              "                                                     [key], {});\n",
              "          if (!dataTable) return;\n",
              "\n",
              "          const docLinkHtml = 'Like what you see? Visit the ' +\n",
              "            '<a target=\"_blank\" href=https://colab.research.google.com/notebooks/data_table.ipynb>data table notebook</a>'\n",
              "            + ' to learn more about interactive tables.';\n",
              "          element.innerHTML = '';\n",
              "          dataTable['output_type'] = 'display_data';\n",
              "          await google.colab.output.renderOutput(dataTable, element);\n",
              "          const docLink = document.createElement('div');\n",
              "          docLink.innerHTML = docLinkHtml;\n",
              "          element.appendChild(docLink);\n",
              "        }\n",
              "      </script>\n",
              "    </div>\n",
              "  </div>\n",
              "  "
            ]
          },
          "metadata": {},
          "execution_count": 158
        }
      ]
    },
    {
      "cell_type": "markdown",
      "source": [
        "# K-Mean"
      ],
      "metadata": {
        "id": "PEw98siOVwPl"
      }
    },
    {
      "cell_type": "markdown",
      "source": [
        "## Elbow Method"
      ],
      "metadata": {
        "id": "PaH9MAzDWKDa"
      }
    },
    {
      "cell_type": "markdown",
      "source": [
        "We are first going to determine the most appropriate number of clusters using both the elbow method with distortion score and the silhoette coefficient.\n",
        "Also, next time is may be better to use GridSearchCV"
      ],
      "metadata": {
        "id": "x0ka1tpGV36M"
      }
    },
    {
      "cell_type": "code",
      "source": [
        "kmeans_var = {\"init\": \"random\",\"random_state\": 314}\n",
        "sse = []\n",
        "\n",
        "for k in range(1, 20):\n",
        "  kmeans = KMeans(n_clusters=k, **kmeans_var)\n",
        "  kmeans.fit(df_normal)\n",
        "  sse.append(kmeans.inertia_)\n",
        "  print(k)"
      ],
      "metadata": {
        "colab": {
          "base_uri": "https://localhost:8080/"
        },
        "id": "ja8whrsiWO1S",
        "outputId": "f25c9aac-cbf6-43cb-e1c3-a2a04f509428"
      },
      "execution_count": 159,
      "outputs": [
        {
          "output_type": "stream",
          "name": "stdout",
          "text": [
            "1\n",
            "2\n",
            "3\n",
            "4\n",
            "5\n",
            "6\n",
            "7\n",
            "8\n",
            "9\n",
            "10\n",
            "11\n",
            "12\n",
            "13\n",
            "14\n",
            "15\n",
            "16\n",
            "17\n",
            "18\n",
            "19\n"
          ]
        }
      ]
    },
    {
      "cell_type": "code",
      "source": [
        "elbow = KneeLocator(\n",
        "    range(1,20),\n",
        "    sse,\n",
        "    curve=\"convex\",\n",
        "    direction=\"decreasing\"\n",
        ")\n",
        "\n",
        "plt.plot(range(1, 20), sse)\n",
        "plt.xticks(range(1, 20))\n",
        "plt.xlabel(\"Number of Clusters\")\n",
        "plt.ylabel(\"SSE\")\n",
        "plt.axvline(x=elbow.knee, color='red', linestyle='--')\n",
        "plt.axhline(y=sse[elbow.knee-1], color='green', linestyle='--')\n",
        "print(\"Elbow:\",elbow.knee)\n",
        "print(\"score:\",sse[elbow.knee-1])\n"
      ],
      "metadata": {
        "id": "SpEjsn-PY4SH",
        "colab": {
          "base_uri": "https://localhost:8080/",
          "height": 314
        },
        "outputId": "56830d0d-ccf8-4531-fe7e-aed56de7b55e"
      },
      "execution_count": 160,
      "outputs": [
        {
          "output_type": "stream",
          "name": "stdout",
          "text": [
            "Elbow: 6\n",
            "score: 73.02171450030679\n"
          ]
        },
        {
          "output_type": "display_data",
          "data": {
            "text/plain": [
              "<Figure size 432x288 with 1 Axes>"
            ],
            "image/png": "[encoded data removed]"
          },
          "metadata": {
            "needs_background": "light"
          }
        }
      ]
    },
    {
      "cell_type": "markdown",
      "source": [
        "## Silhouette coefficient"
      ],
      "metadata": {
        "id": "ScfPw_63h3-b"
      }
    },
    {
      "cell_type": "markdown",
      "source": [
        "Sadly I do not have access to enough resources to run this code.  After running for an hour, I was unable to calculate a single score.\n",
        "\n",
        "However, I could reduce the number of features when performing silhouette and clusting, but I am interested in using and analyzing all features within the dataset.  "
      ],
      "metadata": {
        "id": "LmbY74IL5Vph"
      }
    },
    {
      "cell_type": "code",
      "source": [
        "# silhouette = []\n",
        "\n",
        "# for k in range(2,10):\n",
        "#   kmeans = KMeans(n_clusters=k, **kmeans_var)\n",
        "#   kmeans.fit(df_reduce)\n",
        "#   score = silhouette_score(df_reduce, kmeans.labels_)\n",
        "#   silhouette.append(score)\n",
        "#   print(k)\n",
        "\n",
        "# plt.plot(range(2, 20), silhouette)\n",
        "# plt.xticks(range(2, 20))\n",
        "# plt.xlabel(\"Number of Clusters\")\n",
        "# plt.ylabel(\"Silhouette Coefficient\")\n",
        "# plt.axvline(x=silhouette.index(max(silhouette)), color='red', linestyle='--')\n",
        "# plt.axhline(y=max(silhouette), color='green', linestyle='--')\n",
        "\n",
        "# print(\"Clusters:\",silhouette.index(max(silhouette)))\n",
        "# print(\"Score:\",max(silhouette))"
      ],
      "metadata": {
        "id": "IdHeyzuhhO-R"
      },
      "execution_count": 161,
      "outputs": []
    },
    {
      "cell_type": "markdown",
      "source": [
        "### Visualizing Clusters"
      ],
      "metadata": {
        "id": "OaOH_gMc3rzi"
      }
    },
    {
      "cell_type": "markdown",
      "source": [
        "First we need to fit the model to the optimal number of clusters"
      ],
      "metadata": {
        "id": "uGiK4Cb79yhN"
      }
    },
    {
      "cell_type": "code",
      "source": [
        "kmeans = KMeans(n_clusters=elbow.knee, **kmeans_var)\n",
        "kmeans.fit(df_normal)\n",
        "labels = kmeans.predict(df_normal)\n",
        "df_kmeans=df_normal.copy()\n",
        "df_kmeans['cluster']=labels\n"
      ],
      "metadata": {
        "id": "3DQt3fYL9m6x"
      },
      "execution_count": 162,
      "outputs": []
    },
    {
      "cell_type": "code",
      "source": [
        "u_labels = np.unique(labels)\n",
        "\n",
        "variables=len(df_kmeans.axes[1])\n",
        "\n",
        "fig, axs = plt.subplots(variables, variables, figsize=(30,30))\n",
        "for i, xaxis in enumerate(df_kmeans.columns):\n",
        "  for j, yaxis in enumerate(df_kmeans.columns):\n",
        "    if i < j:\n",
        "      continue  #cutting down on the number of plots being graphed for performance \n",
        "    for k in u_labels:\n",
        "      mask = labels == k\n",
        "      axs[i, j].scatter(df_kmeans.loc[mask, xaxis], df_kmeans.loc[mask, yaxis])\n",
        "    axs[i, j].set_xlabel(xaxis)\n",
        "    axs[i, j].set_ylabel(yaxis)\n",
        "    axs[i, j].set_xticks([])\n",
        "    axs[i, j].set_yticks([])\n",
        "\n",
        "plt.tight_layout()\n",
        "plt.show()"
      ],
      "metadata": {
        "id": "OA86WD5Alk_A",
        "colab": {
          "base_uri": "https://localhost:8080/",
          "height": 1000
        },
        "outputId": "1693d861-80d6-4945-ba9e-6350eaa26156"
      },
      "execution_count": 163,
      "outputs": [
        {
          "output_type": "display_data",
          "data": {
            "text/plain": [
              "<Figure size 2160x2160 with 81 Axes>"
            ],
            "image/png": "[encoded data removed]"
          },
          "metadata": {
            "needs_background": "light"
          }
        }
      ]
    },
    {
      "cell_type": "markdown",
      "source": [
        "### Describe Charateristics of Clusters\n"
      ],
      "metadata": {
        "id": "jAHUFcXKE-J4"
      }
    },
    {
      "cell_type": "markdown",
      "source": [
        "With the above graph, we are able to see clear seperation within different combinations of variables.  Now lets try to get some insight into groups of customers we have segmented.  "
      ],
      "metadata": {
        "id": "epj8q3KmB7-i"
      }
    },
    {
      "cell_type": "markdown",
      "source": [
        "Checking the mean values prior to normalization"
      ],
      "metadata": {
        "id": "iq9vZ7WEG2fq"
      }
    },
    {
      "cell_type": "code",
      "source": [
        "dfint['cluster']=labels\n",
        "print(dfint['cluster'].value_counts(normalize=True))\n"
      ],
      "metadata": {
        "colab": {
          "base_uri": "https://localhost:8080/"
        },
        "id": "aJ9v43NX-1vR",
        "outputId": "a436113c-79e2-4d58-e52f-779f51f93ff1"
      },
      "execution_count": 166,
      "outputs": [
        {
          "output_type": "stream",
          "name": "stdout",
          "text": [
            "2    0.343512\n",
            "4    0.203879\n",
            "1    0.201551\n",
            "5    0.165828\n",
            "3    0.082239\n",
            "0    0.002991\n",
            "Name: cluster, dtype: float64\n"
          ]
        },
        {
          "output_type": "stream",
          "name": "stderr",
          "text": [
            "<ipython-input-166-361ee2418af6>:1: SettingWithCopyWarning: \n",
            "A value is trying to be set on a copy of a slice from a DataFrame.\n",
            "Try using .loc[row_indexer,col_indexer] = value instead\n",
            "\n",
            "See the caveats in the documentation: https://pandas.pydata.org/pandas-docs/stable/user_guide/indexing.html#returning-a-view-versus-a-copy\n",
            "  dfint['cluster']=labels\n"
          ]
        }
      ]
    },
    {
      "cell_type": "markdown",
      "source": [
        "We can see there are large differences in the total population capture individual clusters.  "
      ],
      "metadata": {
        "id": "UMMS9rj4IA6D"
      }
    },
    {
      "cell_type": "markdown",
      "source": [
        "Using our unnormalized dataframe to get a more intuative understanding of average value per value seperated by cluster.  "
      ],
      "metadata": {
        "id": "OoD_A9bgarDu"
      }
    },
    {
      "cell_type": "code",
      "source": [
        "dfint.groupby('cluster').mean().round(3).T\n"
      ],
      "metadata": {
        "colab": {
          "base_uri": "https://localhost:8080/",
          "height": 300
        },
        "id": "mbBUus27INWT",
        "outputId": "f70950e3-1906-499d-f7ea-2c652d7ac263"
      },
      "execution_count": 167,
      "outputs": [
        {
          "output_type": "execute_result",
          "data": {
            "text/plain": [
              "cluster                            0          1          2           3  \\\n",
              "CustAccountBalance       4416099.169  75767.808  69455.493  317430.218   \n",
              "TransactionAmount (INR)    70099.339   1295.140   1015.232    2535.430   \n",
              "Gender                         0.732      0.000      1.000       0.782   \n",
              "age                           46.203     34.837     35.031      58.330   \n",
              "day                           14.735     15.658     16.445      15.085   \n",
              "month                          7.450      8.353      8.689       7.809   \n",
              "hour                          10.829     10.362     10.432      10.629   \n",
              "totalTransaction               1.326      1.242      1.000       1.243   \n",
              "\n",
              "cluster                          4          5  \n",
              "CustAccountBalance       72347.355  77597.984  \n",
              "TransactionAmount (INR)   1193.811   1091.972  \n",
              "Gender                       0.783      0.925  \n",
              "age                         35.616     35.633  \n",
              "day                          8.526     15.569  \n",
              "month                        3.184      8.245  \n",
              "hour                        10.374     10.407  \n",
              "totalTransaction             1.228      2.322  "
            ],
            "text/html": [
              "\n",
              "  <div id=\"df-cdf87f6f-8ad3-4336-98bd-7490cda18ff9\">\n",
              "    <div class=\"colab-df-container\">\n",
              "      <div>\n",
              "<style scoped>\n",
              "    .dataframe tbody tr th:only-of-type {\n",
              "        vertical-align: middle;\n",
              "    }\n",
              "\n",
              "    .dataframe tbody tr th {\n",
              "        vertical-align: top;\n",
              "    }\n",
              "\n",
              "    .dataframe thead th {\n",
              "        text-align: right;\n",
              "    }\n",
              "</style>\n",
              "<table border=\"1\" class=\"dataframe\">\n",
              "  <thead>\n",
              "    <tr style=\"text-align: right;\">\n",
              "      <th>cluster</th>\n",
              "      <th>0</th>\n",
              "      <th>1</th>\n",
              "      <th>2</th>\n",
              "      <th>3</th>\n",
              "      <th>4</th>\n",
              "      <th>5</th>\n",
              "    </tr>\n",
              "  </thead>\n",
              "  <tbody>\n",
              "    <tr>\n",
              "      <th>CustAccountBalance</th>\n",
              "      <td>4416099.169</td>\n",
              "      <td>75767.808</td>\n",
              "      <td>69455.493</td>\n",
              "      <td>317430.218</td>\n",
              "      <td>72347.355</td>\n",
              "      <td>77597.984</td>\n",
              "    </tr>\n",
              "    <tr>\n",
              "      <th>TransactionAmount (INR)</th>\n",
              "      <td>70099.339</td>\n",
              "      <td>1295.140</td>\n",
              "      <td>1015.232</td>\n",
              "      <td>2535.430</td>\n",
              "      <td>1193.811</td>\n",
              "      <td>1091.972</td>\n",
              "    </tr>\n",
              "    <tr>\n",
              "      <th>Gender</th>\n",
              "      <td>0.732</td>\n",
              "      <td>0.000</td>\n",
              "      <td>1.000</td>\n",
              "      <td>0.782</td>\n",
              "      <td>0.783</td>\n",
              "      <td>0.925</td>\n",
              "    </tr>\n",
              "    <tr>\n",
              "      <th>age</th>\n",
              "      <td>46.203</td>\n",
              "      <td>34.837</td>\n",
              "      <td>35.031</td>\n",
              "      <td>58.330</td>\n",
              "      <td>35.616</td>\n",
              "      <td>35.633</td>\n",
              "    </tr>\n",
              "    <tr>\n",
              "      <th>day</th>\n",
              "      <td>14.735</td>\n",
              "      <td>15.658</td>\n",
              "      <td>16.445</td>\n",
              "      <td>15.085</td>\n",
              "      <td>8.526</td>\n",
              "      <td>15.569</td>\n",
              "    </tr>\n",
              "    <tr>\n",
              "      <th>month</th>\n",
              "      <td>7.450</td>\n",
              "      <td>8.353</td>\n",
              "      <td>8.689</td>\n",
              "      <td>7.809</td>\n",
              "      <td>3.184</td>\n",
              "      <td>8.245</td>\n",
              "    </tr>\n",
              "    <tr>\n",
              "      <th>hour</th>\n",
              "      <td>10.829</td>\n",
              "      <td>10.362</td>\n",
              "      <td>10.432</td>\n",
              "      <td>10.629</td>\n",
              "      <td>10.374</td>\n",
              "      <td>10.407</td>\n",
              "    </tr>\n",
              "    <tr>\n",
              "      <th>totalTransaction</th>\n",
              "      <td>1.326</td>\n",
              "      <td>1.242</td>\n",
              "      <td>1.000</td>\n",
              "      <td>1.243</td>\n",
              "      <td>1.228</td>\n",
              "      <td>2.322</td>\n",
              "    </tr>\n",
              "  </tbody>\n",
              "</table>\n",
              "</div>\n",
              "      <button class=\"colab-df-convert\" onclick=\"convertToInteractive('df-cdf87f6f-8ad3-4336-98bd-7490cda18ff9')\"\n",
              "              title=\"Convert this dataframe to an interactive table.\"\n",
              "              style=\"display:none;\">\n",
              "        \n",
              "  <svg xmlns=\"http://www.w3.org/2000/svg\" height=\"24px\"viewBox=\"0 0 24 24\"\n",
              "       width=\"24px\">\n",
              "    <path d=\"M0 0h24v24H0V0z\" fill=\"none\"/>\n",
              "    <path d=\"M18.56 5.44l.94 2.06.94-2.06 2.06-.94-2.06-.94-.94-2.06-.94 2.06-2.06.94zm-11 1L8.5 8.5l.94-2.06 2.06-.94-2.06-.94L8.5 2.5l-.94 2.06-2.06.94zm10 10l.94 2.06.94-2.06 2.06-.94-2.06-.94-.94-2.06-.94 2.06-2.06.94z\"/><path d=\"M17.41 7.96l-1.37-1.37c-.4-.4-.92-.59-1.43-.59-.52 0-1.04.2-1.43.59L10.3 9.45l-7.72 7.72c-.78.78-.78 2.05 0 2.83L4 21.41c.39.39.9.59 1.41.59.51 0 1.02-.2 1.41-.59l7.78-7.78 2.81-2.81c.8-.78.8-2.07 0-2.86zM5.41 20L4 18.59l7.72-7.72 1.47 1.35L5.41 20z\"/>\n",
              "  </svg>\n",
              "      </button>\n",
              "      \n",
              "  <style>\n",
              "    .colab-df-container {\n",
              "      display:flex;\n",
              "      flex-wrap:wrap;\n",
              "      gap: 12px;\n",
              "    }\n",
              "\n",
              "    .colab-df-convert {\n",
              "      background-color: #E8F0FE;\n",
              "      border: none;\n",
              "      border-radius: 50%;\n",
              "      cursor: pointer;\n",
              "      display: none;\n",
              "      fill: #1967D2;\n",
              "      height: 32px;\n",
              "      padding: 0 0 0 0;\n",
              "      width: 32px;\n",
              "    }\n",
              "\n",
              "    .colab-df-convert:hover {\n",
              "      background-color: #E2EBFA;\n",
              "      box-shadow: 0px 1px 2px rgba(60, 64, 67, 0.3), 0px 1px 3px 1px rgba(60, 64, 67, 0.15);\n",
              "      fill: #174EA6;\n",
              "    }\n",
              "\n",
              "    [theme=dark] .colab-df-convert {\n",
              "      background-color: #3B4455;\n",
              "      fill: #D2E3FC;\n",
              "    }\n",
              "\n",
              "    [theme=dark] .colab-df-convert:hover {\n",
              "      background-color: #434B5C;\n",
              "      box-shadow: 0px 1px 3px 1px rgba(0, 0, 0, 0.15);\n",
              "      filter: drop-shadow(0px 1px 2px rgba(0, 0, 0, 0.3));\n",
              "      fill: #FFFFFF;\n",
              "    }\n",
              "  </style>\n",
              "\n",
              "      <script>\n",
              "        const buttonEl =\n",
              "          document.querySelector('#df-cdf87f6f-8ad3-4336-98bd-7490cda18ff9 button.colab-df-convert');\n",
              "        buttonEl.style.display =\n",
              "          google.colab.kernel.accessAllowed ? 'block' : 'none';\n",
              "\n",
              "        async function convertToInteractive(key) {\n",
              "          const element = document.querySelector('#df-cdf87f6f-8ad3-4336-98bd-7490cda18ff9');\n",
              "          const dataTable =\n",
              "            await google.colab.kernel.invokeFunction('convertToInteractive',\n",
              "                                                     [key], {});\n",
              "          if (!dataTable) return;\n",
              "\n",
              "          const docLinkHtml = 'Like what you see? Visit the ' +\n",
              "            '<a target=\"_blank\" href=https://colab.research.google.com/notebooks/data_table.ipynb>data table notebook</a>'\n",
              "            + ' to learn more about interactive tables.';\n",
              "          element.innerHTML = '';\n",
              "          dataTable['output_type'] = 'display_data';\n",
              "          await google.colab.output.renderOutput(dataTable, element);\n",
              "          const docLink = document.createElement('div');\n",
              "          docLink.innerHTML = docLinkHtml;\n",
              "          element.appendChild(docLink);\n",
              "        }\n",
              "      </script>\n",
              "    </div>\n",
              "  </div>\n",
              "  "
            ]
          },
          "metadata": {},
          "execution_count": 167
        }
      ]
    },
    {
      "cell_type": "markdown",
      "source": [
        "Time to make some inferences about the groups that we have found. \n",
        "\n",
        "\n",
        "\n",
        "0.   High balance, High spending\n",
        "\n",
        "> This group has the highest transaction amounts and highest account balance compared to all other bank members.  Comprised of 70% men and an average age of 46.  This population makes of the smallest percentage of all transactions.\n",
        "\n",
        "1.  Middle aged women\n",
        "\n",
        "> Transaction amount and current balance mirror groups 2, 4 and 5 but is most similar to group 2.\n",
        "\n",
        "2.  Middle aged men\n",
        "\n",
        "> Lowest transaction amount, balance, and number of transactions\n",
        "\n",
        "3.  Older individuals\n",
        "\n",
        "> This group has the highest average age, also with the second largest account balance on average.  This leads me to believe we may have captured part of the retiring population.\n",
        "\n",
        "4.  Early shoppers\n",
        "\n",
        "> All other groups perform their transactions at the end of the year on average while this group spends early in the year.  Comprised of 70% men \n",
        "\n",
        "5.  Frequent shoppers\n",
        "\n",
        "> This group has the highest number of transactions.  Even though there average transaction is one of the lowest, they perchase the most frequently.  "
      ],
      "metadata": {
        "id": "Vj_CMKb7FLzc"
      }
    },
    {
      "cell_type": "markdown",
      "source": [
        "These feel to match the intuition of what I could image bank customers.  However, we are going to use principal component analysis to identify any variables we can remove to help in generalizing the model.  "
      ],
      "metadata": {
        "id": "N8qypCr7g3zE"
      }
    },
    {
      "cell_type": "markdown",
      "source": [
        "# Principal Componenet Analysis"
      ],
      "metadata": {
        "id": "5LLSN8nqV168"
      }
    },
    {
      "cell_type": "markdown",
      "source": [
        "### Identify Principal Components"
      ],
      "metadata": {
        "id": "JEbcopgDhvqc"
      }
    },
    {
      "cell_type": "code",
      "source": [
        "PCA_model = PCA()\n",
        "PCA_model_data = PCA_model.fit(df_normal)\n",
        "\n",
        "PCA_variability= PCA_model.explained_variance_ratio_\n",
        "PCA_variability"
      ],
      "metadata": {
        "colab": {
          "base_uri": "https://localhost:8080/"
        },
        "id": "iHupWs4UWHUT",
        "outputId": "3a45d34c-9661-4f47-b031-98c74496cb87"
      },
      "execution_count": 172,
      "outputs": [
        {
          "output_type": "execute_result",
          "data": {
            "text/plain": [
              "array([0.157992  , 0.14897195, 0.1261967 , 0.12535368, 0.12458497,\n",
              "       0.11703594, 0.10750348, 0.09236127])"
            ]
          },
          "metadata": {},
          "execution_count": 172
        }
      ]
    },
    {
      "cell_type": "markdown",
      "source": [
        "All principal components explain relatively the same amount of variability within the dataset.   \n",
        "\n",
        "This produces a relatively straight line within the cumulative explained variance graph.  "
      ],
      "metadata": {
        "id": "DKW3YLiBiJ-D"
      }
    },
    {
      "cell_type": "code",
      "source": [
        "plt.figure(figsize=(20, 10))\n",
        "variables=len(df_normal.axes[1])\n",
        "\n",
        "plt.plot(range( variables), PCA_variability.cumsum(), marker='x', linestyle='--')\n",
        "plt.xlabel('Number of Components')\n",
        "plt.ylabel('Cumulative Explained Variance')"
      ],
      "metadata": {
        "colab": {
          "base_uri": "https://localhost:8080/",
          "height": 623
        },
        "id": "kglIfDcbefLk",
        "outputId": "ee5bc519-a7d8-4213-ee23-fd360fc5ccfe"
      },
      "execution_count": 175,
      "outputs": [
        {
          "output_type": "execute_result",
          "data": {
            "text/plain": [
              "Text(0, 0.5, 'Cumulative Explained Variance')"
            ]
          },
          "metadata": {},
          "execution_count": 175
        },
        {
          "output_type": "display_data",
          "data": {
            "text/plain": [
              "<Figure size 1440x720 with 1 Axes>"
            ],
            "image/png": "[encoded data removed]"
          },
          "metadata": {
            "needs_background": "light"
          }
        }
      ]
    },
    {
      "cell_type": "markdown",
      "source": [
        "Roughly 90 percent of the variance can be explained with 6 principal components."
      ],
      "metadata": {
        "id": "rP9_GoPhlp9n"
      }
    },
    {
      "cell_type": "markdown",
      "source": [
        "Lets take a look at the correlation matrix for correlation of variable within each principal component. "
      ],
      "metadata": {
        "id": "t1AlsZ_7mC5s"
      }
    },
    {
      "cell_type": "code",
      "source": [
        "pca = PCA(n_components=6)\n",
        "pca.fit(df_normal)\n",
        "\n",
        "pca_components = pd.DataFrame(\n",
        "    data=pca.components_.round(3),\n",
        "    columns=columnNames,\n",
        "    index=['component 1', 'component 2', 'component 3', 'component 4', 'component 5', 'component 6'])\n",
        "\n",
        "pca_components"
      ],
      "metadata": {
        "colab": {
          "base_uri": "https://localhost:8080/",
          "height": 237
        },
        "id": "AiJXZKmplnWs",
        "outputId": "22a23e04-00a5-4515-8751-3de7dd5c5571"
      },
      "execution_count": 177,
      "outputs": [
        {
          "output_type": "execute_result",
          "data": {
            "text/plain": [
              "             CustAccountBalance  TransactionAmount (INR)  Gender    age  \\\n",
              "component 1               0.115                    0.069   0.016  0.150   \n",
              "component 2               0.552                    0.508   0.091  0.623   \n",
              "component 3               0.026                    0.292  -0.931 -0.111   \n",
              "component 4              -0.020                    0.053  -0.133 -0.047   \n",
              "component 5              -0.013                    0.033  -0.105 -0.048   \n",
              "component 6              -0.660                    0.718   0.215 -0.020   \n",
              "\n",
              "               day  month   hour  totalTransaction  \n",
              "component 1  0.695  0.690  0.009            -0.000  \n",
              "component 2 -0.126 -0.153  0.041             0.001  \n",
              "component 3  0.012  0.002 -0.184             0.031  \n",
              "component 4 -0.005  0.008  0.662            -0.734  \n",
              "component 5 -0.005  0.008  0.725             0.678  \n",
              "component 6  0.004  0.034 -0.025             0.010  "
            ],
            "text/html": [
              "\n",
              "  <div id=\"df-536cfb4d-3d12-4e3b-9ea0-a6011052e845\">\n",
              "    <div class=\"colab-df-container\">\n",
              "      <div>\n",
              "<style scoped>\n",
              "    .dataframe tbody tr th:only-of-type {\n",
              "        vertical-align: middle;\n",
              "    }\n",
              "\n",
              "    .dataframe tbody tr th {\n",
              "        vertical-align: top;\n",
              "    }\n",
              "\n",
              "    .dataframe thead th {\n",
              "        text-align: right;\n",
              "    }\n",
              "</style>\n",
              "<table border=\"1\" class=\"dataframe\">\n",
              "  <thead>\n",
              "    <tr style=\"text-align: right;\">\n",
              "      <th></th>\n",
              "      <th>CustAccountBalance</th>\n",
              "      <th>TransactionAmount (INR)</th>\n",
              "      <th>Gender</th>\n",
              "      <th>age</th>\n",
              "      <th>day</th>\n",
              "      <th>month</th>\n",
              "      <th>hour</th>\n",
              "      <th>totalTransaction</th>\n",
              "    </tr>\n",
              "  </thead>\n",
              "  <tbody>\n",
              "    <tr>\n",
              "      <th>component 1</th>\n",
              "      <td>0.115</td>\n",
              "      <td>0.069</td>\n",
              "      <td>0.016</td>\n",
              "      <td>0.150</td>\n",
              "      <td>0.695</td>\n",
              "      <td>0.690</td>\n",
              "      <td>0.009</td>\n",
              "      <td>-0.000</td>\n",
              "    </tr>\n",
              "    <tr>\n",
              "      <th>component 2</th>\n",
              "      <td>0.552</td>\n",
              "      <td>0.508</td>\n",
              "      <td>0.091</td>\n",
              "      <td>0.623</td>\n",
              "      <td>-0.126</td>\n",
              "      <td>-0.153</td>\n",
              "      <td>0.041</td>\n",
              "      <td>0.001</td>\n",
              "    </tr>\n",
              "    <tr>\n",
              "      <th>component 3</th>\n",
              "      <td>0.026</td>\n",
              "      <td>0.292</td>\n",
              "      <td>-0.931</td>\n",
              "      <td>-0.111</td>\n",
              "      <td>0.012</td>\n",
              "      <td>0.002</td>\n",
              "      <td>-0.184</td>\n",
              "      <td>0.031</td>\n",
              "    </tr>\n",
              "    <tr>\n",
              "      <th>component 4</th>\n",
              "      <td>-0.020</td>\n",
              "      <td>0.053</td>\n",
              "      <td>-0.133</td>\n",
              "      <td>-0.047</td>\n",
              "      <td>-0.005</td>\n",
              "      <td>0.008</td>\n",
              "      <td>0.662</td>\n",
              "      <td>-0.734</td>\n",
              "    </tr>\n",
              "    <tr>\n",
              "      <th>component 5</th>\n",
              "      <td>-0.013</td>\n",
              "      <td>0.033</td>\n",
              "      <td>-0.105</td>\n",
              "      <td>-0.048</td>\n",
              "      <td>-0.005</td>\n",
              "      <td>0.008</td>\n",
              "      <td>0.725</td>\n",
              "      <td>0.678</td>\n",
              "    </tr>\n",
              "    <tr>\n",
              "      <th>component 6</th>\n",
              "      <td>-0.660</td>\n",
              "      <td>0.718</td>\n",
              "      <td>0.215</td>\n",
              "      <td>-0.020</td>\n",
              "      <td>0.004</td>\n",
              "      <td>0.034</td>\n",
              "      <td>-0.025</td>\n",
              "      <td>0.010</td>\n",
              "    </tr>\n",
              "  </tbody>\n",
              "</table>\n",
              "</div>\n",
              "      <button class=\"colab-df-convert\" onclick=\"convertToInteractive('df-536cfb4d-3d12-4e3b-9ea0-a6011052e845')\"\n",
              "              title=\"Convert this dataframe to an interactive table.\"\n",
              "              style=\"display:none;\">\n",
              "        \n",
              "  <svg xmlns=\"http://www.w3.org/2000/svg\" height=\"24px\"viewBox=\"0 0 24 24\"\n",
              "       width=\"24px\">\n",
              "    <path d=\"M0 0h24v24H0V0z\" fill=\"none\"/>\n",
              "    <path d=\"M18.56 5.44l.94 2.06.94-2.06 2.06-.94-2.06-.94-.94-2.06-.94 2.06-2.06.94zm-11 1L8.5 8.5l.94-2.06 2.06-.94-2.06-.94L8.5 2.5l-.94 2.06-2.06.94zm10 10l.94 2.06.94-2.06 2.06-.94-2.06-.94-.94-2.06-.94 2.06-2.06.94z\"/><path d=\"M17.41 7.96l-1.37-1.37c-.4-.4-.92-.59-1.43-.59-.52 0-1.04.2-1.43.59L10.3 9.45l-7.72 7.72c-.78.78-.78 2.05 0 2.83L4 21.41c.39.39.9.59 1.41.59.51 0 1.02-.2 1.41-.59l7.78-7.78 2.81-2.81c.8-.78.8-2.07 0-2.86zM5.41 20L4 18.59l7.72-7.72 1.47 1.35L5.41 20z\"/>\n",
              "  </svg>\n",
              "      </button>\n",
              "      \n",
              "  <style>\n",
              "    .colab-df-container {\n",
              "      display:flex;\n",
              "      flex-wrap:wrap;\n",
              "      gap: 12px;\n",
              "    }\n",
              "\n",
              "    .colab-df-convert {\n",
              "      background-color: #E8F0FE;\n",
              "      border: none;\n",
              "      border-radius: 50%;\n",
              "      cursor: pointer;\n",
              "      display: none;\n",
              "      fill: #1967D2;\n",
              "      height: 32px;\n",
              "      padding: 0 0 0 0;\n",
              "      width: 32px;\n",
              "    }\n",
              "\n",
              "    .colab-df-convert:hover {\n",
              "      background-color: #E2EBFA;\n",
              "      box-shadow: 0px 1px 2px rgba(60, 64, 67, 0.3), 0px 1px 3px 1px rgba(60, 64, 67, 0.15);\n",
              "      fill: #174EA6;\n",
              "    }\n",
              "\n",
              "    [theme=dark] .colab-df-convert {\n",
              "      background-color: #3B4455;\n",
              "      fill: #D2E3FC;\n",
              "    }\n",
              "\n",
              "    [theme=dark] .colab-df-convert:hover {\n",
              "      background-color: #434B5C;\n",
              "      box-shadow: 0px 1px 3px 1px rgba(0, 0, 0, 0.15);\n",
              "      filter: drop-shadow(0px 1px 2px rgba(0, 0, 0, 0.3));\n",
              "      fill: #FFFFFF;\n",
              "    }\n",
              "  </style>\n",
              "\n",
              "      <script>\n",
              "        const buttonEl =\n",
              "          document.querySelector('#df-536cfb4d-3d12-4e3b-9ea0-a6011052e845 button.colab-df-convert');\n",
              "        buttonEl.style.display =\n",
              "          google.colab.kernel.accessAllowed ? 'block' : 'none';\n",
              "\n",
              "        async function convertToInteractive(key) {\n",
              "          const element = document.querySelector('#df-536cfb4d-3d12-4e3b-9ea0-a6011052e845');\n",
              "          const dataTable =\n",
              "            await google.colab.kernel.invokeFunction('convertToInteractive',\n",
              "                                                     [key], {});\n",
              "          if (!dataTable) return;\n",
              "\n",
              "          const docLinkHtml = 'Like what you see? Visit the ' +\n",
              "            '<a target=\"_blank\" href=https://colab.research.google.com/notebooks/data_table.ipynb>data table notebook</a>'\n",
              "            + ' to learn more about interactive tables.';\n",
              "          element.innerHTML = '';\n",
              "          dataTable['output_type'] = 'display_data';\n",
              "          await google.colab.output.renderOutput(dataTable, element);\n",
              "          const docLink = document.createElement('div');\n",
              "          docLink.innerHTML = docLinkHtml;\n",
              "          element.appendChild(docLink);\n",
              "        }\n",
              "      </script>\n",
              "    </div>\n",
              "  </div>\n",
              "  "
            ]
          },
          "metadata": {},
          "execution_count": 177
        }
      ]
    },
    {
      "cell_type": "code",
      "source": [
        "s = sns.heatmap(\n",
        "    pca_components,\n",
        "    vmin=-1,\n",
        "    vmax=1,\n",
        "    cmap='RdBu',\n",
        "    annot=True\n",
        ")\n",
        "plt.title('Correlation Matrix')\n",
        "plt.show()"
      ],
      "metadata": {
        "colab": {
          "base_uri": "https://localhost:8080/",
          "height": 396
        },
        "id": "LBj4PIpzmuKT",
        "outputId": "7312d261-5712-4e88-f995-671d22fe0997"
      },
      "execution_count": 180,
      "outputs": [
        {
          "output_type": "display_data",
          "data": {
            "text/plain": [
              "<Figure size 432x288 with 2 Axes>"
            ],
            "image/png": "[encoded data removed]"
          },
          "metadata": {
            "needs_background": "light"
          }
        }
      ]
    },
    {
      "cell_type": "markdown",
      "source": [
        "With all principal compenents showing responsible for explaining relatviely the same amount of variance and each variable is present with a high correlation within at lease one of the principla components, I do not feel feature reduction is appropriate.\n",
        "\n",
        "\n",
        "\n",
        "> **Side Note:** This is the first time I have seen a linear PCA graph.  \n",
        "\n"
      ],
      "metadata": {
        "id": "SWhZZ9DMnTlj"
      }
    },
    {
      "cell_type": "markdown",
      "source": [
        "Thank you! "
      ],
      "metadata": {
        "id": "mshF-GxdoWiC"
      }
    }
  ]
}